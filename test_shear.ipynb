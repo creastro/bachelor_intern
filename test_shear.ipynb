{
 "cells": [
  {
   "cell_type": "code",
   "execution_count": 2,
   "id": "0b9d795b",
   "metadata": {
    "execution": {
     "iopub.execute_input": "2023-08-28T09:05:02.500537Z",
     "iopub.status.busy": "2023-08-28T09:05:02.500214Z",
     "iopub.status.idle": "2023-08-28T09:05:03.421316Z",
     "shell.execute_reply": "2023-08-28T09:05:03.420597Z",
     "shell.execute_reply.started": "2023-08-28T09:05:02.500510Z"
    }
   },
   "outputs": [],
   "source": [
    "import galsim\n",
    "import numpy as np\n",
    "import matplotlib.pyplot as plt\n",
    "from joblib import Parallel, delayed\n",
    "from tqdm import tqdm\n",
    "from scipy.optimize import curve_fit"
   ]
  },
  {
   "cell_type": "code",
   "execution_count": 4,
   "id": "2a05b0b1",
   "metadata": {
    "execution": {
     "iopub.execute_input": "2023-08-27T21:23:30.161466Z",
     "iopub.status.busy": "2023-08-27T21:23:30.161175Z",
     "iopub.status.idle": "2023-08-27T21:23:30.166321Z",
     "shell.execute_reply": "2023-08-27T21:23:30.165259Z",
     "shell.execute_reply.started": "2023-08-27T21:23:30.161436Z"
    }
   },
   "outputs": [],
   "source": [
    "def lin(x, a, b):\n",
    "    return a*x + b"
   ]
  },
  {
   "cell_type": "markdown",
   "id": "9438548d",
   "metadata": {},
   "source": [
    "### parameters"
   ]
  },
  {
   "cell_type": "code",
   "execution_count": 42,
   "id": "60efc88c",
   "metadata": {
    "execution": {
     "iopub.execute_input": "2023-08-27T23:26:18.847935Z",
     "iopub.status.busy": "2023-08-27T23:26:18.847507Z",
     "iopub.status.idle": "2023-08-27T23:26:18.855145Z",
     "shell.execute_reply": "2023-08-27T23:26:18.853963Z",
     "shell.execute_reply.started": "2023-08-27T23:26:18.847895Z"
    },
    "tags": []
   },
   "outputs": [],
   "source": [
    "# Euclid pixel scale and PSF size (0.16 normally but we avoid undersampling here)\n",
    "psf_size = 0.2\n",
    "pix_scale = 0.1\n",
    "\n",
    "n_obj_per_shear = 5_000  # + the rotated version\n",
    "n_shear = 50\n",
    "\n",
    "master_seed = 4242\n",
    "master_rng = np.random.RandomState(master_seed)"
   ]
  },
  {
   "cell_type": "code",
   "execution_count": 21,
   "id": "5927376f-c319-4ad1-82c7-75c4bde35261",
   "metadata": {
    "execution": {
     "iopub.execute_input": "2023-08-27T21:45:11.015595Z",
     "iopub.status.busy": "2023-08-27T21:45:11.015145Z",
     "iopub.status.idle": "2023-08-27T21:45:11.022302Z",
     "shell.execute_reply": "2023-08-27T21:45:11.020820Z",
     "shell.execute_reply.started": "2023-08-27T21:45:11.015552Z"
    }
   },
   "outputs": [],
   "source": [
    "rng = np.random.RandomState(2)\n"
   ]
  },
  {
   "cell_type": "code",
   "execution_count": 26,
   "id": "e0e44201-caa7-4e10-ac8c-7e700704e2c7",
   "metadata": {
    "execution": {
     "iopub.execute_input": "2023-08-27T21:45:15.955098Z",
     "iopub.status.busy": "2023-08-27T21:45:15.954658Z",
     "iopub.status.idle": "2023-08-27T21:45:15.963216Z",
     "shell.execute_reply": "2023-08-27T21:45:15.961782Z",
     "shell.execute_reply.started": "2023-08-27T21:45:15.955056Z"
    }
   },
   "outputs": [
    {
     "data": {
      "text/plain": [
       "0.5362942416699912"
      ]
     },
     "execution_count": 26,
     "metadata": {},
     "output_type": "execute_result"
    }
   ],
   "source": [
    "rng.uniform(low=0.2, high=1.)"
   ]
  },
  {
   "cell_type": "markdown",
   "id": "b988c539",
   "metadata": {},
   "source": [
    "### Function that run in parallel\n",
    "\n",
    "Should be splited in more sub functions.."
   ]
  },
  {
   "cell_type": "code",
   "execution_count": 63,
   "id": "3b9b3926",
   "metadata": {
    "execution": {
     "iopub.execute_input": "2023-08-28T00:01:57.094972Z",
     "iopub.status.busy": "2023-08-28T00:01:57.094739Z",
     "iopub.status.idle": "2023-08-28T00:01:57.105947Z",
     "shell.execute_reply": "2023-08-28T00:01:57.104728Z",
     "shell.execute_reply.started": "2023-08-28T00:01:57.094948Z"
    },
    "tags": []
   },
   "outputs": [],
   "source": [
    "def runner(g1_s, g2_s, seed):\n",
    "    \n",
    "    rng = np.random.RandomState(seed)\n",
    "    galsim_rng = galsim.BaseDeviate(seed)\n",
    "    \n",
    "    # Add a bit of noise helps the shape measurement usually\n",
    "    noise = galsim.GaussianNoise(rng=galsim_rng, sigma=1e-5)\n",
    "    noise_psf = galsim.GaussianNoise(rng=galsim_rng, sigma=1e-5)\n",
    "    \n",
    "    # Simple PSF\n",
    "    psf = galsim.Gaussian(fwhm=psf_size)\n",
    "    psf_img = psf.drawImage(scale=pix_scale)\n",
    "    psf_img.addNoise(noise_psf)\n",
    "    \n",
    "    # Get random galaxy parameters\n",
    "    gal_size = rng.uniform(low=0.2, high=1.)\n",
    "    g1, g2 = rng.normal(size=2)*0.2\n",
    "    while np.sqrt(g1**2 + g2**2) > 1:\n",
    "        g1, g2 = rng.normal(size=2)*0.2\n",
    "    \n",
    "    # Make galaxy\n",
    "    gal = galsim.Gaussian(flux = 1e5, fwhm=gal_size)\n",
    "    gal = gal.shear(g1=g1, g2=g2)\n",
    "    \n",
    "    # Make rotated version\n",
    "    # gal_rot = galsim.Gaussian(flux = 1e5, fwhm=gal_size)\n",
    "    # gal_rot = gal_rot.shear(g1=g1, g2=g2)\n",
    "    gal_rot = gal.rotate(90*galsim.degrees)\n",
    "    gal_rot = gal_rot.shear(g1=g1_s, g2=g2_s)\n",
    "\n",
    "    gal = gal.shear(g1=g1_s, g2=g2_s)\n",
    "    \n",
    "    # Convolve by the PSF\n",
    "    obj = galsim.Convolve((gal, psf))\n",
    "    obj_rot = galsim.Convolve((gal_rot, psf))\n",
    "    \n",
    "    # Draw\n",
    "    obj_img = obj.drawImage(scale=pix_scale)\n",
    "    obj_img.addNoise(noise)\n",
    "    obj_rot_img = obj_rot.drawImage(scale=pix_scale)\n",
    "    obj_rot_img.addNoise(noise)\n",
    "    \n",
    "    # Measure shear\n",
    "    obj_s = galsim.hsm.EstimateShear(obj_img, psf_img, strict=False)\n",
    "    if obj_s.error_message != '':\n",
    "        g1_meas = g2_meas = np.nan\n",
    "    else:\n",
    "        e1_meas = obj_s.corrected_e1\n",
    "        e2_meas = obj_s.corrected_e2\n",
    "        s_obj = galsim.Shear(e1=e1_meas, e2=e2_meas)\n",
    "        g1_meas = s_obj.g1\n",
    "        g2_meas = s_obj.g2\n",
    "\n",
    "    # Measure on rotated version\n",
    "    obj_rot_s = galsim.hsm.EstimateShear(obj_rot_img, psf_img, strict=False)\n",
    "    if (obj_rot_s.error_message != '') | np.isnan(g1_meas):\n",
    "        # If normal or rotated are failed, but bad values on both\n",
    "        g1_meas = g2_meas = np.nan\n",
    "        g1_rot_meas = g2_rot_meas = np.nan\n",
    "    else:\n",
    "        e1_rot_meas = obj_rot_s.corrected_e1\n",
    "        e2_rot_meas = obj_rot_s.corrected_e2\n",
    "        s_rot_obj = galsim.Shear(e1=e1_rot_meas, e2=e2_rot_meas)\n",
    "        g1_rot_meas = s_rot_obj.g1\n",
    "        g2_rot_meas = s_rot_obj.g2\n",
    "    \n",
    "    return g1_meas, g2_meas, g1_rot_meas, g2_rot_meas"
   ]
  },
  {
   "cell_type": "code",
   "execution_count": 32,
   "id": "bcc28ae9-94ec-4b74-bdb6-d95184cbc951",
   "metadata": {
    "execution": {
     "iopub.execute_input": "2023-08-25T11:31:16.159091Z",
     "iopub.status.busy": "2023-08-25T11:31:16.158568Z",
     "iopub.status.idle": "2023-08-25T11:31:16.164037Z",
     "shell.execute_reply": "2023-08-25T11:31:16.163089Z",
     "shell.execute_reply.started": "2023-08-25T11:31:16.159073Z"
    },
    "tags": []
   },
   "outputs": [],
   "source": [
    "rng_shear = np.random.RandomState(30)"
   ]
  },
  {
   "cell_type": "code",
   "execution_count": 35,
   "id": "a827ea4e-3d2d-46e9-be5c-5329418ca01b",
   "metadata": {
    "execution": {
     "iopub.execute_input": "2023-08-25T11:31:19.272949Z",
     "iopub.status.busy": "2023-08-25T11:31:19.272369Z",
     "iopub.status.idle": "2023-08-25T11:31:19.279981Z",
     "shell.execute_reply": "2023-08-25T11:31:19.278395Z",
     "shell.execute_reply.started": "2023-08-25T11:31:19.272906Z"
    },
    "tags": []
   },
   "outputs": [],
   "source": [
    "g1_t_tmp, g2_t_tmp = rng_shear.normal(size=2)"
   ]
  },
  {
   "cell_type": "code",
   "execution_count": 36,
   "id": "e599a033-5905-4316-b828-fa6a35f1ebdd",
   "metadata": {
    "execution": {
     "iopub.execute_input": "2023-08-25T11:31:19.662005Z",
     "iopub.status.busy": "2023-08-25T11:31:19.661610Z",
     "iopub.status.idle": "2023-08-25T11:31:19.665361Z",
     "shell.execute_reply": "2023-08-25T11:31:19.664836Z",
     "shell.execute_reply.started": "2023-08-25T11:31:19.661986Z"
    },
    "tags": []
   },
   "outputs": [
    {
     "data": {
      "text/plain": [
       "-0.9707109380088592"
      ]
     },
     "execution_count": 36,
     "metadata": {},
     "output_type": "execute_result"
    }
   ],
   "source": [
    "g1_t_tmp"
   ]
  },
  {
   "cell_type": "code",
   "execution_count": 16,
   "id": "2f719345-d51f-4457-948e-96e22f45c1af",
   "metadata": {
    "execution": {
     "iopub.execute_input": "2023-08-28T09:05:31.508773Z",
     "iopub.status.busy": "2023-08-28T09:05:31.507702Z",
     "iopub.status.idle": "2023-08-28T09:05:31.516001Z",
     "shell.execute_reply": "2023-08-28T09:05:31.514963Z",
     "shell.execute_reply.started": "2023-08-28T09:05:31.508702Z"
    }
   },
   "outputs": [
    {
     "data": {
      "text/plain": [
       "array([-0.67443873, -1.61106249])"
      ]
     },
     "execution_count": 16,
     "metadata": {},
     "output_type": "execute_result"
    }
   ],
   "source": [
    "np.random.normal(size=2)"
   ]
  },
  {
   "cell_type": "markdown",
   "id": "98160872",
   "metadata": {},
   "source": [
    "### Main loop"
   ]
  },
  {
   "cell_type": "code",
   "execution_count": 61,
   "id": "d816d7ed",
   "metadata": {
    "execution": {
     "iopub.execute_input": "2023-08-28T00:00:04.838268Z",
     "iopub.status.busy": "2023-08-28T00:00:04.837809Z",
     "iopub.status.idle": "2023-08-28T00:01:43.231213Z",
     "shell.execute_reply": "2023-08-28T00:01:43.229652Z",
     "shell.execute_reply.started": "2023-08-28T00:00:04.838221Z"
    },
    "tags": []
   },
   "outputs": [
    {
     "name": "stderr",
     "output_type": "stream",
     "text": [
      "100%|███████████████████████████████████████████| 50/50 [01:38<00:00,  1.97s/it]\n"
     ]
    }
   ],
   "source": [
    "g1_meas = []\n",
    "g2_meas = []\n",
    "g1_meas_std = []\n",
    "g2_meas_std = []\n",
    "g1_true = []\n",
    "g2_true = []\n",
    "rng_shear = np.random.RandomState(master_seed)\n",
    "for i in tqdm(range(n_shear), total=n_shear):\n",
    "    # g1_t_tmp, g2_t_tmp = rng_shear.normal(size=2)*0.02\n",
    "    g1_t_tmp, g2_t_tmp = np.random.random(size=2)*0.02\n",
    "    g1_true.append(g1_t_tmp)\n",
    "    g2_true.append(g2_t_tmp)\n",
    "    \n",
    "    # New galaxies parameters for each shear version (looks like it helps)\n",
    "    seeds = rng_shear.randint(low=0, high=2**32, size=n_obj_per_shear)\n",
    "    \n",
    "    g1_list_tmp = []\n",
    "    g2_list_tmp = []\n",
    "    res = []\n",
    "    \n",
    "    # Run in parallel\n",
    "    res_tmp = np.array(\n",
    "        Parallel(n_jobs=32)(\n",
    "            delayed(runner)(g1_t_tmp, g2_t_tmp, seeds[j]) for j in range(n_obj_per_shear)\n",
    "        )\n",
    "    )\n",
    "    \n",
    "    # Combine normal and rotated\n",
    "    g1_list_tmp = np.concatenate((res_tmp[:, 0], res_tmp[:, 2]))\n",
    "    g2_list_tmp = np.concatenate((res_tmp[:, 1], res_tmp[:, 3]))\n",
    "    \n",
    "    # Get the measured shear whitout failed \n",
    "    g1_meas.append(np.nanmean(g1_list_tmp))\n",
    "    g2_meas.append(np.nanmean(g2_list_tmp))\n",
    "\n",
    "g1_meas = np.array(g1_meas)\n",
    "g2_meas = np.array(g2_meas)\n",
    "g1_true = np.array(g1_true)\n",
    "g2_true = np.array(g2_true)"
   ]
  },
  {
   "cell_type": "markdown",
   "id": "27cfe3ca",
   "metadata": {},
   "source": [
    "### Plot results"
   ]
  },
  {
   "cell_type": "code",
   "execution_count": 62,
   "id": "8f00073a",
   "metadata": {
    "execution": {
     "iopub.execute_input": "2023-08-28T00:01:47.471751Z",
     "iopub.status.busy": "2023-08-28T00:01:47.471251Z",
     "iopub.status.idle": "2023-08-28T00:01:47.861110Z",
     "shell.execute_reply": "2023-08-28T00:01:47.860439Z",
     "shell.execute_reply.started": "2023-08-28T00:01:47.471699Z"
    },
    "tags": []
   },
   "outputs": [
    {
     "name": "stdout",
     "output_type": "stream",
     "text": [
      "m:  -0.0005916846815610082 +/- 0.00041582789832208226\n",
      "c:  6.2090742823899546e-06 +/- 4.946298322375337e-06\n"
     ]
    },
    {
     "data": {
      "text/plain": [
       "<matplotlib.legend.Legend at 0x7f1715d52310>"
      ]
     },
     "execution_count": 62,
     "metadata": {},
     "output_type": "execute_result"
    },
    {
     "data": {
      "image/png": "[encoded data removed]",
      "text/plain": [
       "<Figure size 700x500 with 1 Axes>"
      ]
     },
     "metadata": {},
     "output_type": "display_data"
    }
   ],
   "source": [
    "y = g1_meas-g1_true\n",
    "res = curve_fit(lin, g1_true, y)\n",
    "print(\"m: \", res[0][0], \"+/-\", np.sqrt(np.diag(res[1]))[0])\n",
    "print(\"c: \", res[0][1], \"+/-\", np.sqrt(np.diag(res[1]))[1])\n",
    "plt.figure(figsize=(7,5))\n",
    "plt.title('g1')\n",
    "plt.plot(g1_true, y, '+')\n",
    "plt.plot(g1_true, lin(g1_true, *res[0]), label='best-fit')\n",
    "plt.xlabel('g1_true')\n",
    "plt.ylabel('g1_meas - g1_true')\n",
    "plt.legend()"
   ]
  },
  {
   "cell_type": "code",
   "execution_count": 19,
   "id": "7d84d638",
   "metadata": {
    "execution": {
     "iopub.execute_input": "2023-08-27T21:40:52.897346Z",
     "iopub.status.busy": "2023-08-27T21:40:52.897096Z",
     "iopub.status.idle": "2023-08-27T21:40:53.125497Z",
     "shell.execute_reply": "2023-08-27T21:40:53.124935Z",
     "shell.execute_reply.started": "2023-08-27T21:40:52.897320Z"
    }
   },
   "outputs": [
    {
     "name": "stdout",
     "output_type": "stream",
     "text": [
      "m:  -0.00023670121844524935 +/- 7.558965143132105e-05\n",
      "c:  4.692526281854182e-07 +/- 1.3994266311779693e-06\n"
     ]
    },
    {
     "data": {
      "text/plain": [
       "<matplotlib.legend.Legend at 0x7f160a634210>"
      ]
     },
     "execution_count": 19,
     "metadata": {},
     "output_type": "execute_result"
    },
    {
     "data": {
      "image/png": "[encoded data removed]",
      "text/plain": [
       "<Figure size 700x500 with 1 Axes>"
      ]
     },
     "metadata": {},
     "output_type": "display_data"
    }
   ],
   "source": [
    "y = g2_meas-g2_true\n",
    "res = curve_fit(lin, g2_true, y)\n",
    "print(\"m: \", res[0][0], \"+/-\", np.sqrt(np.diag(res[1]))[0])\n",
    "print(\"c: \", res[0][1], \"+/-\", np.sqrt(np.diag(res[1]))[1])\n",
    "plt.figure(figsize=(7,5))\n",
    "plt.title('g2')\n",
    "plt.plot(g2_true, y, '+')\n",
    "plt.plot(g2_true, lin(g2_true, *res[0]), label='best-fit')\n",
    "plt.xlabel('g2_true')\n",
    "plt.ylabel('g2_meas - g2_true')\n",
    "plt.legend()"
   ]
  },
  {
   "cell_type": "code",
   "execution_count": null,
   "id": "51b67974",
   "metadata": {},
   "outputs": [],
   "source": []
  }
 ],
 "metadata": {
  "kernelspec": {
   "display_name": "Python 3 (ipykernel)",
   "language": "python",
   "name": "python3"
  },
  "language_info": {
   "codemirror_mode": {
    "name": "ipython",
    "version": 3
   },
   "file_extension": ".py",
   "mimetype": "text/x-python",
   "name": "python",
   "nbconvert_exporter": "python",
   "pygments_lexer": "ipython3",
   "version": "3.11.4"
  }
 },
 "nbformat": 4,
 "nbformat_minor": 5
}
