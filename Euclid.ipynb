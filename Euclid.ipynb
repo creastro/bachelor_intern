{
 "cells": [
  {
   "cell_type": "code",
   "execution_count": 16,
   "id": "32889966-301f-45aa-894f-640f90c4da2e",
   "metadata": {
    "execution": {
     "iopub.execute_input": "2023-08-21T15:48:45.158676Z",
     "iopub.status.busy": "2023-08-21T15:48:45.158223Z",
     "iopub.status.idle": "2023-08-21T15:48:45.165275Z",
     "shell.execute_reply": "2023-08-21T15:48:45.164139Z",
     "shell.execute_reply.started": "2023-08-21T15:48:45.158634Z"
    },
    "tags": []
   },
   "outputs": [],
   "source": [
    "import argparse\n",
    "import random\n",
    "import numpy as np\n",
    "import sys, os\n",
    "import logging\n",
    "import galsim\n",
    "import galsim.roman as roman\n",
    "import matplotlib.pyplot as plt\n",
    "from astropy.io import fits\n",
    "from astropy.visualization import make_lupton_rgb"
   ]
  },
  {
   "cell_type": "code",
   "execution_count": 17,
   "id": "bfe5d1f3-d15a-43ba-a564-6b188857274f",
   "metadata": {
    "execution": {
     "iopub.execute_input": "2023-08-21T15:48:45.398346Z",
     "iopub.status.busy": "2023-08-21T15:48:45.397910Z",
     "iopub.status.idle": "2023-08-21T15:48:45.404942Z",
     "shell.execute_reply": "2023-08-21T15:48:45.403785Z",
     "shell.execute_reply.started": "2023-08-21T15:48:45.398305Z"
    },
    "tags": []
   },
   "outputs": [],
   "source": [
    "logging.basicConfig(format=\"%(message)s\", stream=sys.stdout)\n",
    "logger = logging.getLogger(\"demo13\")\n",
    "logging_levels = { 0: logging.CRITICAL,\n",
    "                   1: logging.WARNING,\n",
    "                   2: logging.INFO,\n",
    "                   3: logging.DEBUG }"
   ]
  },
  {
   "cell_type": "code",
   "execution_count": 18,
   "id": "2ecae328-9778-4157-9c21-4fb3b498ca2f",
   "metadata": {
    "execution": {
     "iopub.execute_input": "2023-08-21T15:48:45.841487Z",
     "iopub.status.busy": "2023-08-21T15:48:45.840575Z",
     "iopub.status.idle": "2023-08-21T15:48:45.929413Z",
     "shell.execute_reply": "2023-08-21T15:48:45.928182Z",
     "shell.execute_reply.started": "2023-08-21T15:48:45.841445Z"
    },
    "tags": []
   },
   "outputs": [],
   "source": [
    "# cat1 = galsim.COSMOSCatalog(sample='25.2', area=roman.collecting_area, exptime=roman.exptime)\n",
    "# cat2 = galsim.COSMOSCatalog(sample='23.5', area=roman.collecting_area, exptime=roman.exptime)\n",
    "\n",
    "# cat1 = galsim.COSMOSCatalog(sample='25.2', area=9900, exptime=565)\n",
    "cat = galsim.COSMOSCatalog(sample='23.5', area=roman.collecting_area, exptime=roman.exptime)"
   ]
  },
  {
   "cell_type": "code",
   "execution_count": 19,
   "id": "a5bad829-3682-4338-aeb0-4b39caab771e",
   "metadata": {
    "execution": {
     "iopub.execute_input": "2023-08-21T15:48:46.089800Z",
     "iopub.status.busy": "2023-08-21T15:48:46.089442Z",
     "iopub.status.idle": "2023-08-21T15:48:46.097631Z",
     "shell.execute_reply": "2023-08-21T15:48:46.096391Z",
     "shell.execute_reply.started": "2023-08-21T15:48:46.089763Z"
    },
    "tags": []
   },
   "outputs": [],
   "source": [
    "#Euclid's filter\n",
    "\n",
    "datapath = galsim.meta_data.share_dir\n",
    "filter_filename = os.path.join(datapath, 'bandpasses/euclid.dat')\n",
    "bandpass = galsim.Bandpass(filter_filename, wave_type='Angstrom')"
   ]
  },
  {
   "cell_type": "markdown",
   "id": "e995c40c-0a3b-4004-bc76-5ae29a942f30",
   "metadata": {},
   "source": [
    "# PSF"
   ]
  },
  {
   "cell_type": "code",
   "execution_count": 20,
   "id": "1cf60dfe-eb62-427c-bb29-ecb423c8f5b9",
   "metadata": {
    "execution": {
     "iopub.execute_input": "2023-08-21T15:48:46.600710Z",
     "iopub.status.busy": "2023-08-21T15:48:46.600266Z",
     "iopub.status.idle": "2023-08-21T15:48:46.605942Z",
     "shell.execute_reply": "2023-08-21T15:48:46.604796Z",
     "shell.execute_reply.started": "2023-08-21T15:48:46.600666Z"
    },
    "tags": []
   },
   "outputs": [],
   "source": [
    "use_SCA = 7"
   ]
  },
  {
   "cell_type": "code",
   "execution_count": 21,
   "id": "04ad4dbf-d8ec-4f61-b628-53d05ebf6d17",
   "metadata": {
    "execution": {
     "iopub.execute_input": "2023-08-21T15:48:46.816992Z",
     "iopub.status.busy": "2023-08-21T15:48:46.816531Z",
     "iopub.status.idle": "2023-08-21T15:48:46.848837Z",
     "shell.execute_reply": "2023-08-21T15:48:46.847505Z",
     "shell.execute_reply.started": "2023-08-21T15:48:46.816949Z"
    },
    "tags": []
   },
   "outputs": [],
   "source": [
    "import numpy as np\n",
    "import os\n",
    "from galsim.utilities import LRU_Cache\n",
    "\n",
    "\"\"\"\n",
    "@file roman_psfs.py\n",
    "\n",
    "Part of the Roman Space Telescope module.  This file includes routines needed to define a realistic\n",
    "PSF for Roman.\n",
    "\"\"\"\n",
    "\n",
    "# Define a default set of bandpasses for which this routine works.\n",
    "default_bandpass_list = ['J129', 'F184', 'W149', 'Y106', 'Z087', 'H158']\n",
    "# Prefix for files containing information about Zernikes for each SCA for cycle 7.\n",
    "zemax_filepref = \"Roman_Phase-A_SRR_WFC_Zernike_and_Field_Data_170727\"\n",
    "zemax_filesuff = '.txt'\n",
    "zemax_wavelength = 1293. #nm\n",
    "\n",
    "# These need 'SCA*' prepended to the start to get the file name, and they live in\n",
    "# the share/roman directory.\n",
    "pupil_plane_file_longwave = '_full_mask.fits.gz'\n",
    "pupil_plane_file_shortwave = '_rim_mask.fits.gz'\n",
    "\n",
    "def __make_aperture(SCA, pupil_plane_type, pupil_bin, wave, gsparams):\n",
    "    from galsim.roman import diameter, obscuration\n",
    "    from galsim import fits\n",
    "    from galsim import meta_data\n",
    "    from galsim.phase_psf import Aperture\n",
    "\n",
    "    # Load the pupil plane image.\n",
    "    if pupil_plane_type == 'long':\n",
    "        pupil_plane_im = os.path.join(meta_data.share_dir, 'roman',\n",
    "            'SCA%d'%SCA + pupil_plane_file_longwave)\n",
    "    else:\n",
    "        pupil_plane_im = os.path.join(meta_data.share_dir, 'roman',\n",
    "            'SCA%d'%SCA + pupil_plane_file_shortwave)\n",
    "    pupil_plane_im = fits.read(pupil_plane_im, read_header=True)\n",
    "    # Native pixel scale in the file is for the exit pupil.  We want the scale of the\n",
    "    # entrance pupil.  Fortunately, they provide the conversion as PUPILMAG in the header.\n",
    "    # They also use microns for units, and we want meters, hence the extra 1.e-6.\n",
    "    pupil_plane_im.scale *= pupil_plane_im.header['PUPILMAG'] * 1.e-6\n",
    "\n",
    "    pupil_plane_im = pupil_plane_im.bin(pupil_bin,pupil_bin)\n",
    "    \n",
    "    # diameter = 1.3\n",
    "    aper = Aperture(lam=wave, diam=diameter,\n",
    "                    obscuration=obscuration,\n",
    "                    pupil_plane_im=pupil_plane_im,\n",
    "                    gsparams=gsparams)\n",
    "    return aper\n",
    "\n",
    "# Usually a given run will only need one or a few different apertures for repeated getPSF calls.\n",
    "# So cache those apertures here to avoid having to remake them.\n",
    "_make_aperture = LRU_Cache(__make_aperture)\n",
    "\n",
    "def _get_single_PSF(SCA, bandpass, SCA_pos, pupil_bin,\n",
    "                    n_waves, extra_aberrations, wavelength,\n",
    "                    pupil_plane_type, gsparams):\n",
    "    \"\"\"Routine for making a single PSF.  This gets called by `getPSF` after it parses all the\n",
    "       options that were passed in.  Users will not directly interact with this routine.\n",
    "    \"\"\"\n",
    "    from galsim import OpticalPSF, ChromaticOpticalPSF\n",
    "    from galsim.roman import diameter\n",
    "    from galsim.bandpass import Bandpass\n",
    "\n",
    "    if wavelength is None:\n",
    "        wave = zemax_wavelength\n",
    "    elif isinstance(wavelength, Bandpass):\n",
    "        wave = wavelength = wavelength.effective_wavelength\n",
    "    else:\n",
    "        wave = wavelength\n",
    "\n",
    "    # All parameters relevant to the aperture.  We may be able to use a cached version.\n",
    "    aper = _make_aperture(SCA, pupil_plane_type, pupil_bin, wave, gsparams)\n",
    "\n",
    "    # Start reading in the aberrations for that SCA\n",
    "    aberrations, x_pos, y_pos = _read_aberrations(SCA)\n",
    "    # Do bilinear interpolation, unless we're exactly at the center (default).\n",
    "    use_aberrations = _interp_aberrations_bilinear(aberrations, x_pos, y_pos, SCA_pos)\n",
    "\n",
    "    if extra_aberrations is not None:\n",
    "        use_aberrations[:len(extra_aberrations)] += extra_aberrations\n",
    "    # We don't want to use piston, tip, or tilt aberrations.  The former doesn't affect the\n",
    "    # appearance of the PSF, and the latter cause centroid shifts.  So, we set the first 4\n",
    "    # numbers (corresponding to a place-holder, piston, tip, and tilt) to zero.\n",
    "    use_aberrations[0:4] = 0.\n",
    "    \n",
    "    # Now set up the PSF, including the option to interpolate over waves\n",
    "    \n",
    "    # diameter = 1.3\n",
    "    if wavelength is None:\n",
    "        PSF = ChromaticOpticalPSF(lam=zemax_wavelength,\n",
    "                                  diam=diameter, aberrations=use_aberrations,\n",
    "                                  aper=aper, gsparams=gsparams)\n",
    "        if n_waves is not None:\n",
    "            # To decide the range of wavelengths to use, check the bandpass.\n",
    "            bp = bandpass\n",
    "            PSF = PSF.interpolate(waves=np.linspace(bp.blue_limit, bp.red_limit, n_waves),\n",
    "                                  oversample_fac=1.5)\n",
    "    else:\n",
    "        tmp_aberrations = use_aberrations * zemax_wavelength / wavelength\n",
    "        PSF = OpticalPSF(lam=wavelength, diam=diameter,\n",
    "                         aberrations=tmp_aberrations,\n",
    "                         aper=aper, gsparams=gsparams)\n",
    "\n",
    "    return PSF\n",
    "def _read_aberrations(SCA):\n",
    "    \"\"\"\n",
    "    This is a helper routine that reads in aberrations for a particular SCA and wavelength (given as\n",
    "    galsim.roman.roman_psfs.zemax_wavelength) from stored files, and returns them along with the\n",
    "    field positions.\n",
    "\n",
    "    Parameters:\n",
    "        SCA:        The identifier for the SCA, from 1-18.\n",
    "\n",
    "    Returns:\n",
    "        NumPy arrays containing the aberrations, and x and y field positions.\n",
    "    \"\"\"\n",
    "    from galsim import meta_data\n",
    "    from galsim.roman import pixel_scale, n_pix, pixel_scale_mm\n",
    "\n",
    "    # Construct filename.\n",
    "    sca_str = '_%02d'%SCA\n",
    "    infile = os.path.join(meta_data.share_dir, 'roman',\n",
    "                          zemax_filepref + sca_str + zemax_filesuff)\n",
    "\n",
    "    # Read in data.\n",
    "    dat = np.loadtxt(infile)\n",
    "    # It actually has 5 field positions, not just 1, to allow us to make position-dependent PSFs\n",
    "    # within an SCA eventually.  Put it in the required format: an array of length (5 field\n",
    "    # positions, 23 Zernikes), with the first entry empty (Zernike polynomials are 1-indexed so we\n",
    "    # use entries 1-22).  The units are waves.\n",
    "    aberrations = np.zeros((5,23))\n",
    "    aberrations[:,1:] = dat[:,5:]\n",
    "    # Also get the field position.  The file gives it in mm with respect to the center, but we\n",
    "    # want it in pixels with respect to the corner. The pixel size of the detector is 0.01 mm/pixel\n",
    "    # The y-coordinates have the opposite signs to the corresponding WFI location, explained \n",
    "    # in the Roman file.\n",
    "\n",
    "    x_sca_pos = dat[:,1]/pixel_scale_mm + n_pix/2\n",
    "    y_sca_pos = n_pix/2 - dat[:,2]/pixel_scale_mm\n",
    "    return aberrations, x_sca_pos, y_sca_pos\n",
    "def _interp_aberrations_bilinear(aberrations, x_pos, y_pos, SCA_pos):\n",
    "    \"\"\"\n",
    "    This is a helper routine to do bilinear interpolation of aberrations defined at 4 field\n",
    "    positions: the four corners.  Note that we also have aberrations at the center position,\n",
    "    but these are generally quite close (within a few percent) of what would come from this bilinear\n",
    "    interpolation.  So for simplicity, we just do the bilinear interpolation.\n",
    "    \"\"\"\n",
    "    min_x = np.min(x_pos)\n",
    "    min_y = np.min(y_pos)\n",
    "    max_x = np.max(x_pos)\n",
    "    max_y = np.max(y_pos)\n",
    "    x_frac = (SCA_pos.x - min_x) / (max_x - min_x)\n",
    "    y_frac = (SCA_pos.y - min_y) / (max_y - min_y)\n",
    "    lower_x_lower_y_ab = aberrations[(x_pos==min_x) & (y_pos==min_y), :]\n",
    "    lower_x_upper_y_ab = aberrations[(x_pos==min_x) & (y_pos==max_y), :]\n",
    "    upper_x_lower_y_ab = aberrations[(x_pos==max_x) & (y_pos==min_y), :]\n",
    "    upper_x_upper_y_ab = aberrations[(x_pos==max_x) & (y_pos==max_y), :]\n",
    "    interp_ab = (1.0-x_frac)*(1.0-y_frac)*lower_x_lower_y_ab + \\\n",
    "        (1.0-x_frac)*y_frac*lower_x_upper_y_ab + \\\n",
    "        x_frac*(1.0-y_frac)*upper_x_lower_y_ab + \\\n",
    "        x_frac*y_frac*upper_x_upper_y_ab\n",
    "\n",
    "    return interp_ab.flatten()"
   ]
  },
  {
   "cell_type": "code",
   "execution_count": 22,
   "id": "0de2d6ab-fe58-4458-a2fa-0531216e057c",
   "metadata": {
    "execution": {
     "iopub.execute_input": "2023-08-21T15:48:47.178606Z",
     "iopub.status.busy": "2023-08-21T15:48:47.178176Z",
     "iopub.status.idle": "2023-08-21T15:48:47.357973Z",
     "shell.execute_reply": "2023-08-21T15:48:47.356884Z",
     "shell.execute_reply.started": "2023-08-21T15:48:47.178567Z"
    },
    "tags": []
   },
   "outputs": [],
   "source": [
    "# n_pix = galsim.roman.n_pix\n",
    "# # n_pix = 64\n",
    "# psf = _get_single_PSF(SCA = use_SCA, bandpass = bandpass,SCA_pos=galsim.PositionD(n_pix/2,n_pix/2),\n",
    "#                       pupil_bin=16, n_waves=10, extra_aberrations=None,\n",
    "#                        wavelength=None, gsparams=None, pupil_plane_type = 'short')"
   ]
  },
  {
   "cell_type": "code",
   "execution_count": null,
   "id": "61be173b-0396-4e6c-af2e-ea36d0c59138",
   "metadata": {},
   "outputs": [],
   "source": []
  },
  {
   "cell_type": "code",
   "execution_count": 23,
   "id": "fe6e711c-fda4-4eb9-ac68-a683e5c86ad9",
   "metadata": {
    "execution": {
     "iopub.execute_input": "2023-08-21T15:48:48.193817Z",
     "iopub.status.busy": "2023-08-21T15:48:48.193546Z",
     "iopub.status.idle": "2023-08-21T15:48:49.955726Z",
     "shell.execute_reply": "2023-08-21T15:48:49.954768Z",
     "shell.execute_reply.started": "2023-08-21T15:48:48.193790Z"
    },
    "tags": []
   },
   "outputs": [],
   "source": [
    "i=200\n",
    "psf_sed = galsim.SED('1', wave_type='Angstrom', flux_type='flambda')\n",
    "psf_star = galsim.DeltaFunction()\n",
    "\n",
    "# Faint galaxy\n",
    "logger.debug('Faint galaxy')\n",
    "\n",
    "# Select a random galaxy from the catalog.\n",
    "obj = cat.makeGalaxy(chromatic=True, gal_type='parametric', index=i)\n",
    "logger.debug('galaxy index = %s',obj.index)\n",
    "# obj = obj.shear(e1 = 0.01,e2=0.01)\n",
    "\n",
    "\n",
    "# Convolve the (chromatic) object with the (chromatic) PSF.\n",
    "pixel_scale = roman.pixel_scale\n",
    "wcs = galsim.PixelScale(pixel_scale) \n",
    "im_obj = obj.drawImage(bandpass,nx=64,ny=64,wcs=wcs)\n",
    "final = galsim.Convolve(obj, psf)\n",
    "stamp = final.drawImage(bandpass, nx=64,ny=64, wcs = wcs)\n",
    "psf_img = galsim.Convolve([psf_star, psf]) * psf_sed.withFlux(1, bandpass)\n",
    "im_psf = psf_img.drawImage(bandpass,nx=64,ny=64,wcs=wcs)"
   ]
  },
  {
   "cell_type": "code",
   "execution_count": 24,
   "id": "2bbca8e1-2a78-4fc1-8db3-55466e75d2f4",
   "metadata": {
    "execution": {
     "iopub.execute_input": "2023-08-21T15:48:49.957276Z",
     "iopub.status.busy": "2023-08-21T15:48:49.957058Z",
     "iopub.status.idle": "2023-08-21T15:48:50.475508Z",
     "shell.execute_reply": "2023-08-21T15:48:50.474866Z",
     "shell.execute_reply.started": "2023-08-21T15:48:49.957258Z"
    },
    "tags": []
   },
   "outputs": [
    {
     "name": "stdout",
     "output_type": "stream",
     "text": [
      "- AdaptiveMom shapes:\n",
      "Mom: -0.20723205804824824 -0.015612535178661341 1.4715940952301025 \n",
      "\n",
      "- EstimateShear shapes:\n",
      "Uncorr: -0.18507041037082672 0.017883330583572388 \n",
      "Corr: -0.25171905755996704 -0.031318213790655136 1.9847477674484253\n",
      "PSF shape: 0.01753445342183113 0.250975638628006 0.728822648525238\n"
     ]
    },
    {
     "data": {
      "text/plain": [
       "<matplotlib.colorbar.Colorbar at 0x7f393e4ef350>"
      ]
     },
     "execution_count": 24,
     "metadata": {},
     "output_type": "execute_result"
    },
    {
     "data": {
      "image/png": "[encoded data removed]",
      "text/plain": [
       "<Figure size 1500x1000 with 4 Axes>"
      ]
     },
     "metadata": {},
     "output_type": "display_data"
    }
   ],
   "source": [
    "fig, axs = plt.subplots(1,2,figsize=[15,10])\n",
    "\n",
    "im = axs[0].imshow(im_obj.array,cmap='gist_stern',origin='lower')\n",
    "axs[0].set_title('galaxy')\n",
    "fig.colorbar(im,ax=axs[0],shrink=0.5)\n",
    "s = galsim.hsm.FindAdaptiveMom(im_obj, round_moments = False )\n",
    "print(\"- AdaptiveMom shapes:\")\n",
    "print(\"Mom:\", s.observed_shape.e1, s.observed_shape.e2, s.moments_sigma, s.error_message.strip(\"\\n\"))\n",
    "print()\n",
    "\n",
    "im = axs[1].imshow(stamp.array,cmap='gist_stern',origin='lower')\n",
    "axs[1].set_title('convolved galaxy')\n",
    "s = galsim.hsm.EstimateShear(stamp, im_psf)\n",
    "print(\"- EstimateShear shapes:\")\n",
    "print(\"Uncorr:\", s.observed_shape.e1, s.observed_shape.e2, s.error_message.strip(\"\\n\"))\n",
    "print(\"Corr:\", s.corrected_e1, s.corrected_e2, s.moments_sigma)\n",
    "print(\"PSF shape:\", s.psf_shape.e1,s.psf_shape.e2, s.psf_sigma)\n",
    "fig.colorbar(im,ax=axs[1],shrink=0.5)\n",
    "\n",
    "# plt.savefig('image/2.png')\n"
   ]
  },
  {
   "cell_type": "code",
   "execution_count": 25,
   "id": "f7e4973a-6a55-48f4-a316-606724146dfd",
   "metadata": {
    "execution": {
     "iopub.execute_input": "2023-08-21T15:48:50.476704Z",
     "iopub.status.busy": "2023-08-21T15:48:50.476503Z",
     "iopub.status.idle": "2023-08-21T15:48:50.741687Z",
     "shell.execute_reply": "2023-08-21T15:48:50.741050Z",
     "shell.execute_reply.started": "2023-08-21T15:48:50.476686Z"
    },
    "tags": []
   },
   "outputs": [
    {
     "data": {
      "text/plain": [
       "<matplotlib.colorbar.Colorbar at 0x7f393e53cb50>"
      ]
     },
     "execution_count": 25,
     "metadata": {},
     "output_type": "execute_result"
    },
    {
     "data": {
      "image/png": "[encoded data removed]",
      "text/plain": [
       "<Figure size 640x480 with 2 Axes>"
      ]
     },
     "metadata": {},
     "output_type": "display_data"
    }
   ],
   "source": [
    "im = plt.imshow(im_psf.array,cmap='gist_stern',origin='lower')\n",
    "plt.title('psf')\n",
    "plt.colorbar()\n",
    "# plt.savefig('image/psf.png')"
   ]
  },
  {
   "cell_type": "markdown",
   "id": "0858c2d8-e289-4b11-a3da-7cc060602f00",
   "metadata": {},
   "source": [
    "# Function to create catalog"
   ]
  },
  {
   "cell_type": "code",
   "execution_count": 134,
   "id": "ca0de8ea-0d2e-47bd-8207-87ee8c977b28",
   "metadata": {
    "execution": {
     "iopub.execute_input": "2023-08-21T16:13:04.285385Z",
     "iopub.status.busy": "2023-08-21T16:13:04.285012Z",
     "iopub.status.idle": "2023-08-21T16:13:04.304367Z",
     "shell.execute_reply": "2023-08-21T16:13:04.303109Z",
     "shell.execute_reply.started": "2023-08-21T16:13:04.285355Z"
    }
   },
   "outputs": [],
   "source": [
    "pixel_scale = roman.pixel_scale\n",
    "\n",
    "def create_catalog(nobj, shear = False, bandpass = False,catalog = None, chromatic = False):\n",
    "    if bandpass == True:\n",
    "        datapath = galsim.meta_data.share_dir\n",
    "        filter_filename = os.path.join(datapath, 'bandpasses/euclid.dat')\n",
    "        bandpass = galsim.Bandpass(filter_filename, wave_type='Angstrom')\n",
    "    i=0\n",
    "\n",
    "    samples1=[]             # First sample\n",
    "    samples2=[]             # \n",
    "    \n",
    "    in_shape1=[]            #storing shape of all galaxies in both two samples to check whether the avg shape = 0\n",
    "    in_shape2=[]\n",
    "\n",
    "    if chromatic == False:\n",
    "        psf = galsim.Gaussian(flux=1., sigma=0.7285587787628174)\n",
    "        im_psf = psf.drawImage(nx=32,ny=32,scale = pixel_scale)\n",
    "    else:\n",
    "        n_pix = galsim.roman.n_pix\n",
    "        # n_pix = 64\n",
    "        psf = _get_single_PSF(SCA = use_SCA, bandpass = bandpass,SCA_pos=galsim.PositionD(n_pix/2,n_pix/2),\n",
    "                      pupil_bin=16, n_waves=10, extra_aberrations=None,\n",
    "                       wavelength=None, gsparams=None, pupil_plane_type = 'short')\n",
    "        psf_sed = galsim.SED('1', wave_type='Angstrom', flux_type='flambda')\n",
    "        psf_star = galsim.DeltaFunction()\n",
    "        psf_img = galsim.Convolve([psf_star, psf]) * psf_sed.withFlux(1, bandpass)\n",
    "        im_psf = psf_img.drawImage(bandpass,nx=32,ny=32, scale=pixel_scale)\n",
    "    \n",
    "    while i < nobj:\n",
    "        rand = random.random()\n",
    "        angle = rand*2*np.pi*galsim.radians\n",
    "\n",
    "        if catalog == None:\n",
    "            obj = galsim.Gaussian(flux = 1e5, sigma = rand)\n",
    "            if shear == True:\n",
    "                obj = obj.shear(g1 = rand)\n",
    "        else:\n",
    "            a = random.randint(0, catalog.nobjects-1)\n",
    "            obj = catalog.makeGalaxy(chromatic=True, gal_type='parametric', index=a)\n",
    "        \n",
    "        obj = obj.rotate(angle)\n",
    "        \n",
    "        obj1 = obj.rotate(90*galsim.degrees)\n",
    "        \n",
    "        try:\n",
    "            if chromatic == False:\n",
    "                im_obj = obj.drawImage(nx=64,ny=64,scale = pixel_scale)\n",
    "                final = galsim.Convolve(obj, psf)\n",
    "                stamp = final.drawImage(nx=64,ny=64, scale = pixel_scale)\n",
    "                im_obj1 = obj1.drawImage(nx=64,ny=64, scale = pixel_scale)\n",
    "                final1 = galsim.Convolve(obj1, psf)\n",
    "                stamp1 = final.drawImage(nx=64,ny=64, scale = pixel_scale)\n",
    "            else:\n",
    "                im_obj = obj.drawImage(bandpass,nx=64,ny=64, scale = pixel_scale)\n",
    "                final = galsim.Convolve(obj, psf)\n",
    "                stamp = final.drawImage(bandpass, nx=64,ny=64, scale = pixel_scale)\n",
    "                im_obj1 = obj1.drawImage(bandpass,nx=64,ny=64, scale = pixel_scale)\n",
    "                final1 = galsim.Convolve(obj1, psf)\n",
    "                stamp1 = final.drawImage(bandpass, nx=64,ny=64, scale = pixel_scale)\n",
    "            s = galsim.hsm.EstimateShear(stamp, im_psf)\n",
    "            o = galsim.hsm.FindAdaptiveMom(im_obj, round_moments = False )\n",
    "            \n",
    "            s1 = galsim.hsm.EstimateShear(stamp1, im_psf)\n",
    "            o1 = galsim.hsm.FindAdaptiveMom(im_obj1, round_moments = False )\n",
    "            \n",
    "            samples1.append(obj)\n",
    "            samples2.append(obj1)\n",
    "            i+=1\n",
    "            in_shape1.append([o.observed_shape.e1, o1.observed_shape.e1])\n",
    "            in_shape2.append([o.observed_shape.e2, o1.observed_shape.e2])\n",
    "        except galsim.GalSimFFTSizeError:\n",
    "            pass\n",
    "        except galsim.GalSimHSMError:\n",
    "            pass\n",
    "        \n",
    "    samples1 = np.asarray(samples1)\n",
    "    samples2 = np.asarray(samples2)\n",
    "    in_shape1 = np.asarray(in_shape1)\n",
    "    in_shape2 = np.asarray(in_shape2)\n",
    "\n",
    "    avg = in_shape1.mean()\n",
    "    return samples1, samples2, avg "
   ]
  },
  {
   "cell_type": "code",
   "execution_count": 135,
   "id": "10107a85-e83b-4e3e-bb78-a05643f46e50",
   "metadata": {
    "execution": {
     "iopub.execute_input": "2023-08-21T16:13:04.843949Z",
     "iopub.status.busy": "2023-08-21T16:13:04.843514Z",
     "iopub.status.idle": "2023-08-21T16:13:36.221030Z",
     "shell.execute_reply": "2023-08-21T16:13:36.220058Z",
     "shell.execute_reply.started": "2023-08-21T16:13:04.843909Z"
    }
   },
   "outputs": [],
   "source": [
    "samples1, samples2, avg = create_catalog(1000, shear = True)"
   ]
  },
  {
   "cell_type": "code",
   "execution_count": 136,
   "id": "cfb886e7-1919-41eb-a78c-edccb0f8d96b",
   "metadata": {
    "execution": {
     "iopub.execute_input": "2023-08-21T16:13:58.730414Z",
     "iopub.status.busy": "2023-08-21T16:13:58.730155Z",
     "iopub.status.idle": "2023-08-21T16:13:58.736581Z",
     "shell.execute_reply": "2023-08-21T16:13:58.735852Z",
     "shell.execute_reply.started": "2023-08-21T16:13:58.730389Z"
    }
   },
   "outputs": [
    {
     "data": {
      "text/plain": [
       "-1.046607853161241e-10"
      ]
     },
     "execution_count": 136,
     "metadata": {},
     "output_type": "execute_result"
    }
   ],
   "source": [
    "avg"
   ]
  },
  {
   "cell_type": "markdown",
   "id": "8d184a72-8116-4f50-88a7-3ad2a4e3a2bb",
   "metadata": {},
   "source": [
    "# Create catalog"
   ]
  },
  {
   "cell_type": "code",
   "execution_count": 110,
   "id": "454b90d8-870f-43bb-8178-29e21f1c03d5",
   "metadata": {
    "execution": {
     "iopub.execute_input": "2023-08-21T16:09:30.223906Z",
     "iopub.status.busy": "2023-08-21T16:09:30.223470Z",
     "iopub.status.idle": "2023-08-21T16:09:34.748018Z",
     "shell.execute_reply": "2023-08-21T16:09:34.746849Z",
     "shell.execute_reply.started": "2023-08-21T16:09:30.223863Z"
    },
    "tags": []
   },
   "outputs": [],
   "source": [
    "nobj=10\n",
    "i=0\n",
    "\n",
    "samples1=[]             # First sample\n",
    "samples2=[]             # \n",
    "\n",
    "in_shape1=[]            #storing shape of all galaxies in both two samples to check whether the avg shape = 0\n",
    "in_shape2=[]\n",
    "\n",
    "psf_sed = galsim.SED('1', wave_type='Angstrom', flux_type='flambda')\n",
    "psf_star = galsim.DeltaFunction()\n",
    "pixel_scale = roman.pixel_scale\n",
    "psf_img = galsim.Convolve([psf_star, psf]) * psf_sed.withFlux(1, bandpass)\n",
    "im_psf = psf_img.drawImage(bandpass,nx=32,ny=32,wcs=wcs)\n",
    "\n",
    "while i < nobj:\n",
    "    a = random.randint(0, cat.nobjects-1)\n",
    "    angle = random.random()*2*np.pi*galsim.radians\n",
    "    \n",
    "    obj = cat.makeGalaxy(chromatic=True, gal_type='parametric', index=a)\n",
    "    obj = obj.rotate(angle)\n",
    "    \n",
    "    obj1 = obj.rotate(90*galsim.degrees)\n",
    "    \n",
    "    try:\n",
    "        im_obj = obj.drawImage(bandpass,nx=64,ny=64, scale = pixel_scale)\n",
    "        final = galsim.Convolve(obj, psf)\n",
    "        stamp = final.drawImage(bandpass, nx=64,ny=64, scale = pixel_scale)\n",
    "        s = galsim.hsm.EstimateShear(stamp, im_psf)\n",
    "        o = galsim.hsm.FindAdaptiveMom(im_obj, round_moments = False )\n",
    "        \n",
    "        im_obj1 = obj1.drawImage(bandpass,nx=64,ny=64, scale = pixel_scale)\n",
    "        final1 = galsim.Convolve(obj1, psf)\n",
    "        stamp1 = final.drawImage(bandpass, nx=64,ny=64, scale = pixel_scale)\n",
    "        s1 = galsim.hsm.EstimateShear(stamp1, im_psf)\n",
    "        o1 = galsim.hsm.FindAdaptiveMom(im_obj1, round_moments = False )\n",
    "        \n",
    "        # print(o.observed_shape.e1, o1.observed_shape.e1)\n",
    "        samples1.append(obj)\n",
    "        samples2.append(obj1)\n",
    "        i+=1\n",
    "        in_shape1.append([o.observed_shape.e1, o1.observed_shape.e1])\n",
    "        in_shape2.append([o.observed_shape.e2, o1.observed_shape.e2])\n",
    "        \n",
    "        # print(o.observed_shape.e1 + o1.observed_shape.e1, o.observed_shape.e2+o1.observed_shape.e2)\n",
    "        # print(o.observed_shape.g1 + o1.observed_shape.g1, o.observed_shape.g2+o1.observed_shape.g2)\n",
    "    except galsim.GalSimFFTSizeError:\n",
    "        pass\n",
    "    except galsim.GalSimHSMError:\n",
    "        pass\n",
    "    \n",
    "samples1 = np.asarray(samples1)\n",
    "samples2 = np.asarray(samples2)\n",
    "in_shape1 = np.asarray(in_shape1)\n",
    "in_shape2 = np.asarray(in_shape2)\n"
   ]
  },
  {
   "cell_type": "code",
   "execution_count": 12,
   "id": "c0325835-d372-4e9c-a81c-7b4f4c00d41d",
   "metadata": {
    "execution": {
     "iopub.execute_input": "2023-08-21T11:41:35.395967Z",
     "iopub.status.busy": "2023-08-21T11:41:35.395700Z",
     "iopub.status.idle": "2023-08-21T11:41:35.399636Z",
     "shell.execute_reply": "2023-08-21T11:41:35.399234Z",
     "shell.execute_reply.started": "2023-08-21T11:41:35.395947Z"
    },
    "tags": []
   },
   "outputs": [
    {
     "data": {
      "text/plain": [
       "(10000, 20000)"
      ]
     },
     "execution_count": 12,
     "metadata": {},
     "output_type": "execute_result"
    }
   ],
   "source": [
    "samples1.size, in_shape1.size"
   ]
  },
  {
   "cell_type": "code",
   "execution_count": 13,
   "id": "93318755-5136-4196-99f9-3d62db7c1256",
   "metadata": {
    "execution": {
     "iopub.execute_input": "2023-08-21T11:41:36.102849Z",
     "iopub.status.busy": "2023-08-21T11:41:36.102318Z",
     "iopub.status.idle": "2023-08-21T11:41:36.106885Z",
     "shell.execute_reply": "2023-08-21T11:41:36.106397Z",
     "shell.execute_reply.started": "2023-08-21T11:41:36.102825Z"
    },
    "tags": []
   },
   "outputs": [
    {
     "data": {
      "text/plain": [
       "(3.6333606545554565e-05, 6.422853039045329e-09)"
      ]
     },
     "execution_count": 13,
     "metadata": {},
     "output_type": "execute_result"
    }
   ],
   "source": [
    "in_shape1.mean(), in_shape2.mean()"
   ]
  },
  {
   "cell_type": "markdown",
   "id": "55b263db-4609-4df2-a9db-3a5a18b795bb",
   "metadata": {},
   "source": [
    "# Simulation"
   ]
  },
  {
   "cell_type": "markdown",
   "id": "48eb8468-1751-48c0-a87e-b8621f2ab996",
   "metadata": {},
   "source": [
    "## Sample from catalog"
   ]
  },
  {
   "cell_type": "code",
   "execution_count": 18,
   "id": "765ae3f1-5413-4b01-b78a-588e4194bc04",
   "metadata": {
    "execution": {
     "iopub.execute_input": "2023-08-21T11:53:14.291709Z",
     "iopub.status.busy": "2023-08-21T11:53:14.291240Z",
     "iopub.status.idle": "2023-08-21T11:53:14.295868Z",
     "shell.execute_reply": "2023-08-21T11:53:14.295525Z",
     "shell.execute_reply.started": "2023-08-21T11:53:14.291691Z"
    },
    "tags": []
   },
   "outputs": [],
   "source": [
    "nobj = 1000\n",
    "i=0\n",
    "\n",
    "samples=[]\n",
    "while i < nobj:\n",
    "    a = random.randint(0, samples1.size-1)\n",
    "    obj = samples1[a]\n",
    "    obj1 = samples2[a]\n",
    "    \n",
    "#     im_obj = obj.drawImage(nx=64,ny=64,wcs=wcs)\n",
    "#     o = galsim.hsm.FindAdaptiveMom(im_obj, round_moments = False )\n",
    "\n",
    "#     im_obj1 = obj1.drawImage(nx=64,ny=64,wcs=wcs)\n",
    "#     o1 = galsim.hsm.FindAdaptiveMom(im_obj1, round_moments = False )\n",
    "\n",
    "    # print(o.observed_shape.e1, o1.observed_shape.e1)\n",
    "    \n",
    "    i+=2\n",
    "\n",
    "    samples.append(obj)\n",
    "    samples.append(obj1)\n",
    "\n",
    "samples = np.asarray(samples)"
   ]
  },
  {
   "cell_type": "code",
   "execution_count": 19,
   "id": "0ee0851b-26fd-4b11-a178-8760fb225d64",
   "metadata": {
    "execution": {
     "iopub.execute_input": "2023-08-21T11:53:15.517080Z",
     "iopub.status.busy": "2023-08-21T11:53:15.516635Z",
     "iopub.status.idle": "2023-08-21T12:51:49.531691Z",
     "shell.execute_reply": "2023-08-21T12:51:49.531229Z",
     "shell.execute_reply.started": "2023-08-21T11:53:15.517061Z"
    },
    "tags": []
   },
   "outputs": [],
   "source": [
    "shear = np.arange(-0.05,0.06,0.01)\n",
    "diff = []\n",
    "obs = []\n",
    "\n",
    "for ashear in shear:\n",
    "    random.shuffle(samples)\n",
    "    \n",
    "    e1 = []\n",
    "    # e2 = []\n",
    "    for j in range(samples.size):\n",
    "        obj = samples[j]\n",
    "        obj = obj.shear(g1 = ashear)\n",
    "        final = galsim.Convolve(obj, psf)\n",
    "        stamp = final.drawImage(bandpass,nx=64,ny=64, wcs = wcs)\n",
    "        s = galsim.hsm.EstimateShear(stamp, im_psf)\n",
    "        # print(s.observed_shape.e1)\n",
    "        e1.append(s.corrected_e1)\n",
    "        # e2.append(s.observed_shape.e2)\n",
    "\n",
    "    e1 = np.asarray(e1)\n",
    "    val = e1.mean()/2 - ashear\n",
    "    diff.append(val)\n",
    "    # e2 = np.asarray(e2)\n",
    "    obs.append(e1.mean()/2)\n",
    "obs = np.asarray(obs)\n",
    "diff = np.asarray(diff)"
   ]
  },
  {
   "cell_type": "code",
   "execution_count": 20,
   "id": "878c5db1-98a9-418a-b55e-6e3970da560f",
   "metadata": {
    "execution": {
     "iopub.execute_input": "2023-08-21T12:52:04.178753Z",
     "iopub.status.busy": "2023-08-21T12:52:04.178182Z",
     "iopub.status.idle": "2023-08-21T12:52:04.284702Z",
     "shell.execute_reply": "2023-08-21T12:52:04.284280Z",
     "shell.execute_reply.started": "2023-08-21T12:52:04.178712Z"
    },
    "tags": []
   },
   "outputs": [
    {
     "data": {
      "text/plain": [
       "Text(0, 0.5, 'e1_obs - e1_true')"
      ]
     },
     "execution_count": 20,
     "metadata": {},
     "output_type": "execute_result"
    },
    {
     "data": {
      "image/png": "[encoded data removed]",
      "text/plain": [
       "<Figure size 640x480 with 1 Axes>"
      ]
     },
     "metadata": {},
     "output_type": "display_data"
    }
   ],
   "source": [
    "plt.scatter(shear,diff)\n",
    "plt.xlabel('e1_true')\n",
    "plt.ylabel('e1_obs - e1_true')"
   ]
  },
  {
   "cell_type": "markdown",
   "id": "2ce40afd-5067-4c10-9221-cfbc8a2e56ef",
   "metadata": {},
   "source": [
    "## Test with simple Gaussian PSF"
   ]
  },
  {
   "cell_type": "code",
   "execution_count": 168,
   "id": "00d63234-0126-4916-ae3a-30bd4d6f2be4",
   "metadata": {
    "execution": {
     "iopub.execute_input": "2023-08-21T16:19:32.630481Z",
     "iopub.status.busy": "2023-08-21T16:19:32.630045Z",
     "iopub.status.idle": "2023-08-21T16:19:32.699443Z",
     "shell.execute_reply": "2023-08-21T16:19:32.698348Z",
     "shell.execute_reply.started": "2023-08-21T16:19:32.630439Z"
    },
    "tags": []
   },
   "outputs": [
    {
     "name": "stdout",
     "output_type": "stream",
     "text": [
      "0.33543840050697327 -0.33543840050697327\n",
      "0.024879002943634983 -0.02487898804247379\n",
      "0.2800295054912567 -0.2800295054912567\n",
      "-0.9422324895858764 0.9422324895858764\n",
      "0.6396921277046204 -0.6396921277046204\n"
     ]
    }
   ],
   "source": [
    "nobj = 10\n",
    "i=0\n",
    "\n",
    "samples=[]\n",
    "while i < nobj:\n",
    "    a = random.randint(0, samples1.size-1)\n",
    "    obj = samples1[a]\n",
    "    obj1 = samples2[a]\n",
    "    \n",
    "    im_obj = obj.drawImage(nx=64,ny=64,wcs=wcs)\n",
    "    o = galsim.hsm.FindAdaptiveMom(im_obj, round_moments = False )\n",
    "\n",
    "    im_obj1 = obj1.drawImage(nx=64,ny=64,wcs=wcs)\n",
    "    o1 = galsim.hsm.FindAdaptiveMom(im_obj1, round_moments = False )\n",
    "\n",
    "    print(o.observed_shape.e1, o1.observed_shape.e1)\n",
    "    \n",
    "    i+=2\n",
    "\n",
    "    samples.append(obj)\n",
    "    samples.append(obj1)\n",
    "\n",
    "samples = np.asarray(samples)"
   ]
  },
  {
   "cell_type": "code",
   "execution_count": 173,
   "id": "76abb916-bdbd-4908-bc69-70fb6037064f",
   "metadata": {
    "execution": {
     "iopub.execute_input": "2023-08-21T16:33:52.779516Z",
     "iopub.status.busy": "2023-08-21T16:33:52.779073Z",
     "iopub.status.idle": "2023-08-21T16:33:53.235064Z",
     "shell.execute_reply": "2023-08-21T16:33:53.234110Z",
     "shell.execute_reply.started": "2023-08-21T16:33:52.779473Z"
    },
    "tags": []
   },
   "outputs": [],
   "source": [
    "shear = np.arange(0,0.01,0.001)\n",
    "diff1 = []\n",
    "obs1 = []\n",
    "diff2 = []\n",
    "obs2 =[]\n",
    "\n",
    "\n",
    "psf = galsim.Gaussian(flux=1., sigma=0.7285587787628174)\n",
    "im_psf = psf.drawImage(nx=32,ny=32,scale = pixel_scale)\n",
    "\n",
    "for ashear in shear:\n",
    "    np.random.shuffle(samples)\n",
    "    # ashear = 0\n",
    "    e1 = []\n",
    "    e2 = []\n",
    "    for j in range(samples.size):\n",
    "        obj = samples[j]\n",
    "        obj = obj.shear(g1 = ashear)\n",
    "        final = galsim.Convolve(obj, psf)\n",
    "        stamp = final.drawImage(nx=64,ny=64, scale = pixel_scale)\n",
    "        s = galsim.hsm.EstimateShear(stamp, im_psf)\n",
    "        # print(s.observed_shape.e1)\n",
    "        e1.append(s.corrected_e1)\n",
    "        e2.append(s.corrected_e2)\n",
    "\n",
    "    e1 = np.asarray(e1)\n",
    "    val1 = e1.mean()/2 - ashear\n",
    "    diff1.append(val1)\n",
    "    obs1.append(e1.mean()/2)\n",
    "    e2 = np.asarray(e2)\n",
    "    val2 = e2.mean()/2 \n",
    "    diff2.append(val2)\n",
    "    obs2.append(e2.mean()/2)\n",
    "    \n",
    "obs1 = np.asarray(obs1)\n",
    "diff1 = np.asarray(diff1)\n",
    "obs2 = np.asarray(obs2)\n",
    "diff2 = np.asarray(diff2)"
   ]
  },
  {
   "cell_type": "code",
   "execution_count": 170,
   "id": "2d3050a6-e779-4afb-94c4-027ad4300ce2",
   "metadata": {
    "execution": {
     "iopub.execute_input": "2023-08-21T16:19:41.520664Z",
     "iopub.status.busy": "2023-08-21T16:19:41.520429Z",
     "iopub.status.idle": "2023-08-21T16:19:41.526473Z",
     "shell.execute_reply": "2023-08-21T16:19:41.525660Z",
     "shell.execute_reply.started": "2023-08-21T16:19:41.520642Z"
    },
    "tags": []
   },
   "outputs": [
    {
     "data": {
      "text/plain": [
       "array([ 1.11758709e-08, -2.52106249e-04, -5.04262790e-04, -7.56445408e-04,\n",
       "       -1.00946063e-03, -1.26148120e-03, -1.51372789e-03, -1.76802088e-03,\n",
       "       -2.02017817e-03, -2.27241033e-03])"
      ]
     },
     "execution_count": 170,
     "metadata": {},
     "output_type": "execute_result"
    }
   ],
   "source": [
    "diff1"
   ]
  },
  {
   "cell_type": "code",
   "execution_count": 171,
   "id": "41593961-89b2-4095-b757-ffa9e34a08e6",
   "metadata": {
    "execution": {
     "iopub.execute_input": "2023-08-21T16:19:41.978231Z",
     "iopub.status.busy": "2023-08-21T16:19:41.977797Z",
     "iopub.status.idle": "2023-08-21T16:19:42.207544Z",
     "shell.execute_reply": "2023-08-21T16:19:42.206889Z",
     "shell.execute_reply.started": "2023-08-21T16:19:41.978191Z"
    },
    "tags": []
   },
   "outputs": [
    {
     "data": {
      "text/plain": [
       "Text(0, 0.5, 'e1_obs - e1_true')"
      ]
     },
     "execution_count": 171,
     "metadata": {},
     "output_type": "execute_result"
    },
    {
     "data": {
      "image/png": "[encoded data removed]",
      "text/plain": [
       "<Figure size 640x480 with 1 Axes>"
      ]
     },
     "metadata": {},
     "output_type": "display_data"
    }
   ],
   "source": [
    "plt.scatter(shear,diff1)\n",
    "plt.xlabel('e1_true')\n",
    "plt.ylabel('e1_obs - e1_true')"
   ]
  },
  {
   "cell_type": "markdown",
   "id": "dba4b092-c65b-4ccb-954c-43a138485462",
   "metadata": {},
   "source": [
    "## Test measurement on individual galaxy"
   ]
  },
  {
   "cell_type": "code",
   "execution_count": null,
   "id": "26505aec-6fe7-46cb-8024-1414a05ced23",
   "metadata": {
    "tags": []
   },
   "outputs": [],
   "source": [
    "nobj=10\n",
    "\n",
    "ini_e1=[]\n",
    "fin_e1=[]\n",
    "ini_e2=[]\n",
    "fin_e2=[]\n",
    "ini_size=[]\n",
    "fin_size=[]\n",
    "e1=[]\n",
    "e2=[]\n",
    "index=[]\n",
    "\n",
    "samples = []\n",
    "\n",
    "psf_sed = galsim.SED('1', wave_type='Angstrom', flux_type='flambda')\n",
    "psf_star = galsim.DeltaFunction()\n",
    "pixel_scale = roman.pixel_scale\n",
    "wcs = galsim.PixelScale(pixel_scale) \n",
    "for i in range(nobj):\n",
    "    a = random.randint(0, cat.nobjects-1)\n",
    "    angle = random.random()*2*np.pi*galsim.radians\n",
    "    # print(a)\n",
    "    obj = cat.makeGalaxy(chromatic=True, gal_type='parametric', index=a)\n",
    "    obj = obj.rotate(angle)\n",
    "    try:\n",
    "        im_obj = obj.drawImage(bandpass,nx=64,ny=64,wcs=wcs)\n",
    "        final = galsim.Convolve(obj, psf)\n",
    "        stamp = final.drawImage(bandpass, nx=64,ny=64, wcs = wcs)\n",
    "        psf_img = galsim.Convolve([psf_star, psf]) * psf_sed.withFlux(1, bandpass)\n",
    "        im_psf = psf_img.drawImage(bandpass,nx=32,ny=32,wcs=wcs)\n",
    "        s = galsim.hsm.EstimateShear(stamp, im_psf)\n",
    "        o = galsim.hsm.FindAdaptiveMom(im_obj, round_moments = False )\n",
    "        # e1.append(100*abs(s.corrected_e1-o.observed_shape.e1)/abs(o.observed_shape.e1))\n",
    "        # ini_e1.append(o.observed_shape.e1)\n",
    "        # fin_e1.append(s.corrected_e1)\n",
    "        # ini_e2.append(o.observed_shape.e2)\n",
    "        # fin_e2.append(s.corrected_e2)\n",
    "        # ini_size.append(o.moments_sigma)\n",
    "        # fin_size.append(s.moments_sigma)\n",
    "        # e2.append(100*abs(s.corrected_e2-o.observed_shape.e2)/abs(o.observed_shape.e2))\n",
    "        # index.append(a)\n",
    "    except galsim.GalSimFFTSizeError:\n",
    "        pass\n",
    "    except galsim.GalSimHSMError:\n",
    "        pass\n",
    "\n",
    "    # print(obj.index,s.corrected_e1,o.observed_shape.e1)\n",
    "e1 = np.asarray(e1)\n",
    "e2 = np.asarray(e2)\n",
    "ini_e1 = np.asarray(ini_e1)\n",
    "fin_e1 = np.asarray(fin_e1)\n",
    "ini_e2 = np.asarray(ini_e2)\n",
    "fin_e2 = np.asarray(fin_e2)\n",
    "ini_size = np.asarray(ini_size)\n",
    "fin_size = np.asarray(fin_size)\n",
    "index = np.asarray(index)"
   ]
  },
  {
   "cell_type": "code",
   "execution_count": null,
   "id": "1ca06888-7914-4e13-8698-80451ca22b36",
   "metadata": {
    "execution": {
     "iopub.status.busy": "2023-08-16T16:05:12.068008Z",
     "iopub.status.idle": "2023-08-16T16:05:12.068174Z",
     "shell.execute_reply": "2023-08-16T16:05:12.068100Z",
     "shell.execute_reply.started": "2023-08-16T16:05:12.068091Z"
    },
    "tags": []
   },
   "outputs": [],
   "source": [
    "fin_e1.size, index.size"
   ]
  },
  {
   "cell_type": "code",
   "execution_count": null,
   "id": "42cbdbd7-9f7c-454d-b3d0-4ac411a4dc05",
   "metadata": {
    "execution": {
     "iopub.status.busy": "2023-08-16T16:05:12.069022Z",
     "iopub.status.idle": "2023-08-16T16:05:12.069181Z",
     "shell.execute_reply": "2023-08-16T16:05:12.069109Z",
     "shell.execute_reply.started": "2023-08-16T16:05:12.069101Z"
    },
    "tags": []
   },
   "outputs": [],
   "source": [
    "np.where(e1 > 10), np.where(e2 > 10)"
   ]
  },
  {
   "cell_type": "code",
   "execution_count": null,
   "id": "aae8c306-58e2-4380-a2ef-b530e37dbaa9",
   "metadata": {
    "execution": {
     "iopub.status.busy": "2023-08-16T16:05:12.069538Z",
     "iopub.status.idle": "2023-08-16T16:05:12.069679Z",
     "shell.execute_reply": "2023-08-16T16:05:12.069613Z",
     "shell.execute_reply.started": "2023-08-16T16:05:12.069606Z"
    },
    "tags": []
   },
   "outputs": [],
   "source": [
    "index[4], e1[4], ini_size[7], ini_e2[7]"
   ]
  },
  {
   "cell_type": "code",
   "execution_count": null,
   "id": "ab482e9c-350d-40b0-a6ef-6c31475b4a02",
   "metadata": {
    "execution": {
     "iopub.status.busy": "2023-08-16T16:05:12.070142Z",
     "iopub.status.idle": "2023-08-16T16:05:12.070297Z",
     "shell.execute_reply": "2023-08-16T16:05:12.070219Z",
     "shell.execute_reply.started": "2023-08-16T16:05:12.070212Z"
    },
    "tags": []
   },
   "outputs": [],
   "source": [
    "e2[8]"
   ]
  },
  {
   "cell_type": "code",
   "execution_count": null,
   "id": "41cca025-4ee9-4533-8383-89145d5de209",
   "metadata": {
    "execution": {
     "iopub.status.busy": "2023-08-16T16:05:12.071012Z",
     "iopub.status.idle": "2023-08-16T16:05:12.071212Z",
     "shell.execute_reply": "2023-08-16T16:05:12.071117Z",
     "shell.execute_reply.started": "2023-08-16T16:05:12.071107Z"
    },
    "tags": []
   },
   "outputs": [],
   "source": [
    "def remove_outliers(data_list, threshold=3):\n",
    "    \"\"\"\n",
    "    Remove outliers from a list of numbers using z-scores with NumPy.\n",
    "\n",
    "    Parameters:\n",
    "        data_list (list): List of numbers.\n",
    "        threshold (float): Z-score threshold for identifying outliers (default: 3).\n",
    "\n",
    "    Returns:\n",
    "        list: List with outliers removed.\n",
    "    \"\"\"\n",
    "    data_array = np.array(data_list)\n",
    "    z_scores = np.abs((data_array - np.mean(data_array)) / np.std(data_array))\n",
    "    filtered_data = data_array[z_scores <= threshold]\n",
    "    return np.asarray(filtered_data)\n",
    "\n",
    "def trend_outliers(array1, array2, threshold=3):\n",
    "    a = np.where(array1 > 1)\n",
    "    for i in a:\n",
    "        new_a1 = np.delete(array1,a)\n",
    "        new_a2 = np.delete(array2,a)\n",
    "        \n",
    "    return new_a1, new_a2"
   ]
  },
  {
   "cell_type": "code",
   "execution_count": null,
   "id": "38a40d4a-121b-44c7-83b2-6638d697647e",
   "metadata": {
    "execution": {
     "iopub.status.busy": "2023-08-16T16:05:12.071767Z",
     "iopub.status.idle": "2023-08-16T16:05:12.071910Z",
     "shell.execute_reply": "2023-08-16T16:05:12.071844Z",
     "shell.execute_reply.started": "2023-08-16T16:05:12.071837Z"
    },
    "tags": []
   },
   "outputs": [],
   "source": [
    "# e1 = remove_outliers(e1,threshold=1)"
   ]
  },
  {
   "cell_type": "code",
   "execution_count": null,
   "id": "0c220964-03c3-40c0-a67e-e304af74098b",
   "metadata": {
    "execution": {
     "iopub.status.busy": "2023-08-16T16:05:12.072274Z",
     "iopub.status.idle": "2023-08-16T16:05:12.072412Z",
     "shell.execute_reply": "2023-08-16T16:05:12.072348Z",
     "shell.execute_reply.started": "2023-08-16T16:05:12.072341Z"
    },
    "tags": []
   },
   "outputs": [],
   "source": [
    "# new_a1, new_a2 = trend_outliers(fin_e1,ini_e1)"
   ]
  },
  {
   "cell_type": "code",
   "execution_count": null,
   "id": "8d6dde25-0ce0-494e-9f32-fc2181d9a523",
   "metadata": {
    "execution": {
     "iopub.status.busy": "2023-08-16T16:05:12.072993Z",
     "iopub.status.idle": "2023-08-16T16:05:12.073135Z",
     "shell.execute_reply": "2023-08-16T16:05:12.073070Z",
     "shell.execute_reply.started": "2023-08-16T16:05:12.073063Z"
    },
    "tags": []
   },
   "outputs": [],
   "source": [
    "from scipy.stats import linregress\n",
    "\n",
    "result = linregress(ini_e1, fin_e1 )\n",
    "\n",
    "x = np.arange(-1,1.1,0.1)\n",
    "y = x*result.slope + result.intercept"
   ]
  },
  {
   "cell_type": "code",
   "execution_count": null,
   "id": "11560f77-e8c1-4c4d-bf10-2971bcef699c",
   "metadata": {
    "execution": {
     "iopub.status.busy": "2023-08-16T16:05:12.073721Z",
     "iopub.status.idle": "2023-08-16T16:05:12.073873Z",
     "shell.execute_reply": "2023-08-16T16:05:12.073804Z",
     "shell.execute_reply.started": "2023-08-16T16:05:12.073797Z"
    },
    "tags": []
   },
   "outputs": [],
   "source": [
    "result.slope, result.intercept"
   ]
  },
  {
   "cell_type": "code",
   "execution_count": null,
   "id": "247dd2de-5119-4c49-a2ce-4b02d6a8a7ce",
   "metadata": {
    "execution": {
     "iopub.status.busy": "2023-08-16T16:05:12.074268Z",
     "iopub.status.idle": "2023-08-16T16:05:12.074423Z",
     "shell.execute_reply": "2023-08-16T16:05:12.074345Z",
     "shell.execute_reply.started": "2023-08-16T16:05:12.074338Z"
    },
    "tags": []
   },
   "outputs": [],
   "source": [
    "plt.scatter(ini_e1,fin_e1)\n",
    "plt.plot(x,y)\n",
    "plt.xlabel('initial')\n",
    "plt.ylabel('observe')\n",
    "plt.title('e1')\n",
    "plt.text(-1,1,f'slope: {result.slope}')\n",
    "plt.text(-1,0.9,f'intercept: {result.intercept}')\n",
    "plt.savefig('image/e1.png')"
   ]
  },
  {
   "cell_type": "code",
   "execution_count": null,
   "id": "65cd19d0-ac23-439f-a3c4-c5ee32f618b8",
   "metadata": {
    "execution": {
     "iopub.status.busy": "2023-08-16T16:05:12.074914Z",
     "iopub.status.idle": "2023-08-16T16:05:12.075101Z",
     "shell.execute_reply": "2023-08-16T16:05:12.074991Z",
     "shell.execute_reply.started": "2023-08-16T16:05:12.074984Z"
    }
   },
   "outputs": [],
   "source": [
    "result = linregress(ini_e2, fin_e2 )\n",
    "\n",
    "x = np.arange(-1,1.1,0.1)\n",
    "y = x*result.slope + result.intercept\n",
    "\n",
    "plt.scatter(ini_e2,fin_e2)\n",
    "plt.plot(x,y)\n",
    "plt.xlabel('initial')\n",
    "plt.ylabel('observe')\n",
    "plt.title('e2')\n",
    "plt.text(-1,1,f'slope: {result.slope}')\n",
    "plt.text(-1,0.9,f'intercept: {result.intercept}')\n",
    "plt.savefig('image/e2.png')"
   ]
  },
  {
   "cell_type": "code",
   "execution_count": null,
   "id": "4123f88a-6eff-43fb-945f-04e979404621",
   "metadata": {
    "execution": {
     "iopub.status.busy": "2023-08-16T16:05:12.075613Z",
     "iopub.status.idle": "2023-08-16T16:05:12.075814Z",
     "shell.execute_reply": "2023-08-16T16:05:12.075717Z",
     "shell.execute_reply.started": "2023-08-16T16:05:12.075708Z"
    },
    "tags": []
   },
   "outputs": [],
   "source": [
    "result = linregress(ini_size, fin_size)\n",
    "print(result.slope, result.intercept)\n",
    "x = np.arange(0,12.1,0.1)\n",
    "y = x*result.slope + result.intercept\n",
    "plt.scatter(ini_size,fin_size)\n",
    "plt.plot(x,y)\n",
    "plt.xlabel('initial')\n",
    "plt.ylabel('observe')\n",
    "plt.text(0,11,f'slope: {result.slope}')\n",
    "plt.text(0,10.5,f'intercept: {result.intercept}')\n",
    "plt.title('Size')\n",
    "plt.savefig('image/size.png')"
   ]
  },
  {
   "cell_type": "code",
   "execution_count": null,
   "id": "62c980b9-c4a9-4017-89e9-454566c32e0f",
   "metadata": {
    "execution": {
     "iopub.status.busy": "2023-08-16T16:05:12.076342Z",
     "iopub.status.idle": "2023-08-16T16:05:12.076486Z",
     "shell.execute_reply": "2023-08-16T16:05:12.076420Z",
     "shell.execute_reply.started": "2023-08-16T16:05:12.076413Z"
    }
   },
   "outputs": [],
   "source": [
    "result.intercept/(1-result.slope)"
   ]
  },
  {
   "cell_type": "code",
   "execution_count": null,
   "id": "5f936612-131a-45c7-8bbf-73504333c4e7",
   "metadata": {
    "execution": {
     "iopub.status.busy": "2023-08-16T16:05:12.077097Z",
     "iopub.status.idle": "2023-08-16T16:05:12.077243Z",
     "shell.execute_reply": "2023-08-16T16:05:12.077175Z",
     "shell.execute_reply.started": "2023-08-16T16:05:12.077168Z"
    },
    "tags": []
   },
   "outputs": [],
   "source": [
    "# x = np.arange(e1.shape[0])\n",
    "# plt.scatter(x,e1)\n",
    "plt.hist(e1, range=(0,300), bins = 30)\n",
    "# plt.xticks([0,5,10,15,20,40,45,50,55,60,70,75])\n",
    "plt.xlabel('difference (%)')\n",
    "plt.ylabel('counts')\n",
    "plt.title('e1')\n",
    "plt.savefig('image/histo_e1.png')"
   ]
  },
  {
   "cell_type": "code",
   "execution_count": null,
   "id": "5246f6d1-9dcf-40df-955b-a4b60db79604",
   "metadata": {
    "tags": []
   },
   "outputs": [],
   "source": []
  },
  {
   "cell_type": "code",
   "execution_count": null,
   "id": "03338bbd-cfbe-4f7c-b737-4907368b3c03",
   "metadata": {
    "execution": {
     "iopub.status.busy": "2023-08-16T16:05:12.077704Z",
     "iopub.status.idle": "2023-08-16T16:05:12.077923Z",
     "shell.execute_reply": "2023-08-16T16:05:12.077852Z",
     "shell.execute_reply.started": "2023-08-16T16:05:12.077844Z"
    },
    "tags": []
   },
   "outputs": [],
   "source": [
    "plt.hist(e2, range=(0,300), bins = 30)\n",
    "# plt.xticks([0,5,10,15,20,40,45,50,55,60,70,75])\n",
    "plt.xlabel('difference (%)')\n",
    "plt.ylabel('counts')\n",
    "plt.title('e2')\n",
    "plt.savefig('image/histo_e2.png')"
   ]
  },
  {
   "cell_type": "code",
   "execution_count": null,
   "id": "3fb8a531-4d4b-4ba2-ac3b-58adad0ea489",
   "metadata": {
    "execution": {
     "iopub.status.busy": "2023-08-16T16:05:12.078425Z",
     "iopub.status.idle": "2023-08-16T16:05:12.078568Z",
     "shell.execute_reply": "2023-08-16T16:05:12.078502Z",
     "shell.execute_reply.started": "2023-08-16T16:05:12.078494Z"
    },
    "tags": []
   },
   "outputs": [],
   "source": [
    "plt.hist2d(e1,e2,range=((0,100),(0,100)),bins=10)\n",
    "plt.colorbar()"
   ]
  },
  {
   "cell_type": "markdown",
   "id": "10bbb1ba-20c2-416f-b86c-4da11d64e2ea",
   "metadata": {},
   "source": [
    "# Multiple objects"
   ]
  },
  {
   "cell_type": "code",
   "execution_count": null,
   "id": "6a1dd3dd-c70f-48cf-9b04-a1c5f3716b7a",
   "metadata": {
    "execution": {
     "iopub.status.busy": "2023-08-16T16:05:12.078991Z",
     "iopub.status.idle": "2023-08-16T16:05:12.079133Z",
     "shell.execute_reply": "2023-08-16T16:05:12.079067Z",
     "shell.execute_reply.started": "2023-08-16T16:05:12.079060Z"
    },
    "tags": []
   },
   "outputs": [],
   "source": [
    "nobj = 100\n",
    "\n",
    "bandpass = roman_filters['Y106']\n",
    "\n",
    "psf = roman.getPSF(use_SCA, 'Y106', n_waves=10, wcs=wcs, pupil_bin=8)\n",
    "\n",
    "# Set up the full image for the galaxies\n",
    "full_image = galsim.ImageF(roman.n_pix, roman.n_pix, wcs=wcs)\n",
    "\n",
    "# image_rng = galsim.UniformDeviate(seed1 + nobj)\n",
    "\n",
    "for i_obj in range(nobj):\n",
    "    \n",
    "    obj_rng = galsim.UniformDeviate(seed + 1 + 10**6 + i_obj)\n",
    "\n",
    "    p = obj_rng()\n",
    "\n",
    "    x = obj_rng() * roman.n_pix\n",
    "    y = obj_rng() * roman.n_pix\n",
    "    image_pos = galsim.PositionD(x,y)\n",
    "    logger.debug('Position = %s',image_pos)\n",
    "\n",
    "    # Now decide which of our three kinds of objects we want to draw:\n",
    "    # 80% faint galaxy\n",
    "    # 10% star\n",
    "    # 10% bright galaxy\n",
    "    if p < 0.9:\n",
    "        # Faint galaxy\n",
    "        logger.debug('Faint galaxy')\n",
    "\n",
    "        # Select a random galaxy from the catalog.\n",
    "        obj = cat1.makeGalaxy(chromatic=True, gal_type='parametric', rng=obj_rng)\n",
    "        print(obj.index)\n",
    "        # # Rotate the galaxy randomly\n",
    "        # theta = obj_rng() * 2 * np.pi * galsim.radians\n",
    "        # logger.debug('theta = %s',theta)\n",
    "        # obj = obj.rotate(theta)\n",
    "\n",
    "    else:\n",
    "        # Bright galaxy\n",
    "        logger.debug('Bright galaxy')\n",
    "\n",
    "        obj = cat2.makeGalaxy(chromatic=True, gal_type='parametric', rng=obj_rng)\n",
    "        print(obj.index)\n",
    "        # Scale up the area by a factor of 2, and the flux by a factor of 4.\n",
    "        # This is not necessarily physical, but it is intended to add some more big,\n",
    "        # bright galaxies to the scene to make the final image a bit more interesting.\n",
    "#         obj = obj.dilate(2) * 4\n",
    "\n",
    "#         # Rotate the galaxy randomly\n",
    "#         theta = obj_rng() * 2 * np.pi * galsim.radians\n",
    "#         logger.debug('theta = %s',theta)\n",
    "#         obj = obj.rotate(theta)\n",
    "\n",
    "    # Convolve the (chromatic) object with the (chromatic) PSF.\n",
    "    final = galsim.Convolve(obj, psf)\n",
    "    stamp = final.drawImage(bandpass, center=image_pos, wcs=wcs.local(image_pos))\n",
    "\n",
    "    # Find the overlapping bounds between the large image and the individual stamp.\n",
    "    bounds = stamp.bounds & full_image.bounds\n",
    "\n",
    "    # Add this to the corresponding location in the large image.\n",
    "    full_image[bounds] += stamp[bounds]"
   ]
  },
  {
   "cell_type": "code",
   "execution_count": null,
   "id": "1df6d716-0e9f-4ac8-8263-6da2cf604edd",
   "metadata": {
    "execution": {
     "iopub.status.busy": "2023-08-16T16:05:12.079632Z",
     "iopub.status.idle": "2023-08-16T16:05:12.079773Z",
     "shell.execute_reply": "2023-08-16T16:05:12.079708Z",
     "shell.execute_reply.started": "2023-08-16T16:05:12.079701Z"
    },
    "tags": []
   },
   "outputs": [],
   "source": [
    "full_image"
   ]
  },
  {
   "cell_type": "code",
   "execution_count": null,
   "id": "ae2c2d31-0d92-4cc3-a73e-4879d264ba0d",
   "metadata": {
    "execution": {
     "iopub.status.busy": "2023-08-16T16:05:12.080201Z",
     "iopub.status.idle": "2023-08-16T16:05:12.080341Z",
     "shell.execute_reply": "2023-08-16T16:05:12.080276Z",
     "shell.execute_reply.started": "2023-08-16T16:05:12.080269Z"
    },
    "tags": []
   },
   "outputs": [],
   "source": [
    "data=fits.open(\"output/demo13_Z087.fits\")\n",
    "data=data[0].data\n",
    "\n",
    "m, s = np.mean(data), np.std(data)\n",
    "plt.imshow(data, interpolation='nearest', cmap='gray', vmin=m-s, vmax=m+s, origin='lower')\n",
    "plt.colorbar();"
   ]
  },
  {
   "cell_type": "code",
   "execution_count": null,
   "id": "05e6d92c-3048-43cd-9605-d39c42d75235",
   "metadata": {
    "execution": {
     "iopub.status.busy": "2023-08-16T16:05:12.080799Z",
     "iopub.status.idle": "2023-08-16T16:05:12.080937Z",
     "shell.execute_reply": "2023-08-16T16:05:12.080873Z",
     "shell.execute_reply.started": "2023-08-16T16:05:12.080866Z"
    },
    "tags": []
   },
   "outputs": [],
   "source": [
    "import sep\n",
    "\n",
    "data = data.byteswap(inplace=True).newbyteorder()\n",
    "bkg = sep.Background(data)\n",
    "bkg_image = bkg.back()\n",
    "bkg_rms = bkg.rms()\n",
    "data_sub = data - bkg\n",
    "objects = sep.extract(data_sub, 1.5, err=bkg.globalrms)\n",
    "len(objects)"
   ]
  },
  {
   "cell_type": "code",
   "execution_count": null,
   "id": "2999eb11-86c4-4960-9115-31ed35502b58",
   "metadata": {
    "execution": {
     "iopub.status.busy": "2023-08-16T16:05:12.081358Z",
     "iopub.status.idle": "2023-08-16T16:05:12.081500Z",
     "shell.execute_reply": "2023-08-16T16:05:12.081437Z",
     "shell.execute_reply.started": "2023-08-16T16:05:12.081430Z"
    },
    "tags": []
   },
   "outputs": [],
   "source": [
    "from matplotlib.patches import Ellipse\n",
    "\n",
    "# plot background-subtracted image\n",
    "fig, ax = plt.subplots()\n",
    "m, s = np.mean(data_sub), np.std(data_sub)\n",
    "im = ax.imshow(data_sub, interpolation='nearest', cmap='gray',\n",
    "               vmin=m-s, vmax=m+s, origin='lower')\n",
    "\n",
    "# plot an ellipse for each object\n",
    "for i in range(len(objects)):\n",
    "    e = Ellipse(xy=(objects['x'][i], objects['y'][i]),\n",
    "                width=6*objects['a'][i],\n",
    "                height=6*objects['b'][i],\n",
    "                angle=objects['theta'][i] * 180. / np.pi)\n",
    "    e.set_facecolor('none')\n",
    "    e.set_edgecolor('red')\n",
    "    ax.add_artist(e)"
   ]
  },
  {
   "cell_type": "code",
   "execution_count": null,
   "id": "a11aade3-e256-40b9-8206-2b327fef1026",
   "metadata": {},
   "outputs": [],
   "source": []
  }
 ],
 "metadata": {
  "kernelspec": {
   "display_name": "Python 3 (ipykernel)",
   "language": "python",
   "name": "python3"
  },
  "language_info": {
   "codemirror_mode": {
    "name": "ipython",
    "version": 3
   },
   "file_extension": ".py",
   "mimetype": "text/x-python",
   "name": "python",
   "nbconvert_exporter": "python",
   "pygments_lexer": "ipython3",
   "version": "3.11.4"
  }
 },
 "nbformat": 4,
 "nbformat_minor": 5
}
