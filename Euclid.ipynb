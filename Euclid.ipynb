{
 "cells": [
  {
   "cell_type": "code",
   "execution_count": 3,
   "id": "32889966-301f-45aa-894f-640f90c4da2e",
   "metadata": {
    "execution": {
     "iopub.execute_input": "2023-08-17T13:00:40.516226Z",
     "iopub.status.busy": "2023-08-17T13:00:40.515800Z",
     "iopub.status.idle": "2023-08-17T13:00:41.324231Z",
     "shell.execute_reply": "2023-08-17T13:00:41.323858Z",
     "shell.execute_reply.started": "2023-08-17T13:00:40.516205Z"
    },
    "tags": []
   },
   "outputs": [],
   "source": [
    "import argparse\n",
    "import random\n",
    "import numpy as np\n",
    "import sys, os\n",
    "import math\n",
    "import logging\n",
    "import time\n",
    "import galsim\n",
    "import galsim.roman as roman\n",
    "import datetime\n",
    "import matplotlib.pyplot as plt\n",
    "from astropy.io import fits\n",
    "from astropy.visualization import make_lupton_rgb"
   ]
  },
  {
   "cell_type": "code",
   "execution_count": 4,
   "id": "bfe5d1f3-d15a-43ba-a564-6b188857274f",
   "metadata": {
    "execution": {
     "iopub.execute_input": "2023-08-17T13:00:42.215574Z",
     "iopub.status.busy": "2023-08-17T13:00:42.215329Z",
     "iopub.status.idle": "2023-08-17T13:00:42.218539Z",
     "shell.execute_reply": "2023-08-17T13:00:42.218173Z",
     "shell.execute_reply.started": "2023-08-17T13:00:42.215561Z"
    },
    "tags": []
   },
   "outputs": [],
   "source": [
    "logging.basicConfig(format=\"%(message)s\", stream=sys.stdout)\n",
    "logger = logging.getLogger(\"demo13\")\n",
    "logging_levels = { 0: logging.CRITICAL,\n",
    "                   1: logging.WARNING,\n",
    "                   2: logging.INFO,\n",
    "                   3: logging.DEBUG }"
   ]
  },
  {
   "cell_type": "code",
   "execution_count": 5,
   "id": "2ecae328-9778-4157-9c21-4fb3b498ca2f",
   "metadata": {
    "execution": {
     "iopub.execute_input": "2023-08-17T13:00:42.644062Z",
     "iopub.status.busy": "2023-08-17T13:00:42.643748Z",
     "iopub.status.idle": "2023-08-17T13:00:42.717635Z",
     "shell.execute_reply": "2023-08-17T13:00:42.717040Z",
     "shell.execute_reply.started": "2023-08-17T13:00:42.644034Z"
    },
    "tags": []
   },
   "outputs": [],
   "source": [
    "# cat1 = galsim.COSMOSCatalog(sample='25.2', area=roman.collecting_area, exptime=roman.exptime)\n",
    "# cat2 = galsim.COSMOSCatalog(sample='23.5', area=roman.collecting_area, exptime=roman.exptime)\n",
    "\n",
    "# cat1 = galsim.COSMOSCatalog(sample='25.2', area=9900, exptime=565)\n",
    "cat = galsim.COSMOSCatalog(sample='23.5', area=9900, exptime=565)"
   ]
  },
  {
   "cell_type": "code",
   "execution_count": 6,
   "id": "51e158af-5d20-4091-b4ce-1b83fff4e172",
   "metadata": {
    "execution": {
     "iopub.execute_input": "2023-08-17T13:00:43.004201Z",
     "iopub.status.busy": "2023-08-17T13:00:43.003711Z",
     "iopub.status.idle": "2023-08-17T13:00:43.015834Z",
     "shell.execute_reply": "2023-08-17T13:00:43.015290Z",
     "shell.execute_reply.started": "2023-08-17T13:00:43.004161Z"
    },
    "tags": []
   },
   "outputs": [
    {
     "data": {
      "text/plain": [
       "50932"
      ]
     },
     "execution_count": 6,
     "metadata": {},
     "output_type": "execute_result"
    }
   ],
   "source": [
    "cat.nobjects"
   ]
  },
  {
   "cell_type": "code",
   "execution_count": 7,
   "id": "165ee304-8e9e-47d4-a43f-e5c9fe76668b",
   "metadata": {
    "execution": {
     "iopub.execute_input": "2023-08-17T13:00:43.315600Z",
     "iopub.status.busy": "2023-08-17T13:00:43.315240Z",
     "iopub.status.idle": "2023-08-17T13:00:43.321461Z",
     "shell.execute_reply": "2023-08-17T13:00:43.319907Z",
     "shell.execute_reply.started": "2023-08-17T13:00:43.315578Z"
    },
    "tags": []
   },
   "outputs": [
    {
     "data": {
      "text/plain": [
       "<galsim.galaxy_sample.COSMOSCatalog at 0x7fc2c60f3760>"
      ]
     },
     "execution_count": 7,
     "metadata": {},
     "output_type": "execute_result"
    }
   ],
   "source": [
    "cat"
   ]
  },
  {
   "cell_type": "code",
   "execution_count": 8,
   "id": "a5bad829-3682-4338-aeb0-4b39caab771e",
   "metadata": {
    "execution": {
     "iopub.execute_input": "2023-08-17T13:00:43.567709Z",
     "iopub.status.busy": "2023-08-17T13:00:43.566928Z",
     "iopub.status.idle": "2023-08-17T13:00:43.976602Z",
     "shell.execute_reply": "2023-08-17T13:00:43.976134Z",
     "shell.execute_reply.started": "2023-08-17T13:00:43.567678Z"
    },
    "tags": []
   },
   "outputs": [],
   "source": [
    "datapath = galsim.meta_data.share_dir\n",
    "filter_filename = os.path.join(datapath, 'bandpasses/euclid.dat')\n",
    "bandpass = galsim.Bandpass(filter_filename, wave_type='Angstrom')"
   ]
  },
  {
   "cell_type": "code",
   "execution_count": 9,
   "id": "1cf60dfe-eb62-427c-bb29-ecb423c8f5b9",
   "metadata": {
    "execution": {
     "iopub.execute_input": "2023-08-17T13:00:43.991463Z",
     "iopub.status.busy": "2023-08-17T13:00:43.991128Z",
     "iopub.status.idle": "2023-08-17T13:00:43.996200Z",
     "shell.execute_reply": "2023-08-17T13:00:43.995592Z",
     "shell.execute_reply.started": "2023-08-17T13:00:43.991443Z"
    },
    "tags": []
   },
   "outputs": [],
   "source": [
    "use_SCA = 7\n",
    "seed = 12345"
   ]
  },
  {
   "cell_type": "code",
   "execution_count": 10,
   "id": "04ad4dbf-d8ec-4f61-b628-53d05ebf6d17",
   "metadata": {
    "execution": {
     "iopub.execute_input": "2023-08-17T13:00:44.659448Z",
     "iopub.status.busy": "2023-08-17T13:00:44.659000Z",
     "iopub.status.idle": "2023-08-17T13:00:44.676411Z",
     "shell.execute_reply": "2023-08-17T13:00:44.675598Z",
     "shell.execute_reply.started": "2023-08-17T13:00:44.659427Z"
    },
    "tags": []
   },
   "outputs": [],
   "source": [
    "import numpy as np\n",
    "import os\n",
    "from galsim.utilities import LRU_Cache\n",
    "\n",
    "\"\"\"\n",
    "@file roman_psfs.py\n",
    "\n",
    "Part of the Roman Space Telescope module.  This file includes routines needed to define a realistic\n",
    "PSF for Roman.\n",
    "\"\"\"\n",
    "\n",
    "# Define a default set of bandpasses for which this routine works.\n",
    "default_bandpass_list = ['J129', 'F184', 'W149', 'Y106', 'Z087', 'H158']\n",
    "# Prefix for files containing information about Zernikes for each SCA for cycle 7.\n",
    "zemax_filepref = \"Roman_Phase-A_SRR_WFC_Zernike_and_Field_Data_170727\"\n",
    "zemax_filesuff = '.txt'\n",
    "zemax_wavelength = 1293. #nm\n",
    "\n",
    "# These need 'SCA*' prepended to the start to get the file name, and they live in\n",
    "# the share/roman directory.\n",
    "pupil_plane_file_longwave = '_full_mask.fits.gz'\n",
    "pupil_plane_file_shortwave = '_rim_mask.fits.gz'\n",
    "\n",
    "def __make_aperture(SCA, pupil_plane_type, pupil_bin, wave, gsparams):\n",
    "    from galsim.roman import diameter, obscuration\n",
    "    from galsim import fits\n",
    "    from galsim import meta_data\n",
    "    from galsim.phase_psf import Aperture\n",
    "\n",
    "    # Load the pupil plane image.\n",
    "    if pupil_plane_type == 'long':\n",
    "        pupil_plane_im = os.path.join(meta_data.share_dir, 'roman',\n",
    "            'SCA%d'%SCA + pupil_plane_file_longwave)\n",
    "    else:\n",
    "        pupil_plane_im = os.path.join(meta_data.share_dir, 'roman',\n",
    "            'SCA%d'%SCA + pupil_plane_file_shortwave)\n",
    "    pupil_plane_im = fits.read(pupil_plane_im, read_header=True)\n",
    "    # Native pixel scale in the file is for the exit pupil.  We want the scale of the\n",
    "    # entrance pupil.  Fortunately, they provide the conversion as PUPILMAG in the header.\n",
    "    # They also use microns for units, and we want meters, hence the extra 1.e-6.\n",
    "    pupil_plane_im.scale *= pupil_plane_im.header['PUPILMAG'] * 1.e-6\n",
    "\n",
    "    pupil_plane_im = pupil_plane_im.bin(pupil_bin,pupil_bin)\n",
    "    \n",
    "    # diameter = 1.3\n",
    "    aper = Aperture(lam=wave, diam=diameter,\n",
    "                    obscuration=obscuration,\n",
    "                    pupil_plane_im=pupil_plane_im,\n",
    "                    gsparams=gsparams)\n",
    "    return aper\n",
    "\n",
    "# Usually a given run will only need one or a few different apertures for repeated getPSF calls.\n",
    "# So cache those apertures here to avoid having to remake them.\n",
    "_make_aperture = LRU_Cache(__make_aperture)\n",
    "\n",
    "def _get_single_PSF(SCA, bandpass, SCA_pos, pupil_bin,\n",
    "                    n_waves, extra_aberrations, wavelength,\n",
    "                    pupil_plane_type, gsparams):\n",
    "    \"\"\"Routine for making a single PSF.  This gets called by `getPSF` after it parses all the\n",
    "       options that were passed in.  Users will not directly interact with this routine.\n",
    "    \"\"\"\n",
    "    from galsim import OpticalPSF, ChromaticOpticalPSF\n",
    "    from galsim.roman import diameter\n",
    "    from galsim.bandpass import Bandpass\n",
    "\n",
    "    if wavelength is None:\n",
    "        wave = zemax_wavelength\n",
    "    elif isinstance(wavelength, Bandpass):\n",
    "        wave = wavelength = wavelength.effective_wavelength\n",
    "    else:\n",
    "        wave = wavelength\n",
    "\n",
    "    # All parameters relevant to the aperture.  We may be able to use a cached version.\n",
    "    aper = _make_aperture(SCA, pupil_plane_type, pupil_bin, wave, gsparams)\n",
    "\n",
    "    # Start reading in the aberrations for that SCA\n",
    "    aberrations, x_pos, y_pos = _read_aberrations(SCA)\n",
    "    # Do bilinear interpolation, unless we're exactly at the center (default).\n",
    "    use_aberrations = _interp_aberrations_bilinear(aberrations, x_pos, y_pos, SCA_pos)\n",
    "\n",
    "    if extra_aberrations is not None:\n",
    "        use_aberrations[:len(extra_aberrations)] += extra_aberrations\n",
    "    # We don't want to use piston, tip, or tilt aberrations.  The former doesn't affect the\n",
    "    # appearance of the PSF, and the latter cause centroid shifts.  So, we set the first 4\n",
    "    # numbers (corresponding to a place-holder, piston, tip, and tilt) to zero.\n",
    "    use_aberrations[0:4] = 0.\n",
    "    \n",
    "    # Now set up the PSF, including the option to interpolate over waves\n",
    "    \n",
    "    # diameter = 1.3\n",
    "    if wavelength is None:\n",
    "        PSF = ChromaticOpticalPSF(lam=zemax_wavelength,\n",
    "                                  diam=diameter, aberrations=use_aberrations,\n",
    "                                  aper=aper, gsparams=gsparams)\n",
    "        if n_waves is not None:\n",
    "            # To decide the range of wavelengths to use, check the bandpass.\n",
    "            bp = bandpass\n",
    "            PSF = PSF.interpolate(waves=np.linspace(bp.blue_limit, bp.red_limit, n_waves),\n",
    "                                  oversample_fac=1.5)\n",
    "    else:\n",
    "        tmp_aberrations = use_aberrations * zemax_wavelength / wavelength\n",
    "        PSF = OpticalPSF(lam=wavelength, diam=diameter,\n",
    "                         aberrations=tmp_aberrations,\n",
    "                         aper=aper, gsparams=gsparams)\n",
    "\n",
    "    return PSF\n",
    "def _read_aberrations(SCA):\n",
    "    \"\"\"\n",
    "    This is a helper routine that reads in aberrations for a particular SCA and wavelength (given as\n",
    "    galsim.roman.roman_psfs.zemax_wavelength) from stored files, and returns them along with the\n",
    "    field positions.\n",
    "\n",
    "    Parameters:\n",
    "        SCA:        The identifier for the SCA, from 1-18.\n",
    "\n",
    "    Returns:\n",
    "        NumPy arrays containing the aberrations, and x and y field positions.\n",
    "    \"\"\"\n",
    "    from galsim import meta_data\n",
    "    from galsim.roman import pixel_scale, n_pix, pixel_scale_mm\n",
    "\n",
    "    # Construct filename.\n",
    "    sca_str = '_%02d'%SCA\n",
    "    infile = os.path.join(meta_data.share_dir, 'roman',\n",
    "                          zemax_filepref + sca_str + zemax_filesuff)\n",
    "\n",
    "    # Read in data.\n",
    "    dat = np.loadtxt(infile)\n",
    "    # It actually has 5 field positions, not just 1, to allow us to make position-dependent PSFs\n",
    "    # within an SCA eventually.  Put it in the required format: an array of length (5 field\n",
    "    # positions, 23 Zernikes), with the first entry empty (Zernike polynomials are 1-indexed so we\n",
    "    # use entries 1-22).  The units are waves.\n",
    "    aberrations = np.zeros((5,23))\n",
    "    aberrations[:,1:] = dat[:,5:]\n",
    "    # Also get the field position.  The file gives it in mm with respect to the center, but we\n",
    "    # want it in pixels with respect to the corner. The pixel size of the detector is 0.01 mm/pixel\n",
    "    # The y-coordinates have the opposite signs to the corresponding WFI location, explained \n",
    "    # in the Roman file.\n",
    "\n",
    "    x_sca_pos = dat[:,1]/pixel_scale_mm + n_pix/2\n",
    "    y_sca_pos = n_pix/2 - dat[:,2]/pixel_scale_mm\n",
    "    return aberrations, x_sca_pos, y_sca_pos\n",
    "def _interp_aberrations_bilinear(aberrations, x_pos, y_pos, SCA_pos):\n",
    "    \"\"\"\n",
    "    This is a helper routine to do bilinear interpolation of aberrations defined at 4 field\n",
    "    positions: the four corners.  Note that we also have aberrations at the center position,\n",
    "    but these are generally quite close (within a few percent) of what would come from this bilinear\n",
    "    interpolation.  So for simplicity, we just do the bilinear interpolation.\n",
    "    \"\"\"\n",
    "    min_x = np.min(x_pos)\n",
    "    min_y = np.min(y_pos)\n",
    "    max_x = np.max(x_pos)\n",
    "    max_y = np.max(y_pos)\n",
    "    x_frac = (SCA_pos.x - min_x) / (max_x - min_x)\n",
    "    y_frac = (SCA_pos.y - min_y) / (max_y - min_y)\n",
    "    lower_x_lower_y_ab = aberrations[(x_pos==min_x) & (y_pos==min_y), :]\n",
    "    lower_x_upper_y_ab = aberrations[(x_pos==min_x) & (y_pos==max_y), :]\n",
    "    upper_x_lower_y_ab = aberrations[(x_pos==max_x) & (y_pos==min_y), :]\n",
    "    upper_x_upper_y_ab = aberrations[(x_pos==max_x) & (y_pos==max_y), :]\n",
    "    interp_ab = (1.0-x_frac)*(1.0-y_frac)*lower_x_lower_y_ab + \\\n",
    "        (1.0-x_frac)*y_frac*lower_x_upper_y_ab + \\\n",
    "        x_frac*(1.0-y_frac)*upper_x_lower_y_ab + \\\n",
    "        x_frac*y_frac*upper_x_upper_y_ab\n",
    "\n",
    "    return interp_ab.flatten()"
   ]
  },
  {
   "cell_type": "code",
   "execution_count": 11,
   "id": "0de2d6ab-fe58-4458-a2fa-0531216e057c",
   "metadata": {
    "execution": {
     "iopub.execute_input": "2023-08-17T13:00:45.181168Z",
     "iopub.status.busy": "2023-08-17T13:00:45.180827Z",
     "iopub.status.idle": "2023-08-17T13:00:45.387439Z",
     "shell.execute_reply": "2023-08-17T13:00:45.386483Z",
     "shell.execute_reply.started": "2023-08-17T13:00:45.181147Z"
    },
    "tags": []
   },
   "outputs": [],
   "source": [
    "n_pix = galsim.roman.n_pix\n",
    "# n_pix = 64\n",
    "psf = _get_single_PSF(SCA = use_SCA, bandpass = bandpass,SCA_pos=galsim.PositionD(n_pix/2,n_pix/2),\n",
    "                      pupil_bin=16, n_waves=10, extra_aberrations=None,\n",
    "                       wavelength=None, gsparams=None, pupil_plane_type = 'short')"
   ]
  },
  {
   "cell_type": "code",
   "execution_count": null,
   "id": "37330256-b8b9-4d84-895a-b8a61618a73f",
   "metadata": {
    "tags": []
   },
   "outputs": [],
   "source": [
    "psf"
   ]
  },
  {
   "cell_type": "code",
   "execution_count": 27,
   "id": "fe6e711c-fda4-4eb9-ac68-a683e5c86ad9",
   "metadata": {
    "execution": {
     "iopub.execute_input": "2023-08-17T12:03:46.811714Z",
     "iopub.status.busy": "2023-08-17T12:03:46.811490Z",
     "iopub.status.idle": "2023-08-17T12:03:48.742634Z",
     "shell.execute_reply": "2023-08-17T12:03:48.741973Z",
     "shell.execute_reply.started": "2023-08-17T12:03:46.811696Z"
    },
    "tags": []
   },
   "outputs": [],
   "source": [
    "i=200\n",
    "psf_sed = galsim.SED('1', wave_type='Angstrom', flux_type='flambda')\n",
    "psf_star = galsim.DeltaFunction()\n",
    "\n",
    "# Faint galaxy\n",
    "logger.debug('Faint galaxy')\n",
    "\n",
    "# Select a random galaxy from the catalog.\n",
    "obj = cat.makeGalaxy(chromatic=True, gal_type='parametric', index=i)\n",
    "logger.debug('galaxy index = %s',obj.index)\n",
    "# obj = obj.shear(e1 = 0.01,e2=0.01)\n",
    "\n",
    "\n",
    "# Convolve the (chromatic) object with the (chromatic) PSF.\n",
    "pixel_scale = roman.pixel_scale\n",
    "wcs = galsim.PixelScale(pixel_scale) \n",
    "im_obj = obj.drawImage(bandpass,nx=64,ny=64,wcs=wcs)\n",
    "final = galsim.Convolve(obj, psf)\n",
    "stamp = final.drawImage(bandpass, nx=64,ny=64, wcs = wcs)\n",
    "psf_img = galsim.Convolve([psf_star, psf]) * psf_sed.withFlux(1, bandpass)\n",
    "im_psf = psf_img.drawImage(bandpass,nx=64,ny=64,wcs=wcs)"
   ]
  },
  {
   "cell_type": "code",
   "execution_count": 28,
   "id": "2bbca8e1-2a78-4fc1-8db3-55466e75d2f4",
   "metadata": {
    "execution": {
     "iopub.execute_input": "2023-08-17T12:03:49.420011Z",
     "iopub.status.busy": "2023-08-17T12:03:49.419492Z",
     "iopub.status.idle": "2023-08-17T12:03:49.983147Z",
     "shell.execute_reply": "2023-08-17T12:03:49.982273Z",
     "shell.execute_reply.started": "2023-08-17T12:03:49.419996Z"
    },
    "tags": []
   },
   "outputs": [
    {
     "name": "stdout",
     "output_type": "stream",
     "text": [
      "- AdaptiveMom shapes:\n",
      "Mom: -0.20714826881885523 -0.015611263923346995 1.470071792602539 \n",
      "\n",
      "- EstimateShear shapes:\n",
      "Uncorr: -0.18498273193836212 0.017945677042007446 \n",
      "Corr: -0.2873646914958954 -0.038512539118528366 1.8937017917633057\n",
      "PSF shape: 0.01752064935863018 0.25110346078872675\n"
     ]
    },
    {
     "data": {
      "text/plain": [
       "<matplotlib.colorbar.Colorbar at 0x7f0e5598e700>"
      ]
     },
     "execution_count": 28,
     "metadata": {},
     "output_type": "execute_result"
    },
    {
     "data": {
      "image/png": "[encoded data removed]",
      "text/plain": [
       "<Figure size 1500x1000 with 4 Axes>"
      ]
     },
     "metadata": {},
     "output_type": "display_data"
    }
   ],
   "source": [
    "fig, axs = plt.subplots(1,2,figsize=[15,10])\n",
    "\n",
    "im = axs[0].imshow(im_obj.array,cmap='gist_stern',origin='lower')\n",
    "axs[0].set_title('galaxy')\n",
    "fig.colorbar(im,ax=axs[0],shrink=0.5)\n",
    "s = galsim.hsm.FindAdaptiveMom(im_obj, round_moments = False )\n",
    "print(\"- AdaptiveMom shapes:\")\n",
    "print(\"Mom:\", s.observed_shape.e1, s.observed_shape.e2, s.moments_sigma, s.error_message.strip(\"\\n\"))\n",
    "print()\n",
    "\n",
    "im = axs[1].imshow(stamp.array,cmap='gist_stern',origin='lower')\n",
    "axs[1].set_title('convolved galaxy')\n",
    "s = galsim.hsm.EstimateShear(stamp, im_psf)\n",
    "print(\"- EstimateShear shapes:\")\n",
    "print(\"Uncorr:\", s.observed_shape.e1, s.observed_shape.e2, s.error_message.strip(\"\\n\"))\n",
    "print(\"Corr:\", s.corrected_e1, s.corrected_e2, s.moments_sigma)\n",
    "print(\"PSF shape:\", s.psf_shape.e1,s.psf_shape.e2)\n",
    "fig.colorbar(im,ax=axs[1],shrink=0.5)\n",
    "\n",
    "# plt.savefig('image/2.png')\n"
   ]
  },
  {
   "cell_type": "code",
   "execution_count": 15,
   "id": "f7e4973a-6a55-48f4-a316-606724146dfd",
   "metadata": {
    "execution": {
     "iopub.execute_input": "2023-08-16T16:05:08.740420Z",
     "iopub.status.busy": "2023-08-16T16:05:08.740183Z",
     "iopub.status.idle": "2023-08-16T16:05:08.938463Z",
     "shell.execute_reply": "2023-08-16T16:05:08.937747Z",
     "shell.execute_reply.started": "2023-08-16T16:05:08.740401Z"
    },
    "tags": []
   },
   "outputs": [
    {
     "data": {
      "text/plain": [
       "<matplotlib.colorbar.Colorbar at 0x7fc5143cc8e0>"
      ]
     },
     "execution_count": 15,
     "metadata": {},
     "output_type": "execute_result"
    },
    {
     "data": {
      "image/png": "[encoded data removed]",
      "text/plain": [
       "<Figure size 640x480 with 2 Axes>"
      ]
     },
     "metadata": {},
     "output_type": "display_data"
    }
   ],
   "source": [
    "im = plt.imshow(im_psf.array,cmap='gist_stern',origin='lower')\n",
    "plt.title('psf')\n",
    "plt.colorbar()\n",
    "# plt.savefig('image/psf.png')"
   ]
  },
  {
   "cell_type": "code",
   "execution_count": 107,
   "id": "454b90d8-870f-43bb-8178-29e21f1c03d5",
   "metadata": {
    "execution": {
     "iopub.execute_input": "2023-08-17T14:12:38.730516Z",
     "iopub.status.busy": "2023-08-17T14:12:38.730005Z",
     "iopub.status.idle": "2023-08-17T14:13:17.421557Z",
     "shell.execute_reply": "2023-08-17T14:13:17.421087Z",
     "shell.execute_reply.started": "2023-08-17T14:12:38.730475Z"
    },
    "tags": []
   },
   "outputs": [],
   "source": [
    "nobj=100\n",
    "i=0\n",
    "\n",
    "samples1=[]\n",
    "samples2=[]\n",
    "in_shape1=[]\n",
    "in_shape2=[]\n",
    "\n",
    "psf_sed = galsim.SED('1', wave_type='Angstrom', flux_type='flambda')\n",
    "psf_star = galsim.DeltaFunction()\n",
    "pixel_scale = roman.pixel_scale\n",
    "wcs = galsim.PixelScale(pixel_scale)\n",
    "psf_img = galsim.Convolve([psf_star, psf]) * psf_sed.withFlux(1, bandpass)\n",
    "im_psf = psf_img.drawImage(bandpass,nx=32,ny=32,wcs=wcs)\n",
    "\n",
    "while i < nobj:\n",
    "    a = random.randint(0, cat.nobjects-1)\n",
    "    angle = random.random()*2*np.pi*galsim.radians\n",
    "    \n",
    "    obj = cat.makeGalaxy(chromatic=True, gal_type='parametric', index=a)\n",
    "    obj = obj.rotate(angle)\n",
    "    \n",
    "    obj1 = obj.rotate(90*galsim.degrees)\n",
    "    \n",
    "    try:\n",
    "        im_obj = obj.drawImage(bandpass,nx=64,ny=64,wcs=wcs)\n",
    "        final = galsim.Convolve(obj, psf)\n",
    "        stamp = final.drawImage(bandpass, nx=64,ny=64, wcs = wcs)\n",
    "        s = galsim.hsm.EstimateShear(stamp, im_psf)\n",
    "        o = galsim.hsm.FindAdaptiveMom(im_obj, round_moments = False )\n",
    "        \n",
    "        im_obj1 = obj1.drawImage(bandpass,nx=64,ny=64,wcs=wcs)\n",
    "        final1 = galsim.Convolve(obj1, psf)\n",
    "        stamp1 = final.drawImage(bandpass, nx=64,ny=64, wcs = wcs)\n",
    "        s1 = galsim.hsm.EstimateShear(stamp1, im_psf)\n",
    "        o1 = galsim.hsm.FindAdaptiveMom(im_obj1, round_moments = False )\n",
    "        \n",
    "        # print(o.observed_shape.e1, o1.observed_shape.e1)\n",
    "        samples1.append(obj)\n",
    "        samples2.append(obj1)\n",
    "        i+=1\n",
    "        in_shape1.append([o.observed_shape.e1, o1.observed_shape.e1])\n",
    "        in_shape2.append([o.observed_shape.e2, o1.observed_shape.e2])\n",
    "        \n",
    "        # print(o.observed_shape.e1 + o1.observed_shape.e1, o.observed_shape.e2+o1.observed_shape.e2)\n",
    "        # print(o.observed_shape.g1 + o1.observed_shape.g1, o.observed_shape.g2+o1.observed_shape.g2)\n",
    "    except galsim.GalSimFFTSizeError:\n",
    "        pass\n",
    "    except galsim.GalSimHSMError:\n",
    "        pass\n",
    "    \n",
    "samples1 = np.asarray(samples1)\n",
    "samples2 = np.asarray(samples2)\n",
    "in_shape1 = np.asarray(in_shape1)\n",
    "in_shape2 = np.asarray(in_shape2)\n"
   ]
  },
  {
   "cell_type": "code",
   "execution_count": 108,
   "id": "c0325835-d372-4e9c-a81c-7b4f4c00d41d",
   "metadata": {
    "execution": {
     "iopub.execute_input": "2023-08-17T14:13:19.608299Z",
     "iopub.status.busy": "2023-08-17T14:13:19.608049Z",
     "iopub.status.idle": "2023-08-17T14:13:19.612122Z",
     "shell.execute_reply": "2023-08-17T14:13:19.611466Z",
     "shell.execute_reply.started": "2023-08-17T14:13:19.608278Z"
    },
    "tags": []
   },
   "outputs": [
    {
     "data": {
      "text/plain": [
       "(100, 200)"
      ]
     },
     "execution_count": 108,
     "metadata": {},
     "output_type": "execute_result"
    }
   ],
   "source": [
    "samples1.size, in_shape1.size"
   ]
  },
  {
   "cell_type": "code",
   "execution_count": 109,
   "id": "93318755-5136-4196-99f9-3d62db7c1256",
   "metadata": {
    "execution": {
     "iopub.execute_input": "2023-08-17T14:13:19.972695Z",
     "iopub.status.busy": "2023-08-17T14:13:19.972188Z",
     "iopub.status.idle": "2023-08-17T14:13:19.978232Z",
     "shell.execute_reply": "2023-08-17T14:13:19.977715Z",
     "shell.execute_reply.started": "2023-08-17T14:13:19.972661Z"
    },
    "tags": []
   },
   "outputs": [
    {
     "data": {
      "text/plain": [
       "(0.004973432049155346, -0.0012097719591114275)"
      ]
     },
     "execution_count": 109,
     "metadata": {},
     "output_type": "execute_result"
    }
   ],
   "source": [
    "in_shape1.sum(), in_shape2.sum()"
   ]
  },
  {
   "cell_type": "code",
   "execution_count": 122,
   "id": "5939fd5d-c5d2-4a14-8ab4-fbfa13d1d059",
   "metadata": {
    "execution": {
     "iopub.execute_input": "2023-08-17T14:17:27.712306Z",
     "iopub.status.busy": "2023-08-17T14:17:27.711370Z",
     "iopub.status.idle": "2023-08-17T14:17:27.810044Z",
     "shell.execute_reply": "2023-08-17T14:17:27.809421Z",
     "shell.execute_reply.started": "2023-08-17T14:17:27.712229Z"
    },
    "tags": []
   },
   "outputs": [],
   "source": [
    "nobj = 200\n",
    "i=0\n",
    "\n",
    "samples=[]\n",
    "\n",
    "while i < nobj:\n",
    "    a = random.randint(0, samples1.size-1)\n",
    "    obj = samples1[a]\n",
    "    obj1 = samples2[a]\n",
    "    \n",
    "    obj = obj.shear(e2 = 0.02)\n",
    "    obj1 = obj1.shear(e2 = 0.02)\n",
    "    \n",
    "    # im_obj = obj.drawImage(bandpass,nx=64,ny=64,wcs=wcs)\n",
    "    # o = galsim.hsm.FindAdaptiveMom(im_obj, round_moments = False )\n",
    "    # im_obj1 = obj1.drawImage(bandpass,nx=64,ny=64,wcs=wcs)\n",
    "    # o1 = galsim.hsm.FindAdaptiveMom(im_obj1, round_moments = False )\n",
    "    # print(o.observed_shape.e1, o1.observed_shape.e1)\n",
    "\n",
    "    i+=2\n",
    "    \n",
    "    samples.append(obj)\n",
    "    samples.append(obj1)\n",
    "\n",
    "samples = np.asarray(samples)\n",
    "random.shuffle(samples)\n"
   ]
  },
  {
   "cell_type": "code",
   "execution_count": 123,
   "id": "c43b0c11-0c70-41b4-a307-2442c09ef505",
   "metadata": {
    "execution": {
     "iopub.execute_input": "2023-08-17T14:17:28.680849Z",
     "iopub.status.busy": "2023-08-17T14:17:28.680426Z",
     "iopub.status.idle": "2023-08-17T14:18:14.249359Z",
     "shell.execute_reply": "2023-08-17T14:18:14.248875Z",
     "shell.execute_reply.started": "2023-08-17T14:17:28.680826Z"
    },
    "tags": []
   },
   "outputs": [],
   "source": [
    "e1 = []\n",
    "e2 = []\n",
    "for i in range(samples.size):\n",
    "    obj = samples[i]\n",
    "    final = galsim.Convolve(obj, psf)\n",
    "    stamp = final.drawImage(bandpass, nx=64,ny=64, wcs = wcs)\n",
    "    s = galsim.hsm.EstimateShear(stamp, im_psf)\n",
    "    # print(s.observed_shape.e1)\n",
    "    e1.append(s.observed_shape.e1)\n",
    "    e2.append(s.observed_shape.e2)\n",
    "    \n",
    "e1 = np.asarray(e1)\n",
    "e2 = np.asarray(e2)"
   ]
  },
  {
   "cell_type": "code",
   "execution_count": 117,
   "id": "76abb916-bdbd-4908-bc69-70fb6037064f",
   "metadata": {
    "execution": {
     "iopub.execute_input": "2023-08-17T14:16:43.418139Z",
     "iopub.status.busy": "2023-08-17T14:16:43.417874Z",
     "iopub.status.idle": "2023-08-17T14:16:43.422084Z",
     "shell.execute_reply": "2023-08-17T14:16:43.421569Z",
     "shell.execute_reply.started": "2023-08-17T14:16:43.418119Z"
    },
    "tags": []
   },
   "outputs": [
    {
     "data": {
      "text/plain": [
       "(0.00423452740244102, 0.0322605620441027)"
      ]
     },
     "execution_count": 117,
     "metadata": {},
     "output_type": "execute_result"
    }
   ],
   "source": [
    "e1.mean(), e2.mean()"
   ]
  },
  {
   "cell_type": "code",
   "execution_count": 121,
   "id": "9bafc7d7-42ad-4d10-b56c-ba11d3e0242d",
   "metadata": {
    "execution": {
     "iopub.execute_input": "2023-08-17T14:17:01.672156Z",
     "iopub.status.busy": "2023-08-17T14:17:01.671709Z",
     "iopub.status.idle": "2023-08-17T14:17:01.679901Z",
     "shell.execute_reply": "2023-08-17T14:17:01.678948Z",
     "shell.execute_reply.started": "2023-08-17T14:17:01.672122Z"
    },
    "tags": []
   },
   "outputs": [
    {
     "data": {
      "text/plain": [
       "[4, 10, 9, 7, 1, 5, 8, 6, 3, 2]"
      ]
     },
     "execution_count": 121,
     "metadata": {},
     "output_type": "execute_result"
    }
   ],
   "source": [
    "array = [1,2,3,4,5,6,7,8,9,10]\n",
    "random.shuffle(array)\n",
    "array"
   ]
  },
  {
   "cell_type": "code",
   "execution_count": 16,
   "id": "26505aec-6fe7-46cb-8024-1414a05ced23",
   "metadata": {
    "execution": {
     "iopub.execute_input": "2023-08-16T16:05:08.939575Z",
     "iopub.status.busy": "2023-08-16T16:05:08.939334Z",
     "iopub.status.idle": "2023-08-16T16:05:12.067576Z",
     "shell.execute_reply": "2023-08-16T16:05:12.066267Z",
     "shell.execute_reply.started": "2023-08-16T16:05:08.939555Z"
    },
    "tags": []
   },
   "outputs": [
    {
     "ename": "KeyboardInterrupt",
     "evalue": "",
     "output_type": "error",
     "traceback": [
      "\u001b[0;31m---------------------------------------------------------------------------\u001b[0m",
      "\u001b[0;31mKeyboardInterrupt\u001b[0m                         Traceback (most recent call last)",
      "Cell \u001b[0;32mIn[16], line 25\u001b[0m\n\u001b[1;32m     23\u001b[0m im_obj \u001b[38;5;241m=\u001b[39m obj\u001b[38;5;241m.\u001b[39mdrawImage(bandpass,nx\u001b[38;5;241m=\u001b[39m\u001b[38;5;241m64\u001b[39m,ny\u001b[38;5;241m=\u001b[39m\u001b[38;5;241m64\u001b[39m,wcs\u001b[38;5;241m=\u001b[39mwcs)\n\u001b[1;32m     24\u001b[0m final \u001b[38;5;241m=\u001b[39m galsim\u001b[38;5;241m.\u001b[39mConvolve(obj, psf)\n\u001b[0;32m---> 25\u001b[0m stamp \u001b[38;5;241m=\u001b[39m \u001b[43mfinal\u001b[49m\u001b[38;5;241;43m.\u001b[39;49m\u001b[43mdrawImage\u001b[49m\u001b[43m(\u001b[49m\u001b[43mbandpass\u001b[49m\u001b[43m,\u001b[49m\u001b[43m \u001b[49m\u001b[43mnx\u001b[49m\u001b[38;5;241;43m=\u001b[39;49m\u001b[38;5;241;43m64\u001b[39;49m\u001b[43m,\u001b[49m\u001b[43mny\u001b[49m\u001b[38;5;241;43m=\u001b[39;49m\u001b[38;5;241;43m64\u001b[39;49m\u001b[43m,\u001b[49m\u001b[43m \u001b[49m\u001b[43mwcs\u001b[49m\u001b[43m \u001b[49m\u001b[38;5;241;43m=\u001b[39;49m\u001b[43m \u001b[49m\u001b[43mwcs\u001b[49m\u001b[43m)\u001b[49m\n\u001b[1;32m     26\u001b[0m psf_img \u001b[38;5;241m=\u001b[39m galsim\u001b[38;5;241m.\u001b[39mConvolve([psf_star, psf]) \u001b[38;5;241m*\u001b[39m psf_sed\u001b[38;5;241m.\u001b[39mwithFlux(\u001b[38;5;241m1\u001b[39m, bandpass)\n\u001b[1;32m     27\u001b[0m im_psf \u001b[38;5;241m=\u001b[39m psf_img\u001b[38;5;241m.\u001b[39mdrawImage(bandpass,nx\u001b[38;5;241m=\u001b[39m\u001b[38;5;241m32\u001b[39m,ny\u001b[38;5;241m=\u001b[39m\u001b[38;5;241m32\u001b[39m,wcs\u001b[38;5;241m=\u001b[39mwcs)\n",
      "File \u001b[0;32m~/anaconda3/envs/tin/lib/python3.9/site-packages/galsim/chromatic.py:2636\u001b[0m, in \u001b[0;36mChromaticConvolution.drawImage\u001b[0;34m(self, bandpass, image, integrator, iimult, **kwargs)\u001b[0m\n\u001b[1;32m   2634\u001b[0m     \u001b[38;5;66;03m# add to previously started image\u001b[39;00m\n\u001b[1;32m   2635\u001b[0m     _remove_setup_kwargs(kwargs)\n\u001b[0;32m-> 2636\u001b[0m     image \u001b[38;5;241m=\u001b[39m \u001b[43mtmpobj\u001b[49m\u001b[38;5;241;43m.\u001b[39;49m\u001b[43mdrawImage\u001b[49m\u001b[43m(\u001b[49m\u001b[43mbandpass\u001b[49m\u001b[43m,\u001b[49m\u001b[43m \u001b[49m\u001b[43mimage\u001b[49m\u001b[38;5;241;43m=\u001b[39;49m\u001b[43mimage\u001b[49m\u001b[43m,\u001b[49m\u001b[43m \u001b[49m\u001b[43mintegrator\u001b[49m\u001b[38;5;241;43m=\u001b[39;49m\u001b[43mintegrator\u001b[49m\u001b[43m,\u001b[49m\n\u001b[1;32m   2637\u001b[0m \u001b[43m                            \u001b[49m\u001b[43miimult\u001b[49m\u001b[38;5;241;43m=\u001b[39;49m\u001b[43miimult\u001b[49m\u001b[43m,\u001b[49m\u001b[43m \u001b[49m\u001b[43madd_to_image\u001b[49m\u001b[38;5;241;43m=\u001b[39;49m\u001b[38;5;28;43;01mTrue\u001b[39;49;00m\u001b[43m,\u001b[49m\u001b[43m \u001b[49m\u001b[38;5;241;43m*\u001b[39;49m\u001b[38;5;241;43m*\u001b[39;49m\u001b[43mkwargs\u001b[49m\u001b[43m)\u001b[49m\n\u001b[1;32m   2638\u001b[0m \u001b[38;5;66;03m# Return the image here, breaking the loop early.  If there are two ChromaticSum\u001b[39;00m\n\u001b[1;32m   2639\u001b[0m \u001b[38;5;66;03m# instances in obj_list, then the above procedure will repeat in the recursion,\u001b[39;00m\n\u001b[1;32m   2640\u001b[0m \u001b[38;5;66;03m# effectively distributing the multiplication over both sums.\u001b[39;00m\n\u001b[1;32m   2641\u001b[0m \u001b[38;5;28mself\u001b[39m\u001b[38;5;241m.\u001b[39m_last_wcs \u001b[38;5;241m=\u001b[39m image\u001b[38;5;241m.\u001b[39mwcs\n",
      "File \u001b[0;32m~/anaconda3/envs/tin/lib/python3.9/site-packages/galsim/chromatic.py:2699\u001b[0m, in \u001b[0;36mChromaticConvolution.drawImage\u001b[0;34m(self, bandpass, image, integrator, iimult, **kwargs)\u001b[0m\n\u001b[1;32m   2695\u001b[0m     insep_obj \u001b[38;5;241m*\u001b[39m\u001b[38;5;241m=\u001b[39m obj\u001b[38;5;241m.\u001b[39mSED\n\u001b[1;32m   2697\u001b[0m \u001b[38;5;66;03m# Collapse inseparable profiles and chromatic normalizations into one effective profile\u001b[39;00m\n\u001b[1;32m   2698\u001b[0m \u001b[38;5;66;03m# Note that at this point, insep_obj.SED should *not* be None.\u001b[39;00m\n\u001b[0;32m-> 2699\u001b[0m effective_prof \u001b[38;5;241m=\u001b[39m \u001b[43mChromaticConvolution\u001b[49m\u001b[38;5;241;43m.\u001b[39;49m\u001b[43m_effective_prof_cache\u001b[49m\u001b[43m(\u001b[49m\n\u001b[1;32m   2700\u001b[0m \u001b[43m        \u001b[49m\u001b[43minsep_obj\u001b[49m\u001b[43m,\u001b[49m\u001b[43m \u001b[49m\u001b[43mbandpass\u001b[49m\u001b[43m,\u001b[49m\u001b[43m \u001b[49m\u001b[43miimult\u001b[49m\u001b[43m,\u001b[49m\u001b[43m \u001b[49m\u001b[43mintegrator\u001b[49m\u001b[43m,\u001b[49m\u001b[43m \u001b[49m\u001b[38;5;28;43mself\u001b[39;49m\u001b[38;5;241;43m.\u001b[39;49m\u001b[43m_gsparams\u001b[49m\u001b[43m)\u001b[49m\n\u001b[1;32m   2702\u001b[0m \u001b[38;5;66;03m# append effective profile to separable profiles (which should all be GSObjects)\u001b[39;00m\n\u001b[1;32m   2703\u001b[0m sep_profs\u001b[38;5;241m.\u001b[39mappend(effective_prof)\n",
      "File \u001b[0;32m~/anaconda3/envs/tin/lib/python3.9/site-packages/galsim/utilities.py:1084\u001b[0m, in \u001b[0;36mLRU_Cache.__call__\u001b[0;34m(self, *key)\u001b[0m\n\u001b[1;32m   1081\u001b[0m     \u001b[38;5;28;01mreturn\u001b[39;00m result\n\u001b[1;32m   1082\u001b[0m \u001b[38;5;66;03m# Cache miss: evaluate and insert new key/value at root, then increment root\u001b[39;00m\n\u001b[1;32m   1083\u001b[0m \u001b[38;5;66;03m#             so that just-evaluated value is in last position.\u001b[39;00m\n\u001b[0;32m-> 1084\u001b[0m result \u001b[38;5;241m=\u001b[39m \u001b[38;5;28;43mself\u001b[39;49m\u001b[38;5;241;43m.\u001b[39;49m\u001b[43muser_function\u001b[49m\u001b[43m(\u001b[49m\u001b[38;5;241;43m*\u001b[39;49m\u001b[43mkey\u001b[49m\u001b[43m)\u001b[49m\n\u001b[1;32m   1085\u001b[0m root \u001b[38;5;241m=\u001b[39m \u001b[38;5;28mself\u001b[39m\u001b[38;5;241m.\u001b[39mroot  \u001b[38;5;66;03m# re-establish root in case user_function modified it due to recursion\u001b[39;00m\n\u001b[1;32m   1086\u001b[0m root[\u001b[38;5;241m2\u001b[39m] \u001b[38;5;241m=\u001b[39m key\n",
      "File \u001b[0;32m~/anaconda3/envs/tin/lib/python3.9/site-packages/galsim/chromatic.py:2459\u001b[0m, in \u001b[0;36mChromaticConvolution._get_effective_prof\u001b[0;34m(insep_obj, bandpass, iimult, integrator, gsparams)\u001b[0m\n\u001b[1;32m   2454\u001b[0m \u001b[38;5;28;01melse\u001b[39;00m:\n\u001b[1;32m   2455\u001b[0m     effective_prof_image \u001b[38;5;241m=\u001b[39m insep_obj\u001b[38;5;241m.\u001b[39mdrawImage(\n\u001b[1;32m   2456\u001b[0m             bandpass, scale\u001b[38;5;241m=\u001b[39miiscale, integrator\u001b[38;5;241m=\u001b[39mintegrator,\n\u001b[1;32m   2457\u001b[0m             method\u001b[38;5;241m=\u001b[39m\u001b[38;5;124m'\u001b[39m\u001b[38;5;124mno_pixel\u001b[39m\u001b[38;5;124m'\u001b[39m)\n\u001b[0;32m-> 2459\u001b[0m \u001b[38;5;28;01mreturn\u001b[39;00m \u001b[43mInterpolatedImage\u001b[49m\u001b[43m(\u001b[49m\u001b[43meffective_prof_image\u001b[49m\u001b[43m,\u001b[49m\u001b[43m \u001b[49m\u001b[43mgsparams\u001b[49m\u001b[38;5;241;43m=\u001b[39;49m\u001b[43mgsparams\u001b[49m\u001b[43m)\u001b[49m\n",
      "File \u001b[0;32m~/anaconda3/envs/tin/lib/python3.9/site-packages/galsim/interpolatedimage.py:379\u001b[0m, in \u001b[0;36mInterpolatedImage.__init__\u001b[0;34m(self, image, x_interpolant, k_interpolant, normalization, scale, wcs, flux, pad_factor, noise_pad_size, noise_pad, rng, pad_image, calculate_stepk, calculate_maxk, use_cache, use_true_center, depixelize, offset, gsparams, _force_stepk, _force_maxk, hdu)\u001b[0m\n\u001b[1;32m    377\u001b[0m \u001b[38;5;28mself\u001b[39m\u001b[38;5;241m.\u001b[39m_calculate_maxk \u001b[38;5;241m=\u001b[39m calculate_maxk\n\u001b[1;32m    378\u001b[0m \u001b[38;5;28mself\u001b[39m\u001b[38;5;241m.\u001b[39m_stepk \u001b[38;5;241m=\u001b[39m \u001b[38;5;28mself\u001b[39m\u001b[38;5;241m.\u001b[39m_getStepK(calculate_stepk, _force_stepk)\n\u001b[0;32m--> 379\u001b[0m \u001b[38;5;28mself\u001b[39m\u001b[38;5;241m.\u001b[39m_maxk \u001b[38;5;241m=\u001b[39m \u001b[38;5;28;43mself\u001b[39;49m\u001b[38;5;241;43m.\u001b[39;49m\u001b[43m_getMaxK\u001b[49m\u001b[43m(\u001b[49m\u001b[43mcalculate_maxk\u001b[49m\u001b[43m,\u001b[49m\u001b[43m \u001b[49m\u001b[43m_force_maxk\u001b[49m\u001b[43m)\u001b[49m\n",
      "File \u001b[0;32m~/anaconda3/envs/tin/lib/python3.9/site-packages/galsim/interpolatedimage.py:621\u001b[0m, in \u001b[0;36mInterpolatedImage._getMaxK\u001b[0;34m(self, calculate_maxk, _force_maxk)\u001b[0m\n\u001b[1;32m    619\u001b[0m \u001b[38;5;28mself\u001b[39m\u001b[38;5;241m.\u001b[39m_sbp\n\u001b[1;32m    620\u001b[0m \u001b[38;5;28;01mif\u001b[39;00m calculate_maxk \u001b[38;5;129;01mis\u001b[39;00m \u001b[38;5;28;01mTrue\u001b[39;00m:\n\u001b[0;32m--> 621\u001b[0m     \u001b[38;5;28;43mself\u001b[39;49m\u001b[38;5;241;43m.\u001b[39;49m\u001b[43m_sbii\u001b[49m\u001b[38;5;241;43m.\u001b[39;49m\u001b[43mcalculateMaxK\u001b[49m\u001b[43m(\u001b[49m\u001b[38;5;241;43m0.\u001b[39;49m\u001b[43m)\u001b[49m\n\u001b[1;32m    622\u001b[0m \u001b[38;5;28;01melse\u001b[39;00m:\n\u001b[1;32m    623\u001b[0m     \u001b[38;5;66;03m# If not a bool, then value is max_maxk\u001b[39;00m\n\u001b[1;32m    624\u001b[0m     \u001b[38;5;28mself\u001b[39m\u001b[38;5;241m.\u001b[39m_sbii\u001b[38;5;241m.\u001b[39mcalculateMaxK(\u001b[38;5;28mfloat\u001b[39m(calculate_maxk))\n",
      "\u001b[0;31mKeyboardInterrupt\u001b[0m: "
     ]
    }
   ],
   "source": [
    "nobj=10\n",
    "\n",
    "ini_e1=[]\n",
    "fin_e1=[]\n",
    "ini_e2=[]\n",
    "fin_e2=[]\n",
    "ini_size=[]\n",
    "fin_size=[]\n",
    "e1=[]\n",
    "e2=[]\n",
    "index=[]\n",
    "\n",
    "samples = []\n",
    "\n",
    "psf_sed = galsim.SED('1', wave_type='Angstrom', flux_type='flambda')\n",
    "psf_star = galsim.DeltaFunction()\n",
    "pixel_scale = roman.pixel_scale\n",
    "wcs = galsim.PixelScale(pixel_scale) \n",
    "for i in range(nobj):\n",
    "    a = random.randint(0, cat.nobjects-1)\n",
    "    angle = random.random()*2*np.pi*galsim.radians\n",
    "    # print(a)\n",
    "    obj = cat.makeGalaxy(chromatic=True, gal_type='parametric', index=a)\n",
    "    obj = obj.rotate(angle)\n",
    "    try:\n",
    "        im_obj = obj.drawImage(bandpass,nx=64,ny=64,wcs=wcs)\n",
    "        final = galsim.Convolve(obj, psf)\n",
    "        stamp = final.drawImage(bandpass, nx=64,ny=64, wcs = wcs)\n",
    "        psf_img = galsim.Convolve([psf_star, psf]) * psf_sed.withFlux(1, bandpass)\n",
    "        im_psf = psf_img.drawImage(bandpass,nx=32,ny=32,wcs=wcs)\n",
    "        s = galsim.hsm.EstimateShear(stamp, im_psf)\n",
    "        o = galsim.hsm.FindAdaptiveMom(im_obj, round_moments = False )\n",
    "        # e1.append(100*abs(s.corrected_e1-o.observed_shape.e1)/abs(o.observed_shape.e1))\n",
    "        # ini_e1.append(o.observed_shape.e1)\n",
    "        # fin_e1.append(s.corrected_e1)\n",
    "        # ini_e2.append(o.observed_shape.e2)\n",
    "        # fin_e2.append(s.corrected_e2)\n",
    "        # ini_size.append(o.moments_sigma)\n",
    "        # fin_size.append(s.moments_sigma)\n",
    "        # e2.append(100*abs(s.corrected_e2-o.observed_shape.e2)/abs(o.observed_shape.e2))\n",
    "        # index.append(a)\n",
    "    except galsim.GalSimFFTSizeError:\n",
    "        pass\n",
    "    except galsim.GalSimHSMError:\n",
    "        pass\n",
    "\n",
    "    # print(obj.index,s.corrected_e1,o.observed_shape.e1)\n",
    "e1 = np.asarray(e1)\n",
    "e2 = np.asarray(e2)\n",
    "ini_e1 = np.asarray(ini_e1)\n",
    "fin_e1 = np.asarray(fin_e1)\n",
    "ini_e2 = np.asarray(ini_e2)\n",
    "fin_e2 = np.asarray(fin_e2)\n",
    "ini_size = np.asarray(ini_size)\n",
    "fin_size = np.asarray(fin_size)\n",
    "index = np.asarray(index)"
   ]
  },
  {
   "cell_type": "code",
   "execution_count": null,
   "id": "1ca06888-7914-4e13-8698-80451ca22b36",
   "metadata": {
    "execution": {
     "iopub.status.busy": "2023-08-16T16:05:12.068008Z",
     "iopub.status.idle": "2023-08-16T16:05:12.068174Z",
     "shell.execute_reply": "2023-08-16T16:05:12.068100Z",
     "shell.execute_reply.started": "2023-08-16T16:05:12.068091Z"
    },
    "tags": []
   },
   "outputs": [],
   "source": [
    "fin_e1.size, index.size"
   ]
  },
  {
   "cell_type": "code",
   "execution_count": null,
   "id": "42cbdbd7-9f7c-454d-b3d0-4ac411a4dc05",
   "metadata": {
    "execution": {
     "iopub.status.busy": "2023-08-16T16:05:12.069022Z",
     "iopub.status.idle": "2023-08-16T16:05:12.069181Z",
     "shell.execute_reply": "2023-08-16T16:05:12.069109Z",
     "shell.execute_reply.started": "2023-08-16T16:05:12.069101Z"
    },
    "tags": []
   },
   "outputs": [],
   "source": [
    "np.where(e1 > 10), np.where(e2 > 10)"
   ]
  },
  {
   "cell_type": "code",
   "execution_count": null,
   "id": "aae8c306-58e2-4380-a2ef-b530e37dbaa9",
   "metadata": {
    "execution": {
     "iopub.status.busy": "2023-08-16T16:05:12.069538Z",
     "iopub.status.idle": "2023-08-16T16:05:12.069679Z",
     "shell.execute_reply": "2023-08-16T16:05:12.069613Z",
     "shell.execute_reply.started": "2023-08-16T16:05:12.069606Z"
    },
    "tags": []
   },
   "outputs": [],
   "source": [
    "index[4], e1[4], ini_size[7], ini_e2[7]"
   ]
  },
  {
   "cell_type": "code",
   "execution_count": null,
   "id": "ab482e9c-350d-40b0-a6ef-6c31475b4a02",
   "metadata": {
    "execution": {
     "iopub.status.busy": "2023-08-16T16:05:12.070142Z",
     "iopub.status.idle": "2023-08-16T16:05:12.070297Z",
     "shell.execute_reply": "2023-08-16T16:05:12.070219Z",
     "shell.execute_reply.started": "2023-08-16T16:05:12.070212Z"
    },
    "tags": []
   },
   "outputs": [],
   "source": [
    "e2[8]"
   ]
  },
  {
   "cell_type": "code",
   "execution_count": null,
   "id": "41cca025-4ee9-4533-8383-89145d5de209",
   "metadata": {
    "execution": {
     "iopub.status.busy": "2023-08-16T16:05:12.071012Z",
     "iopub.status.idle": "2023-08-16T16:05:12.071212Z",
     "shell.execute_reply": "2023-08-16T16:05:12.071117Z",
     "shell.execute_reply.started": "2023-08-16T16:05:12.071107Z"
    },
    "tags": []
   },
   "outputs": [],
   "source": [
    "def remove_outliers(data_list, threshold=3):\n",
    "    \"\"\"\n",
    "    Remove outliers from a list of numbers using z-scores with NumPy.\n",
    "\n",
    "    Parameters:\n",
    "        data_list (list): List of numbers.\n",
    "        threshold (float): Z-score threshold for identifying outliers (default: 3).\n",
    "\n",
    "    Returns:\n",
    "        list: List with outliers removed.\n",
    "    \"\"\"\n",
    "    data_array = np.array(data_list)\n",
    "    z_scores = np.abs((data_array - np.mean(data_array)) / np.std(data_array))\n",
    "    filtered_data = data_array[z_scores <= threshold]\n",
    "    return np.asarray(filtered_data)\n",
    "\n",
    "def trend_outliers(array1, array2, threshold=3):\n",
    "    a = np.where(array1 > 1)\n",
    "    for i in a:\n",
    "        new_a1 = np.delete(array1,a)\n",
    "        new_a2 = np.delete(array2,a)\n",
    "        \n",
    "    return new_a1, new_a2"
   ]
  },
  {
   "cell_type": "code",
   "execution_count": null,
   "id": "38a40d4a-121b-44c7-83b2-6638d697647e",
   "metadata": {
    "execution": {
     "iopub.status.busy": "2023-08-16T16:05:12.071767Z",
     "iopub.status.idle": "2023-08-16T16:05:12.071910Z",
     "shell.execute_reply": "2023-08-16T16:05:12.071844Z",
     "shell.execute_reply.started": "2023-08-16T16:05:12.071837Z"
    },
    "tags": []
   },
   "outputs": [],
   "source": [
    "# e1 = remove_outliers(e1,threshold=1)"
   ]
  },
  {
   "cell_type": "code",
   "execution_count": null,
   "id": "0c220964-03c3-40c0-a67e-e304af74098b",
   "metadata": {
    "execution": {
     "iopub.status.busy": "2023-08-16T16:05:12.072274Z",
     "iopub.status.idle": "2023-08-16T16:05:12.072412Z",
     "shell.execute_reply": "2023-08-16T16:05:12.072348Z",
     "shell.execute_reply.started": "2023-08-16T16:05:12.072341Z"
    },
    "tags": []
   },
   "outputs": [],
   "source": [
    "# new_a1, new_a2 = trend_outliers(fin_e1,ini_e1)"
   ]
  },
  {
   "cell_type": "code",
   "execution_count": null,
   "id": "8d6dde25-0ce0-494e-9f32-fc2181d9a523",
   "metadata": {
    "execution": {
     "iopub.status.busy": "2023-08-16T16:05:12.072993Z",
     "iopub.status.idle": "2023-08-16T16:05:12.073135Z",
     "shell.execute_reply": "2023-08-16T16:05:12.073070Z",
     "shell.execute_reply.started": "2023-08-16T16:05:12.073063Z"
    },
    "tags": []
   },
   "outputs": [],
   "source": [
    "from scipy.stats import linregress\n",
    "\n",
    "result = linregress(ini_e1, fin_e1 )\n",
    "\n",
    "x = np.arange(-1,1.1,0.1)\n",
    "y = x*result.slope + result.intercept"
   ]
  },
  {
   "cell_type": "code",
   "execution_count": null,
   "id": "11560f77-e8c1-4c4d-bf10-2971bcef699c",
   "metadata": {
    "execution": {
     "iopub.status.busy": "2023-08-16T16:05:12.073721Z",
     "iopub.status.idle": "2023-08-16T16:05:12.073873Z",
     "shell.execute_reply": "2023-08-16T16:05:12.073804Z",
     "shell.execute_reply.started": "2023-08-16T16:05:12.073797Z"
    },
    "tags": []
   },
   "outputs": [],
   "source": [
    "result.slope, result.intercept"
   ]
  },
  {
   "cell_type": "code",
   "execution_count": null,
   "id": "247dd2de-5119-4c49-a2ce-4b02d6a8a7ce",
   "metadata": {
    "execution": {
     "iopub.status.busy": "2023-08-16T16:05:12.074268Z",
     "iopub.status.idle": "2023-08-16T16:05:12.074423Z",
     "shell.execute_reply": "2023-08-16T16:05:12.074345Z",
     "shell.execute_reply.started": "2023-08-16T16:05:12.074338Z"
    },
    "tags": []
   },
   "outputs": [],
   "source": [
    "plt.scatter(ini_e1,fin_e1)\n",
    "plt.plot(x,y)\n",
    "plt.xlabel('initial')\n",
    "plt.ylabel('observe')\n",
    "plt.title('e1')\n",
    "plt.text(-1,1,f'slope: {result.slope}')\n",
    "plt.text(-1,0.9,f'intercept: {result.intercept}')\n",
    "plt.savefig('image/e1.png')"
   ]
  },
  {
   "cell_type": "code",
   "execution_count": null,
   "id": "65cd19d0-ac23-439f-a3c4-c5ee32f618b8",
   "metadata": {
    "execution": {
     "iopub.status.busy": "2023-08-16T16:05:12.074914Z",
     "iopub.status.idle": "2023-08-16T16:05:12.075101Z",
     "shell.execute_reply": "2023-08-16T16:05:12.074991Z",
     "shell.execute_reply.started": "2023-08-16T16:05:12.074984Z"
    }
   },
   "outputs": [],
   "source": [
    "result = linregress(ini_e2, fin_e2 )\n",
    "\n",
    "x = np.arange(-1,1.1,0.1)\n",
    "y = x*result.slope + result.intercept\n",
    "\n",
    "plt.scatter(ini_e2,fin_e2)\n",
    "plt.plot(x,y)\n",
    "plt.xlabel('initial')\n",
    "plt.ylabel('observe')\n",
    "plt.title('e2')\n",
    "plt.text(-1,1,f'slope: {result.slope}')\n",
    "plt.text(-1,0.9,f'intercept: {result.intercept}')\n",
    "plt.savefig('image/e2.png')"
   ]
  },
  {
   "cell_type": "code",
   "execution_count": null,
   "id": "4123f88a-6eff-43fb-945f-04e979404621",
   "metadata": {
    "execution": {
     "iopub.status.busy": "2023-08-16T16:05:12.075613Z",
     "iopub.status.idle": "2023-08-16T16:05:12.075814Z",
     "shell.execute_reply": "2023-08-16T16:05:12.075717Z",
     "shell.execute_reply.started": "2023-08-16T16:05:12.075708Z"
    },
    "tags": []
   },
   "outputs": [],
   "source": [
    "result = linregress(ini_size, fin_size)\n",
    "print(result.slope, result.intercept)\n",
    "x = np.arange(0,12.1,0.1)\n",
    "y = x*result.slope + result.intercept\n",
    "plt.scatter(ini_size,fin_size)\n",
    "plt.plot(x,y)\n",
    "plt.xlabel('initial')\n",
    "plt.ylabel('observe')\n",
    "plt.text(0,11,f'slope: {result.slope}')\n",
    "plt.text(0,10.5,f'intercept: {result.intercept}')\n",
    "plt.title('Size')\n",
    "plt.savefig('image/size.png')"
   ]
  },
  {
   "cell_type": "code",
   "execution_count": null,
   "id": "62c980b9-c4a9-4017-89e9-454566c32e0f",
   "metadata": {
    "execution": {
     "iopub.status.busy": "2023-08-16T16:05:12.076342Z",
     "iopub.status.idle": "2023-08-16T16:05:12.076486Z",
     "shell.execute_reply": "2023-08-16T16:05:12.076420Z",
     "shell.execute_reply.started": "2023-08-16T16:05:12.076413Z"
    }
   },
   "outputs": [],
   "source": [
    "result.intercept/(1-result.slope)"
   ]
  },
  {
   "cell_type": "code",
   "execution_count": null,
   "id": "5f936612-131a-45c7-8bbf-73504333c4e7",
   "metadata": {
    "execution": {
     "iopub.status.busy": "2023-08-16T16:05:12.077097Z",
     "iopub.status.idle": "2023-08-16T16:05:12.077243Z",
     "shell.execute_reply": "2023-08-16T16:05:12.077175Z",
     "shell.execute_reply.started": "2023-08-16T16:05:12.077168Z"
    },
    "tags": []
   },
   "outputs": [],
   "source": [
    "# x = np.arange(e1.shape[0])\n",
    "# plt.scatter(x,e1)\n",
    "plt.hist(e1, range=(0,300), bins = 30)\n",
    "# plt.xticks([0,5,10,15,20,40,45,50,55,60,70,75])\n",
    "plt.xlabel('difference (%)')\n",
    "plt.ylabel('counts')\n",
    "plt.title('e1')\n",
    "plt.savefig('image/histo_e1.png')"
   ]
  },
  {
   "cell_type": "code",
   "execution_count": null,
   "id": "5246f6d1-9dcf-40df-955b-a4b60db79604",
   "metadata": {
    "tags": []
   },
   "outputs": [],
   "source": []
  },
  {
   "cell_type": "code",
   "execution_count": null,
   "id": "03338bbd-cfbe-4f7c-b737-4907368b3c03",
   "metadata": {
    "execution": {
     "iopub.status.busy": "2023-08-16T16:05:12.077704Z",
     "iopub.status.idle": "2023-08-16T16:05:12.077923Z",
     "shell.execute_reply": "2023-08-16T16:05:12.077852Z",
     "shell.execute_reply.started": "2023-08-16T16:05:12.077844Z"
    },
    "tags": []
   },
   "outputs": [],
   "source": [
    "plt.hist(e2, range=(0,300), bins = 30)\n",
    "# plt.xticks([0,5,10,15,20,40,45,50,55,60,70,75])\n",
    "plt.xlabel('difference (%)')\n",
    "plt.ylabel('counts')\n",
    "plt.title('e2')\n",
    "plt.savefig('image/histo_e2.png')"
   ]
  },
  {
   "cell_type": "code",
   "execution_count": null,
   "id": "3fb8a531-4d4b-4ba2-ac3b-58adad0ea489",
   "metadata": {
    "execution": {
     "iopub.status.busy": "2023-08-16T16:05:12.078425Z",
     "iopub.status.idle": "2023-08-16T16:05:12.078568Z",
     "shell.execute_reply": "2023-08-16T16:05:12.078502Z",
     "shell.execute_reply.started": "2023-08-16T16:05:12.078494Z"
    },
    "tags": []
   },
   "outputs": [],
   "source": [
    "plt.hist2d(e1,e2,range=((0,100),(0,100)),bins=10)\n",
    "plt.colorbar()"
   ]
  },
  {
   "cell_type": "markdown",
   "id": "10bbb1ba-20c2-416f-b86c-4da11d64e2ea",
   "metadata": {},
   "source": [
    "# Multiple objects"
   ]
  },
  {
   "cell_type": "code",
   "execution_count": null,
   "id": "6a1dd3dd-c70f-48cf-9b04-a1c5f3716b7a",
   "metadata": {
    "execution": {
     "iopub.status.busy": "2023-08-16T16:05:12.078991Z",
     "iopub.status.idle": "2023-08-16T16:05:12.079133Z",
     "shell.execute_reply": "2023-08-16T16:05:12.079067Z",
     "shell.execute_reply.started": "2023-08-16T16:05:12.079060Z"
    },
    "tags": []
   },
   "outputs": [],
   "source": [
    "nobj = 100\n",
    "\n",
    "bandpass = roman_filters['Y106']\n",
    "\n",
    "psf = roman.getPSF(use_SCA, 'Y106', n_waves=10, wcs=wcs, pupil_bin=8)\n",
    "\n",
    "# Set up the full image for the galaxies\n",
    "full_image = galsim.ImageF(roman.n_pix, roman.n_pix, wcs=wcs)\n",
    "\n",
    "# image_rng = galsim.UniformDeviate(seed1 + nobj)\n",
    "\n",
    "for i_obj in range(nobj):\n",
    "    \n",
    "    obj_rng = galsim.UniformDeviate(seed + 1 + 10**6 + i_obj)\n",
    "\n",
    "    p = obj_rng()\n",
    "\n",
    "    x = obj_rng() * roman.n_pix\n",
    "    y = obj_rng() * roman.n_pix\n",
    "    image_pos = galsim.PositionD(x,y)\n",
    "    logger.debug('Position = %s',image_pos)\n",
    "\n",
    "    # Now decide which of our three kinds of objects we want to draw:\n",
    "    # 80% faint galaxy\n",
    "    # 10% star\n",
    "    # 10% bright galaxy\n",
    "    if p < 0.9:\n",
    "        # Faint galaxy\n",
    "        logger.debug('Faint galaxy')\n",
    "\n",
    "        # Select a random galaxy from the catalog.\n",
    "        obj = cat1.makeGalaxy(chromatic=True, gal_type='parametric', rng=obj_rng)\n",
    "        print(obj.index)\n",
    "        # # Rotate the galaxy randomly\n",
    "        # theta = obj_rng() * 2 * np.pi * galsim.radians\n",
    "        # logger.debug('theta = %s',theta)\n",
    "        # obj = obj.rotate(theta)\n",
    "\n",
    "    else:\n",
    "        # Bright galaxy\n",
    "        logger.debug('Bright galaxy')\n",
    "\n",
    "        obj = cat2.makeGalaxy(chromatic=True, gal_type='parametric', rng=obj_rng)\n",
    "        print(obj.index)\n",
    "        # Scale up the area by a factor of 2, and the flux by a factor of 4.\n",
    "        # This is not necessarily physical, but it is intended to add some more big,\n",
    "        # bright galaxies to the scene to make the final image a bit more interesting.\n",
    "#         obj = obj.dilate(2) * 4\n",
    "\n",
    "#         # Rotate the galaxy randomly\n",
    "#         theta = obj_rng() * 2 * np.pi * galsim.radians\n",
    "#         logger.debug('theta = %s',theta)\n",
    "#         obj = obj.rotate(theta)\n",
    "\n",
    "    # Convolve the (chromatic) object with the (chromatic) PSF.\n",
    "    final = galsim.Convolve(obj, psf)\n",
    "    stamp = final.drawImage(bandpass, center=image_pos, wcs=wcs.local(image_pos))\n",
    "\n",
    "    # Find the overlapping bounds between the large image and the individual stamp.\n",
    "    bounds = stamp.bounds & full_image.bounds\n",
    "\n",
    "    # Add this to the corresponding location in the large image.\n",
    "    full_image[bounds] += stamp[bounds]"
   ]
  },
  {
   "cell_type": "code",
   "execution_count": null,
   "id": "1df6d716-0e9f-4ac8-8263-6da2cf604edd",
   "metadata": {
    "execution": {
     "iopub.status.busy": "2023-08-16T16:05:12.079632Z",
     "iopub.status.idle": "2023-08-16T16:05:12.079773Z",
     "shell.execute_reply": "2023-08-16T16:05:12.079708Z",
     "shell.execute_reply.started": "2023-08-16T16:05:12.079701Z"
    },
    "tags": []
   },
   "outputs": [],
   "source": [
    "full_image"
   ]
  },
  {
   "cell_type": "code",
   "execution_count": null,
   "id": "ae2c2d31-0d92-4cc3-a73e-4879d264ba0d",
   "metadata": {
    "execution": {
     "iopub.status.busy": "2023-08-16T16:05:12.080201Z",
     "iopub.status.idle": "2023-08-16T16:05:12.080341Z",
     "shell.execute_reply": "2023-08-16T16:05:12.080276Z",
     "shell.execute_reply.started": "2023-08-16T16:05:12.080269Z"
    },
    "tags": []
   },
   "outputs": [],
   "source": [
    "data=fits.open(\"output/demo13_Z087.fits\")\n",
    "data=data[0].data\n",
    "\n",
    "m, s = np.mean(data), np.std(data)\n",
    "plt.imshow(data, interpolation='nearest', cmap='gray', vmin=m-s, vmax=m+s, origin='lower')\n",
    "plt.colorbar();"
   ]
  },
  {
   "cell_type": "code",
   "execution_count": null,
   "id": "05e6d92c-3048-43cd-9605-d39c42d75235",
   "metadata": {
    "execution": {
     "iopub.status.busy": "2023-08-16T16:05:12.080799Z",
     "iopub.status.idle": "2023-08-16T16:05:12.080937Z",
     "shell.execute_reply": "2023-08-16T16:05:12.080873Z",
     "shell.execute_reply.started": "2023-08-16T16:05:12.080866Z"
    },
    "tags": []
   },
   "outputs": [],
   "source": [
    "import sep\n",
    "\n",
    "data = data.byteswap(inplace=True).newbyteorder()\n",
    "bkg = sep.Background(data)\n",
    "bkg_image = bkg.back()\n",
    "bkg_rms = bkg.rms()\n",
    "data_sub = data - bkg\n",
    "objects = sep.extract(data_sub, 1.5, err=bkg.globalrms)\n",
    "len(objects)"
   ]
  },
  {
   "cell_type": "code",
   "execution_count": null,
   "id": "2999eb11-86c4-4960-9115-31ed35502b58",
   "metadata": {
    "execution": {
     "iopub.status.busy": "2023-08-16T16:05:12.081358Z",
     "iopub.status.idle": "2023-08-16T16:05:12.081500Z",
     "shell.execute_reply": "2023-08-16T16:05:12.081437Z",
     "shell.execute_reply.started": "2023-08-16T16:05:12.081430Z"
    },
    "tags": []
   },
   "outputs": [],
   "source": [
    "from matplotlib.patches import Ellipse\n",
    "\n",
    "# plot background-subtracted image\n",
    "fig, ax = plt.subplots()\n",
    "m, s = np.mean(data_sub), np.std(data_sub)\n",
    "im = ax.imshow(data_sub, interpolation='nearest', cmap='gray',\n",
    "               vmin=m-s, vmax=m+s, origin='lower')\n",
    "\n",
    "# plot an ellipse for each object\n",
    "for i in range(len(objects)):\n",
    "    e = Ellipse(xy=(objects['x'][i], objects['y'][i]),\n",
    "                width=6*objects['a'][i],\n",
    "                height=6*objects['b'][i],\n",
    "                angle=objects['theta'][i] * 180. / np.pi)\n",
    "    e.set_facecolor('none')\n",
    "    e.set_edgecolor('red')\n",
    "    ax.add_artist(e)"
   ]
  },
  {
   "cell_type": "code",
   "execution_count": null,
   "id": "a11aade3-e256-40b9-8206-2b327fef1026",
   "metadata": {},
   "outputs": [],
   "source": []
  }
 ],
 "metadata": {
  "kernelspec": {
   "display_name": "Python 3 (ipykernel)",
   "language": "python",
   "name": "python3"
  },
  "language_info": {
   "codemirror_mode": {
    "name": "ipython",
    "version": 3
   },
   "file_extension": ".py",
   "mimetype": "text/x-python",
   "name": "python",
   "nbconvert_exporter": "python",
   "pygments_lexer": "ipython3",
   "version": "3.9.13"
  }
 },
 "nbformat": 4,
 "nbformat_minor": 5
}
