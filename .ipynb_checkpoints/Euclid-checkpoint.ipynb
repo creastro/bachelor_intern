{
 "cells": [
  {
   "cell_type": "code",
   "execution_count": 1,
   "id": "32889966-301f-45aa-894f-640f90c4da2e",
   "metadata": {
    "execution": {
     "iopub.execute_input": "2023-08-31T13:29:00.511334Z",
     "iopub.status.busy": "2023-08-31T13:29:00.510736Z",
     "iopub.status.idle": "2023-08-31T13:29:01.500530Z",
     "shell.execute_reply": "2023-08-31T13:29:01.499466Z",
     "shell.execute_reply.started": "2023-08-31T13:29:00.511286Z"
    },
    "tags": []
   },
   "outputs": [],
   "source": [
    "import argparse\n",
    "import numpy as np\n",
    "import sys, os\n",
    "from joblib import Parallel, delayed\n",
    "from tqdm import tqdm\n",
    "import logging\n",
    "import galsim\n",
    "import galsim.roman as roman\n",
    "import matplotlib.pyplot as plt\n",
    "from scipy.optimize import curve_fit"
   ]
  },
  {
   "cell_type": "code",
   "execution_count": 2,
   "id": "bfe5d1f3-d15a-43ba-a564-6b188857274f",
   "metadata": {
    "execution": {
     "iopub.execute_input": "2023-08-31T13:29:01.502029Z",
     "iopub.status.busy": "2023-08-31T13:29:01.501762Z",
     "iopub.status.idle": "2023-08-31T13:29:01.505627Z",
     "shell.execute_reply": "2023-08-31T13:29:01.505085Z",
     "shell.execute_reply.started": "2023-08-31T13:29:01.502008Z"
    },
    "tags": []
   },
   "outputs": [],
   "source": [
    "logging.basicConfig(format=\"%(message)s\", stream=sys.stdout)\n",
    "logger = logging.getLogger(\"demo13\")\n",
    "logging_levels = { 0: logging.CRITICAL,\n",
    "                   1: logging.WARNING,\n",
    "                   2: logging.INFO,\n",
    "                   3: logging.DEBUG }"
   ]
  },
  {
   "cell_type": "code",
   "execution_count": 3,
   "id": "2ecae328-9778-4157-9c21-4fb3b498ca2f",
   "metadata": {
    "execution": {
     "iopub.execute_input": "2023-08-31T13:29:01.506568Z",
     "iopub.status.busy": "2023-08-31T13:29:01.506395Z",
     "iopub.status.idle": "2023-08-31T13:29:01.608223Z",
     "shell.execute_reply": "2023-08-31T13:29:01.607199Z",
     "shell.execute_reply.started": "2023-08-31T13:29:01.506551Z"
    },
    "tags": []
   },
   "outputs": [],
   "source": [
    "# cat1 = galsim.COSMOSCatalog(sample='25.2', area=roman.collecting_area, exptime=roman.exptime)\n",
    "# cat2 = galsim.COSMOSCatalog(sample='23.5', area=roman.collecting_area, exptime=roman.exptime)\n",
    "\n",
    "# cat1 = galsim.COSMOSCatalog(sample='25.2', area=9900, exptime=565)\n",
    "cat = galsim.COSMOSCatalog(sample='23.5', area=roman.collecting_area, exptime=roman.exptime)"
   ]
  },
  {
   "cell_type": "code",
   "execution_count": 4,
   "id": "a5bad829-3682-4338-aeb0-4b39caab771e",
   "metadata": {
    "execution": {
     "iopub.execute_input": "2023-08-31T13:29:01.609899Z",
     "iopub.status.busy": "2023-08-31T13:29:01.609634Z",
     "iopub.status.idle": "2023-08-31T13:29:01.615020Z",
     "shell.execute_reply": "2023-08-31T13:29:01.614298Z",
     "shell.execute_reply.started": "2023-08-31T13:29:01.609878Z"
    },
    "tags": []
   },
   "outputs": [],
   "source": [
    "#Euclid's filter\n",
    "\n",
    "datapath = galsim.meta_data.share_dir\n",
    "filter_filename = os.path.join(datapath, 'bandpasses/euclid.dat')\n",
    "bandpass = galsim.Bandpass(filter_filename, wave_type='Angstrom')"
   ]
  },
  {
   "cell_type": "markdown",
   "id": "e995c40c-0a3b-4004-bc76-5ae29a942f30",
   "metadata": {},
   "source": [
    "# PSF"
   ]
  },
  {
   "cell_type": "code",
   "execution_count": 5,
   "id": "1cf60dfe-eb62-427c-bb29-ecb423c8f5b9",
   "metadata": {
    "execution": {
     "iopub.execute_input": "2023-08-25T10:56:33.602508Z",
     "iopub.status.busy": "2023-08-25T10:56:33.601687Z",
     "iopub.status.idle": "2023-08-25T10:56:33.604808Z",
     "shell.execute_reply": "2023-08-25T10:56:33.604376Z",
     "shell.execute_reply.started": "2023-08-25T10:56:33.602485Z"
    },
    "tags": []
   },
   "outputs": [],
   "source": [
    "use_SCA = 7"
   ]
  },
  {
   "cell_type": "code",
   "execution_count": 6,
   "id": "04ad4dbf-d8ec-4f61-b628-53d05ebf6d17",
   "metadata": {
    "execution": {
     "iopub.execute_input": "2023-08-25T10:56:33.891801Z",
     "iopub.status.busy": "2023-08-25T10:56:33.891342Z",
     "iopub.status.idle": "2023-08-25T10:56:33.903163Z",
     "shell.execute_reply": "2023-08-25T10:56:33.902738Z",
     "shell.execute_reply.started": "2023-08-25T10:56:33.891781Z"
    },
    "tags": []
   },
   "outputs": [],
   "source": [
    "import numpy as np\n",
    "import os\n",
    "from galsim.utilities import LRU_Cache\n",
    "\n",
    "\"\"\"\n",
    "@file roman_psfs.py\n",
    "\n",
    "Part of the Roman Space Telescope module.  This file includes routines needed to define a realistic\n",
    "PSF for Roman.\n",
    "\"\"\"\n",
    "\n",
    "# Define a default set of bandpasses for which this routine works.\n",
    "default_bandpass_list = ['J129', 'F184', 'W149', 'Y106', 'Z087', 'H158']\n",
    "# Prefix for files containing information about Zernikes for each SCA for cycle 7.\n",
    "zemax_filepref = \"Roman_Phase-A_SRR_WFC_Zernike_and_Field_Data_170727\"\n",
    "zemax_filesuff = '.txt'\n",
    "zemax_wavelength = 1293. #nm\n",
    "\n",
    "# These need 'SCA*' prepended to the start to get the file name, and they live in\n",
    "# the share/roman directory.\n",
    "pupil_plane_file_longwave = '_full_mask.fits.gz'\n",
    "pupil_plane_file_shortwave = '_rim_mask.fits.gz'\n",
    "\n",
    "def __make_aperture(SCA, pupil_plane_type, pupil_bin, wave, gsparams):\n",
    "    from galsim.roman import diameter, obscuration\n",
    "    from galsim import fits\n",
    "    from galsim import meta_data\n",
    "    from galsim.phase_psf import Aperture\n",
    "\n",
    "    # Load the pupil plane image.\n",
    "    if pupil_plane_type == 'long':\n",
    "        pupil_plane_im = os.path.join(meta_data.share_dir, 'roman',\n",
    "            'SCA%d'%SCA + pupil_plane_file_longwave)\n",
    "    else:\n",
    "        pupil_plane_im = os.path.join(meta_data.share_dir, 'roman',\n",
    "            'SCA%d'%SCA + pupil_plane_file_shortwave)\n",
    "    pupil_plane_im = fits.read(pupil_plane_im, read_header=True)\n",
    "    # Native pixel scale in the file is for the exit pupil.  We want the scale of the\n",
    "    # entrance pupil.  Fortunately, they provide the conversion as PUPILMAG in the header.\n",
    "    # They also use microns for units, and we want meters, hence the extra 1.e-6.\n",
    "    pupil_plane_im.scale *= pupil_plane_im.header['PUPILMAG'] * 1.e-6\n",
    "\n",
    "    pupil_plane_im = pupil_plane_im.bin(pupil_bin,pupil_bin)\n",
    "    \n",
    "    # diameter = 1.3\n",
    "    aper = Aperture(lam=wave, diam=diameter,\n",
    "                    obscuration=obscuration,\n",
    "                    pupil_plane_im=pupil_plane_im,\n",
    "                    gsparams=gsparams)\n",
    "    return aper\n",
    "\n",
    "# Usually a given run will only need one or a few different apertures for repeated getPSF calls.\n",
    "# So cache those apertures here to avoid having to remake them.\n",
    "_make_aperture = LRU_Cache(__make_aperture)\n",
    "\n",
    "def _get_single_PSF(SCA, bandpass, SCA_pos, pupil_bin,\n",
    "                    n_waves, extra_aberrations, wavelength,\n",
    "                    pupil_plane_type, gsparams):\n",
    "    \"\"\"Routine for making a single PSF.  This gets called by `getPSF` after it parses all the\n",
    "       options that were passed in.  Users will not directly interact with this routine.\n",
    "    \"\"\"\n",
    "    from galsim import OpticalPSF, ChromaticOpticalPSF\n",
    "    from galsim.roman import diameter\n",
    "    from galsim.bandpass import Bandpass\n",
    "\n",
    "    if wavelength is None:\n",
    "        wave = zemax_wavelength\n",
    "    elif isinstance(wavelength, Bandpass):\n",
    "        wave = wavelength = wavelength.effective_wavelength\n",
    "    else:\n",
    "        wave = wavelength\n",
    "\n",
    "    # All parameters relevant to the aperture.  We may be able to use a cached version.\n",
    "    aper = _make_aperture(SCA, pupil_plane_type, pupil_bin, wave, gsparams)\n",
    "\n",
    "    # Start reading in the aberrations for that SCA\n",
    "    aberrations, x_pos, y_pos = _read_aberrations(SCA)\n",
    "    # Do bilinear interpolation, unless we're exactly at the center (default).\n",
    "    use_aberrations = _interp_aberrations_bilinear(aberrations, x_pos, y_pos, SCA_pos)\n",
    "\n",
    "    if extra_aberrations is not None:\n",
    "        use_aberrations[:len(extra_aberrations)] += extra_aberrations\n",
    "    # We don't want to use piston, tip, or tilt aberrations.  The former doesn't affect the\n",
    "    # appearance of the PSF, and the latter cause centroid shifts.  So, we set the first 4\n",
    "    # numbers (corresponding to a place-holder, piston, tip, and tilt) to zero.\n",
    "    use_aberrations[0:4] = 0.\n",
    "    \n",
    "    # Now set up the PSF, including the option to interpolate over waves\n",
    "    \n",
    "    # diameter = 1.3\n",
    "    if wavelength is None:\n",
    "        PSF = ChromaticOpticalPSF(lam=zemax_wavelength,\n",
    "                                  diam=diameter, aberrations=use_aberrations,\n",
    "                                  aper=aper, gsparams=gsparams)\n",
    "        if n_waves is not None:\n",
    "            # To decide the range of wavelengths to use, check the bandpass.\n",
    "            bp = bandpass\n",
    "            PSF = PSF.interpolate(waves=np.linspace(bp.blue_limit, bp.red_limit, n_waves),\n",
    "                                  oversample_fac=1.5)\n",
    "    else:\n",
    "        tmp_aberrations = use_aberrations * zemax_wavelength / wavelength\n",
    "        PSF = OpticalPSF(lam=wavelength, diam=diameter,\n",
    "                         aberrations=tmp_aberrations,\n",
    "                         aper=aper, gsparams=gsparams)\n",
    "\n",
    "    return PSF\n",
    "def _read_aberrations(SCA):\n",
    "    \"\"\"\n",
    "    This is a helper routine that reads in aberrations for a particular SCA and wavelength (given as\n",
    "    galsim.roman.roman_psfs.zemax_wavelength) from stored files, and returns them along with the\n",
    "    field positions.\n",
    "\n",
    "    Parameters:\n",
    "        SCA:        The identifier for the SCA, from 1-18.\n",
    "\n",
    "    Returns:\n",
    "        NumPy arrays containing the aberrations, and x and y field positions.\n",
    "    \"\"\"\n",
    "    from galsim import meta_data\n",
    "    from galsim.roman import pixel_scale, n_pix, pixel_scale_mm\n",
    "\n",
    "    # Construct filename.\n",
    "    sca_str = '_%02d'%SCA\n",
    "    infile = os.path.join(meta_data.share_dir, 'roman',\n",
    "                          zemax_filepref + sca_str + zemax_filesuff)\n",
    "\n",
    "    # Read in data.\n",
    "    dat = np.loadtxt(infile)\n",
    "    # It actually has 5 field positions, not just 1, to allow us to make position-dependent PSFs\n",
    "    # within an SCA eventually.  Put it in the required format: an array of length (5 field\n",
    "    # positions, 23 Zernikes), with the first entry empty (Zernike polynomials are 1-indexed so we\n",
    "    # use entries 1-22).  The units are waves.\n",
    "    aberrations = np.zeros((5,23))\n",
    "    aberrations[:,1:] = dat[:,5:]\n",
    "    # Also get the field position.  The file gives it in mm with respect to the center, but we\n",
    "    # want it in pixels with respect to the corner. The pixel size of the detector is 0.01 mm/pixel\n",
    "    # The y-coordinates have the opposite signs to the corresponding WFI location, explained \n",
    "    # in the Roman file.\n",
    "\n",
    "    x_sca_pos = dat[:,1]/pixel_scale_mm + n_pix/2\n",
    "    y_sca_pos = n_pix/2 - dat[:,2]/pixel_scale_mm\n",
    "    return aberrations, x_sca_pos, y_sca_pos\n",
    "def _interp_aberrations_bilinear(aberrations, x_pos, y_pos, SCA_pos):\n",
    "    \"\"\"\n",
    "    This is a helper routine to do bilinear interpolation of aberrations defined at 4 field\n",
    "    positions: the four corners.  Note that we also have aberrations at the center position,\n",
    "    but these are generally quite close (within a few percent) of what would come from this bilinear\n",
    "    interpolation.  So for simplicity, we just do the bilinear interpolation.\n",
    "    \"\"\"\n",
    "    min_x = np.min(x_pos)\n",
    "    min_y = np.min(y_pos)\n",
    "    max_x = np.max(x_pos)\n",
    "    max_y = np.max(y_pos)\n",
    "    x_frac = (SCA_pos.x - min_x) / (max_x - min_x)\n",
    "    y_frac = (SCA_pos.y - min_y) / (max_y - min_y)\n",
    "    lower_x_lower_y_ab = aberrations[(x_pos==min_x) & (y_pos==min_y), :]\n",
    "    lower_x_upper_y_ab = aberrations[(x_pos==min_x) & (y_pos==max_y), :]\n",
    "    upper_x_lower_y_ab = aberrations[(x_pos==max_x) & (y_pos==min_y), :]\n",
    "    upper_x_upper_y_ab = aberrations[(x_pos==max_x) & (y_pos==max_y), :]\n",
    "    interp_ab = (1.0-x_frac)*(1.0-y_frac)*lower_x_lower_y_ab + \\\n",
    "        (1.0-x_frac)*y_frac*lower_x_upper_y_ab + \\\n",
    "        x_frac*(1.0-y_frac)*upper_x_lower_y_ab + \\\n",
    "        x_frac*y_frac*upper_x_upper_y_ab\n",
    "\n",
    "    return interp_ab.flatten()"
   ]
  },
  {
   "cell_type": "code",
   "execution_count": 7,
   "id": "0de2d6ab-fe58-4458-a2fa-0531216e057c",
   "metadata": {
    "execution": {
     "iopub.execute_input": "2023-08-25T10:56:34.513572Z",
     "iopub.status.busy": "2023-08-25T10:56:34.513317Z",
     "iopub.status.idle": "2023-08-25T10:56:34.516145Z",
     "shell.execute_reply": "2023-08-25T10:56:34.515689Z",
     "shell.execute_reply.started": "2023-08-25T10:56:34.513552Z"
    },
    "tags": []
   },
   "outputs": [],
   "source": [
    "# n_pix = galsim.roman.n_pix\n",
    "# # n_pix = 64\n",
    "# psf = _get_single_PSF(SCA = use_SCA, bandpass = bandpass,SCA_pos=galsim.PositionD(n_pix/2,n_pix/2),\n",
    "#                       pupil_bin=16, n_waves=10, extra_aberrations=None,\n",
    "#                        wavelength=None, gsparams=None, pupil_plane_type = 'short')"
   ]
  },
  {
   "cell_type": "code",
   "execution_count": null,
   "id": "61be173b-0396-4e6c-af2e-ea36d0c59138",
   "metadata": {},
   "outputs": [],
   "source": []
  },
  {
   "cell_type": "code",
   "execution_count": null,
   "id": "fe6e711c-fda4-4eb9-ac68-a683e5c86ad9",
   "metadata": {
    "tags": []
   },
   "outputs": [],
   "source": [
    "i=200\n",
    "psf_sed = galsim.SED('1', wave_type='Angstrom', flux_type='flambda')\n",
    "psf_star = galsim.DeltaFunction()\n",
    "\n",
    "# Faint galaxy\n",
    "logger.debug('Faint galaxy')\n",
    "\n",
    "# Select a random galaxy from the catalog.\n",
    "obj = cat.makeGalaxy(chromatic=True, gal_type='parametric', index=i)\n",
    "logger.debug('galaxy index = %s',obj.index)\n",
    "# obj = obj.shear(e1 = 0.01,e2=0.01)\n",
    "\n",
    "\n",
    "# Convolve the (chromatic) object with the (chromatic) PSF.\n",
    "pixel_scale = roman.pixel_scale\n",
    "wcs = galsim.PixelScale(pixel_scale) \n",
    "im_obj = obj.drawImage(bandpass,nx=64,ny=64,wcs=wcs)\n",
    "final = galsim.Convolve(obj, psf)\n",
    "stamp = final.drawImage(bandpass, nx=64,ny=64, wcs = wcs)\n",
    "psf_img = galsim.Convolve([psf_star, psf]) * psf_sed.withFlux(1, bandpass)\n",
    "im_psf = psf_img.drawImage(bandpass,nx=64,ny=64,wcs=wcs)"
   ]
  },
  {
   "cell_type": "code",
   "execution_count": null,
   "id": "2bbca8e1-2a78-4fc1-8db3-55466e75d2f4",
   "metadata": {
    "execution": {
     "iopub.status.busy": "2023-08-22T12:40:58.398300Z",
     "iopub.status.idle": "2023-08-22T12:40:58.398531Z",
     "shell.execute_reply": "2023-08-22T12:40:58.398426Z",
     "shell.execute_reply.started": "2023-08-22T12:40:58.398413Z"
    },
    "tags": []
   },
   "outputs": [],
   "source": [
    "fig, axs = plt.subplots(1,2,figsize=[15,10])\n",
    "\n",
    "im = axs[0].imshow(im_obj.array,cmap='gist_stern',origin='lower')\n",
    "axs[0].set_title('galaxy')\n",
    "fig.colorbar(im,ax=axs[0],shrink=0.5)\n",
    "s = galsim.hsm.FindAdaptiveMom(im_obj, round_moments = False )\n",
    "print(\"- AdaptiveMom shapes:\")\n",
    "print(\"Mom:\", s.observed_shape.e1, s.observed_shape.e2, s.moments_sigma, s.error_message.strip(\"\\n\"))\n",
    "print()\n",
    "\n",
    "im = axs[1].imshow(stamp.array,cmap='gist_stern',origin='lower')\n",
    "axs[1].set_title('convolved galaxy')\n",
    "s = galsim.hsm.EstimateShear(stamp, im_psf)\n",
    "print(\"- EstimateShear shapes:\")\n",
    "print(\"Uncorr:\", s.observed_shape.e1, s.observed_shape.e2, s.error_message.strip(\"\\n\"))\n",
    "print(\"Corr:\", s.corrected_e1, s.corrected_e2, s.moments_sigma)\n",
    "print(\"PSF shape:\", s.psf_shape.e1,s.psf_shape.e2, s.psf_sigma)\n",
    "fig.colorbar(im,ax=axs[1],shrink=0.5)\n",
    "\n",
    "# plt.savefig('image/2.png')\n"
   ]
  },
  {
   "cell_type": "code",
   "execution_count": null,
   "id": "f7e4973a-6a55-48f4-a316-606724146dfd",
   "metadata": {
    "tags": []
   },
   "outputs": [],
   "source": [
    "im = plt.imshow(im_psf.array,cmap='gist_stern',origin='lower')\n",
    "plt.title('psf')\n",
    "plt.colorbar()\n",
    "# plt.savefig('image/psf.png')"
   ]
  },
  {
   "cell_type": "markdown",
   "id": "1be2e44b-8fd2-4012-affc-a918d4223f02",
   "metadata": {},
   "source": [
    "# Draw image"
   ]
  },
  {
   "cell_type": "code",
   "execution_count": 5,
   "id": "ae9b755b-8b5d-4e28-a86a-434fc6c74798",
   "metadata": {
    "execution": {
     "iopub.execute_input": "2023-08-27T21:41:34.171238Z",
     "iopub.status.busy": "2023-08-27T21:41:34.170719Z",
     "iopub.status.idle": "2023-08-27T21:41:34.181291Z",
     "shell.execute_reply": "2023-08-27T21:41:34.180016Z",
     "shell.execute_reply.started": "2023-08-27T21:41:34.171191Z"
    },
    "tags": []
   },
   "outputs": [],
   "source": [
    "def draw_image(obj, psf, scale, nx = 64, ny = 64, chromatic = False, bandpass = None):\n",
    "    if chromatic == False:\n",
    "        im_obj = obj.drawImage(nx=nx,ny=ny,scale = scale)\n",
    "        final = galsim.Convolve(obj, psf)\n",
    "        stamp = final.drawImage(nx=nx,ny=ny, scale = scale)\n",
    "    else:\n",
    "        if bandpass == None:\n",
    "            raise DrawError(\"No bandpass\")\n",
    "        else:\n",
    "            im_obj = obj.drawImage(bandpass,nx=64,ny=64, scale = pixel_scale)\n",
    "            final = galsim.Convolve(obj, psf)\n",
    "            stamp = final.drawImage(bandpass, nx=64,ny=64, scale = pixel_scale)\n",
    "\n",
    "    return stamp"
   ]
  },
  {
   "cell_type": "markdown",
   "id": "0858c2d8-e289-4b11-a3da-7cc060602f00",
   "metadata": {},
   "source": [
    "# Function to create catalog"
   ]
  },
  {
   "cell_type": "code",
   "execution_count": 6,
   "id": "d48a9009-a33c-4330-8ff8-b90daa1d39f6",
   "metadata": {
    "execution": {
     "iopub.execute_input": "2023-08-27T21:41:37.054256Z",
     "iopub.status.busy": "2023-08-27T21:41:37.053803Z",
     "iopub.status.idle": "2023-08-27T21:41:37.061065Z",
     "shell.execute_reply": "2023-08-27T21:41:37.059803Z",
     "shell.execute_reply.started": "2023-08-27T21:41:37.054213Z"
    },
    "tags": []
   },
   "outputs": [],
   "source": [
    "pixel_scale = roman.pixel_scale\n",
    "master_seed = 1111\n",
    "rng_shear = np.random.RandomState(master_seed)\n"
   ]
  },
  {
   "cell_type": "code",
   "execution_count": 9,
   "id": "ca0de8ea-0d2e-47bd-8207-87ee8c977b28",
   "metadata": {
    "execution": {
     "iopub.execute_input": "2023-08-28T12:44:12.347476Z",
     "iopub.status.busy": "2023-08-28T12:44:12.347150Z",
     "iopub.status.idle": "2023-08-28T12:44:12.362266Z",
     "shell.execute_reply": "2023-08-28T12:44:12.361077Z",
     "shell.execute_reply.started": "2023-08-28T12:44:12.347454Z"
    },
    "tags": []
   },
   "outputs": [],
   "source": [
    "def create_catalog(nobj, shear = False, bandpass = False,catalog = None, chromatic = False):\n",
    "    seed = rng_shear.randint(low=0, high=2**32)\n",
    "    galsim_rng = galsim.BaseDeviate(seed)\n",
    "    noise = galsim.GaussianNoise(rng=galsim_rng, sigma=1e-5)\n",
    "    noise_psf = galsim.GaussianNoise(rng=galsim_rng, sigma=1e-5)\n",
    "\n",
    "    if bandpass == True:\n",
    "        datapath = galsim.meta_data.share_dir\n",
    "        filter_filename = os.path.join(datapath, 'bandpasses/euclid.dat')\n",
    "        bandpass = galsim.Bandpass(filter_filename, wave_type='Angstrom')\n",
    "    i=0\n",
    "\n",
    "    samples1=[]             # First sample\n",
    "    samples2=[]             # \n",
    "    \n",
    "    e1=[]            #storing shape of all galaxies in both two samples to check whether the avg shape = 0\n",
    "    in_shape2=[]\n",
    "\n",
    "    if chromatic == False:\n",
    "        psf = galsim.Gaussian(flux=1., sigma=0.2)\n",
    "        im_psf = psf.drawImage(nx=32,ny=32,scale = pixel_scale)\n",
    "    else:\n",
    "        n_pix = galsim.roman.n_pix\n",
    "        # n_pix = 64\n",
    "        psf = _get_single_PSF(SCA = use_SCA, bandpass = bandpass,SCA_pos=galsim.PositionD(n_pix/2,n_pix/2),\n",
    "                      pupil_bin=16, n_waves=10, extra_aberrations=None,\n",
    "                       wavelength=None, gsparams=None, pupil_plane_type = 'short')\n",
    "        psf_sed = galsim.SED('1', wave_type='Angstrom', flux_type='flambda')\n",
    "        psf_star = galsim.DeltaFunction()\n",
    "        psf_img = galsim.Convolve([psf_star, psf]) * psf_sed.withFlux(1, bandpass)\n",
    "        im_psf = psf_img.drawImage(bandpass,nx=32,ny=32, scale=pixel_scale)\n",
    "    \n",
    "    while i < nobj:\n",
    "        rand = random.random()\n",
    "        rand1 = -random.random()\n",
    "        angle = rand*2*np.pi*galsim.radians\n",
    "\n",
    "        if catalog == None:\n",
    "            obj = galsim.Gaussian(flux = 1e5, sigma = rand)\n",
    "            if shear == True:\n",
    "                if np.sqrt(rand**2+rand1**2) >= 1:\n",
    "                    obj = obj.shear(g1 = rand)\n",
    "                else:\n",
    "                    obj = obj.shear(g1 = rand, g2 = rand1)\n",
    "        else:\n",
    "            a = random.randint(0, catalog.nobjects-1)\n",
    "            obj = catalog.makeGalaxy(chromatic=True, gal_type='parametric', index=a)\n",
    "        \n",
    "        obj = obj.rotate(angle)\n",
    "        \n",
    "        obj1 = obj.rotate(90*galsim.degrees)\n",
    "        \n",
    "        try:\n",
    "            if chromatic == False:\n",
    "                stamp = draw_image(obj, psf, pixel_scale)\n",
    "                stamp.addNoise(noise)\n",
    "                stamp1 = draw_image(obj1, psf, pixel_scale)\n",
    "                stamp1.addNoise(noise)\n",
    "            else:\n",
    "                stamp = draw_image(obj, psf, chromatic = True, bandpass = bandpass)\n",
    "                stamp1 = draw_image(obj1, psf, chromatic = True, bandpass = bandpass)\n",
    "\n",
    "            \n",
    "            s = galsim.hsm.EstimateShear(stamp, im_psf)\n",
    "            # o = galsim.hsm.FindAdaptiveMom(im_obj, round_moments = False )\n",
    "            \n",
    "            s1 = galsim.hsm.EstimateShear(stamp1, im_psf)\n",
    "            # o1 = galsim.hsm.FindAdaptiveMom(im_obj1, round_moments = False )\n",
    "            \n",
    "            samples1.append(obj)\n",
    "            samples2.append(obj1)\n",
    "            i+=1\n",
    "            # in_shape1.append([o.observed_shape.e1, o1.observed_shape.e1])\n",
    "            # in_shape2.append([o.observed_shape.e2, o1.observed_shape.e2])\n",
    "        except galsim.GalSimFFTSizeError:\n",
    "            pass\n",
    "        except galsim.GalSimHSMError:\n",
    "            pass\n",
    "        \n",
    "    samples1 = np.asarray(samples1)\n",
    "    samples2 = np.asarray(samples2)\n",
    "    # in_shape1 = np.asarray(in_shape1)\n",
    "    # in_shape2 = np.asarray(in_shape2)\n",
    "\n",
    "    # avg = in_shape1.mean()\n",
    "    return samples1, samples2"
   ]
  },
  {
   "cell_type": "code",
   "execution_count": 48,
   "id": "10107a85-e83b-4e3e-bb78-a05643f46e50",
   "metadata": {
    "execution": {
     "iopub.execute_input": "2023-08-25T11:55:38.314172Z",
     "iopub.status.busy": "2023-08-25T11:55:38.313664Z",
     "iopub.status.idle": "2023-08-25T11:56:10.261816Z",
     "shell.execute_reply": "2023-08-25T11:56:10.261253Z",
     "shell.execute_reply.started": "2023-08-25T11:55:38.314151Z"
    },
    "tags": []
   },
   "outputs": [],
   "source": [
    "samples1, samples2= create_catalog(1000, shear = True, bandpass = False,catalog = None, chromatic = False)"
   ]
  },
  {
   "cell_type": "code",
   "execution_count": 10,
   "id": "cfb886e7-1919-41eb-a78c-edccb0f8d96b",
   "metadata": {
    "execution": {
     "iopub.execute_input": "2023-08-24T15:06:45.512817Z",
     "iopub.status.busy": "2023-08-24T15:06:45.512409Z",
     "iopub.status.idle": "2023-08-24T15:06:45.522706Z",
     "shell.execute_reply": "2023-08-24T15:06:45.521796Z",
     "shell.execute_reply.started": "2023-08-24T15:06:45.512786Z"
    }
   },
   "outputs": [
    {
     "data": {
      "text/plain": [
       "-1.3832868720406455e-10"
      ]
     },
     "execution_count": 10,
     "metadata": {},
     "output_type": "execute_result"
    }
   ],
   "source": [
    "avg"
   ]
  },
  {
   "cell_type": "markdown",
   "id": "f29e8e23-1f95-45ff-958e-02c72fb5624e",
   "metadata": {},
   "source": [
    "# Create galaxy"
   ]
  },
  {
   "cell_type": "markdown",
   "id": "0186c0f1-5848-41b9-ac60-d9448005cc31",
   "metadata": {},
   "source": [
    "# Draw image"
   ]
  },
  {
   "cell_type": "markdown",
   "id": "40edce42-a9e1-4590-ac4e-d815308ef100",
   "metadata": {},
   "source": [
    "# Shapes measurement"
   ]
  },
  {
   "cell_type": "code",
   "execution_count": 5,
   "id": "069cc25d-3fd2-4944-96e5-fc2db5f62d3e",
   "metadata": {
    "execution": {
     "iopub.execute_input": "2023-08-31T13:29:09.310792Z",
     "iopub.status.busy": "2023-08-31T13:29:09.310575Z",
     "iopub.status.idle": "2023-08-31T13:29:09.318459Z",
     "shell.execute_reply": "2023-08-31T13:29:09.317246Z",
     "shell.execute_reply.started": "2023-08-31T13:29:09.310770Z"
    }
   },
   "outputs": [],
   "source": [
    "pixel_scale = roman.pixel_scale\n",
    "psf = galsim.Gaussian(flux=1., sigma=0.2)    \n",
    "psf_img = psf.drawImage(scale=pixel_scale)"
   ]
  },
  {
   "cell_type": "code",
   "execution_count": 99,
   "id": "45a71a78-01a7-4be7-a6b4-57b7aaebe0d2",
   "metadata": {
    "execution": {
     "iopub.execute_input": "2023-08-31T16:53:08.928545Z",
     "iopub.status.busy": "2023-08-31T16:53:08.928027Z",
     "iopub.status.idle": "2023-08-31T16:53:08.943708Z",
     "shell.execute_reply": "2023-08-31T16:53:08.942468Z",
     "shell.execute_reply.started": "2023-08-31T16:53:08.928500Z"
    }
   },
   "outputs": [],
   "source": [
    "def COSMOS(g1_s, g2_s, seed):\n",
    "\n",
    "    rng = np.random.RandomState(seed)\n",
    "    galsim_rng = galsim.BaseDeviate(seed)\n",
    "    # Add a bit of noise helps the shape measurement usually\n",
    "    noise = galsim.GaussianNoise(rng = galsim_rng, sigma=1e-5)\n",
    "    \n",
    "    # Simple PSF\n",
    "    psf_img.addNoise(noise)\n",
    "    \n",
    "    # Make galaxy\n",
    "\n",
    "    a = rng.randint(1, cat.nobjects-1)\n",
    "    gal = cat.makeGalaxy(gal_type='parametric', index=a)\n",
    "    gal = gal.shear(g1=g1, g2=g2)\n",
    "\n",
    "    rand = rng.random()\n",
    "    angle = rand*2*np.pi*galsim.radians\n",
    "    gal = gal.rotate(angle)\n",
    "    \n",
    "    # Make rotated version\n",
    "    gal_rot = gal.rotate(90*galsim.degrees)\n",
    "    gal_rot = gal_rot.shear(g1=g1_s, g2=g2_s)\n",
    "\n",
    "    gal = gal.shear(g1=g1_s, g2=g2_s)\n",
    "    \n",
    "    # Convolve by the PSF\n",
    "    obj = galsim.Convolve((gal, psf))\n",
    "    obj_rot = galsim.Convolve((gal_rot, psf))\n",
    "    \n",
    "    # Draw\n",
    "    try:\n",
    "        obj_img = obj.drawImage(scale=pixel_scale)\n",
    "        obj_img.addNoise(noise)\n",
    "        obj_rot_img = obj_rot.drawImage(scale=pixel_scale)\n",
    "        obj_rot_img.addNoise(noise)\n",
    "    # Measure shear\n",
    "        obj_s = galsim.hsm.EstimateShear(obj_img, psf_img, strict=False)\n",
    "        s_obj = galsim.Shear(e1=obj_s.corrected_e1, e2=obj_s.corrected_e2)\n",
    "        g1_meas = s_obj.g1\n",
    "        g2_meas = s_obj.g2\n",
    "        # g1_meas = obj_s.corrected_e1\n",
    "        # g2_meas = obj_s.corrected_e2\n",
    "\n",
    "        # Measure on rotated version\n",
    "        obj_rot_s = galsim.hsm.EstimateShear(obj_rot_img, psf_img, strict=False)\n",
    "        s_rot_obj = galsim.Shear(e1=obj_rot_s.corrected_e1, e2=obj_rot_s.corrected_e2)\n",
    "        g1_rot_meas = s_rot_obj.g1\n",
    "        g2_rot_meas = s_rot_obj.g2\n",
    "        # g1_rot_meas = obj_rot_s.corrected_e1\n",
    "        # g2_rot_meas = obj_rot_s.corrected_e2\n",
    "    except galsim.GalSimFFTSizeError or galsim.GalSimHSMError or galsim.GalSimRangeError:\n",
    "        g1_meas = g2_meas = np.nan\n",
    "        g1_rot_meas = g2_rot_meas = np.nan\n",
    "    \n",
    "    return g1_meas, g2_meas, g1_rot_meas, g2_rot_meas"
   ]
  },
  {
   "cell_type": "code",
   "execution_count": 102,
   "id": "ff800d5d-4a22-41b2-b31b-ca46b97295dc",
   "metadata": {
    "execution": {
     "iopub.execute_input": "2023-08-31T16:54:26.864213Z",
     "iopub.status.busy": "2023-08-31T16:54:26.863945Z",
     "iopub.status.idle": "2023-08-31T16:54:26.876696Z",
     "shell.execute_reply": "2023-08-31T16:54:26.875578Z",
     "shell.execute_reply.started": "2023-08-31T16:54:26.864183Z"
    }
   },
   "outputs": [],
   "source": [
    "def runner(g1_s, g2_s, seed, gaussian = True):\n",
    "\n",
    "    rng = np.random.RandomState(seed)\n",
    "    galsim_rng = galsim.BaseDeviate(seed)\n",
    "    # Add a bit of noise helps the shape measurement usually\n",
    "    noise = galsim.GaussianNoise(rng = galsim_rng, sigma=1e-5)\n",
    "    \n",
    "    # Simple PSF\n",
    "    psf_img.addNoise(noise)\n",
    "    \n",
    "    # Get random galaxy parameters\n",
    "    gal_size = rng.uniform(low=0.2, high=1.)\n",
    "    g1, g2 = rng.normal(size=2)*0.25\n",
    "    while np.sqrt(g1**2 + g2**2) > 1:\n",
    "        g1, g2 = rng.normal(size=2)*0.25\n",
    "    \n",
    "    # Make galaxy\n",
    "    if gaussian == True:\n",
    "        gal = galsim.Gaussian(fwhm=gal_size)\n",
    "    else:\n",
    "        gal = galsim.Exponential(scale_radius=gal_size)\n",
    "    gal = gal.shear(g1=g1, g2=g2)\n",
    "\n",
    "    rand = rng.random()\n",
    "    angle = rand*2*np.pi*galsim.radians\n",
    "    gal = gal.rotate(angle)\n",
    "    \n",
    "    # Make rotated version\n",
    "    gal_rot = gal.rotate(90*galsim.degrees)\n",
    "    gal_rot = gal_rot.shear(g1=g1_s, g2=g2_s)\n",
    "\n",
    "    gal = gal.shear(g1=g1_s, g2=g2_s)\n",
    "    \n",
    "    # Convolve by the PSF\n",
    "    obj = galsim.Convolve((gal, psf))\n",
    "    obj_rot = galsim.Convolve((gal_rot, psf))\n",
    "    \n",
    "    # Draw\n",
    "    try:\n",
    "        obj_img = obj.drawImage(scale=pixel_scale)\n",
    "        obj_img.addNoise(noise)\n",
    "        obj_rot_img = obj_rot.drawImage(scale=pixel_scale)\n",
    "        obj_rot_img.addNoise(noise)\n",
    "    # Measure shear\n",
    "        obj_s = galsim.hsm.EstimateShear(obj_img, psf_img, strict=False)\n",
    "        s_obj = galsim.Shear(e1=obj_s.corrected_e1, e2=obj_s.corrected_e2)\n",
    "        g1_meas = s_obj.g1\n",
    "        g2_meas = s_obj.g2\n",
    "        # g1_meas = obj_s.corrected_e1\n",
    "        # g2_meas = obj_s.corrected_e2\n",
    "\n",
    "        # Measure on rotated version\n",
    "        obj_rot_s = galsim.hsm.EstimateShear(obj_rot_img, psf_img, strict=False)\n",
    "        s_rot_obj = galsim.Shear(e1=obj_rot_s.corrected_e1, e2=obj_rot_s.corrected_e2)\n",
    "        g1_rot_meas = s_rot_obj.g1\n",
    "        g2_rot_meas = s_rot_obj.g2\n",
    "        # g1_rot_meas = obj_rot_s.corrected_e1\n",
    "        # g2_rot_meas = obj_rot_s.corrected_e2\n",
    "    except galsim.GalSimFFTSizeError:\n",
    "        g1_meas = g2_meas = np.nan\n",
    "        g1_rot_meas = g2_rot_meas = np.nan\n",
    "    except galsim.GalSimHSMError:\n",
    "        g1_meas = g2_meas = np.nan\n",
    "        g1_rot_meas = g2_rot_meas = np.nan\n",
    "    except galsim.GalSimRangeError:\n",
    "        g1_meas = g2_meas = np.nan\n",
    "        g1_rot_meas = g2_rot_meas = np.nan\n",
    "    \n",
    "    return g1_meas, g2_meas, g1_rot_meas, g2_rot_meas"
   ]
  },
  {
   "cell_type": "code",
   "execution_count": null,
   "id": "aeaf46c7-f415-49b0-a8d6-86e51ee94cf4",
   "metadata": {},
   "outputs": [],
   "source": []
  },
  {
   "cell_type": "markdown",
   "id": "55b263db-4609-4df2-a9db-3a5a18b795bb",
   "metadata": {},
   "source": [
    "# Simulation"
   ]
  },
  {
   "cell_type": "markdown",
   "id": "2ce40afd-5067-4c10-9221-cfbc8a2e56ef",
   "metadata": {},
   "source": [
    "## Gaussian PSF + Gaussian galaxy"
   ]
  },
  {
   "cell_type": "code",
   "execution_count": 103,
   "id": "58c83467-bde6-48d4-bd3c-a5eb96e2c0a9",
   "metadata": {
    "execution": {
     "iopub.execute_input": "2023-08-31T16:54:35.923491Z",
     "iopub.status.busy": "2023-08-31T16:54:35.923051Z",
     "iopub.status.idle": "2023-08-31T16:54:35.939810Z",
     "shell.execute_reply": "2023-08-31T16:54:35.938690Z",
     "shell.execute_reply.started": "2023-08-31T16:54:35.923450Z"
    }
   },
   "outputs": [],
   "source": [
    "def routine(n_obj, n_shear, seed, type, n_cores = 16):\n",
    "    g1_meas = []\n",
    "    g2_meas = []\n",
    "    g1_meas_std = []\n",
    "    g2_meas_std = []\n",
    "    g1_true = []\n",
    "    g2_true = []\n",
    "    rng_shear = np.random.RandomState(seed)\n",
    "    for i in tqdm(range(n_shear), total=n_shear):\n",
    "        g1_t_tmp, g2_t_tmp = rng_shear.normal(size=2)*0.02\n",
    "\n",
    "        g1_true.append(g1_t_tmp)\n",
    "        g2_true.append(g2_t_tmp)\n",
    "            \n",
    "        g1_list_tmp = []\n",
    "        g2_list_tmp = []\n",
    "        res = []\n",
    "\n",
    "        # New galaxies parameters for each shear version (looks like it helps)\n",
    "        seeds = rng_shear.randint(low=0, high=2**32, size=n_obj)\n",
    "        \n",
    "        # Run in parallel\n",
    "        if type == \"gaussian\":\n",
    "            res_tmp = np.array(\n",
    "                Parallel(n_jobs=n_cores)(\n",
    "                    delayed(runner)(g1_t_tmp, g2_t_tmp, seeds[j], gaussian = True) for j in range(n_obj)\n",
    "                )\n",
    "            )\n",
    "        elif type == \"exponential\":\n",
    "            res_tmp = np.array(\n",
    "                Parallel(n_jobs=n_cores)(\n",
    "                    delayed(runner)(g1_t_tmp, g2_t_tmp, seeds[j], gaussian = False) for j in range(n_obj)\n",
    "                )\n",
    "            )\n",
    "        else:\n",
    "            res_tmp = np.array(\n",
    "                Parallel(n_jobs=n_cores)(\n",
    "                    delayed(COSMOS)(g1_t_tmp, g2_t_tmp, seeds[j]) for j in range(n_obj)\n",
    "                )\n",
    "            )\n",
    "        \n",
    "        # Combine normal and rotated\n",
    "        g1_list_tmp = np.concatenate((res_tmp[:, 0], res_tmp[:, 2]))\n",
    "        g2_list_tmp = np.concatenate((res_tmp[:, 1], res_tmp[:, 3]))\n",
    "        \n",
    "        # Get the measured shear whitout failed \n",
    "        g1_meas.append(np.nanmean(g1_list_tmp))\n",
    "        g2_meas.append(np.nanmean(g2_list_tmp))\n",
    "    \n",
    "    g1_meas = np.array(g1_meas)\n",
    "    g2_meas = np.array(g2_meas)\n",
    "    g1_true = np.array(g1_true)\n",
    "    g2_true = np.array(g2_true)\n",
    "\n",
    "    return g1_meas, g2_meas, g1_true, g2_true"
   ]
  },
  {
   "cell_type": "code",
   "execution_count": 104,
   "id": "f8cafaa9-b82a-465c-bfcc-9092913ec6e5",
   "metadata": {
    "execution": {
     "iopub.execute_input": "2023-08-31T16:54:36.422031Z",
     "iopub.status.busy": "2023-08-31T16:54:36.421596Z",
     "iopub.status.idle": "2023-08-31T17:02:53.044400Z",
     "shell.execute_reply": "2023-08-31T17:02:53.042735Z",
     "shell.execute_reply.started": "2023-08-31T16:54:36.421989Z"
    }
   },
   "outputs": [
    {
     "name": "stderr",
     "output_type": "stream",
     "text": [
      "100%|█████████████████████████████████████████| 100/100 [08:16<00:00,  4.97s/it]\n"
     ]
    }
   ],
   "source": [
    "n_obj = 5000\n",
    "n_shear = 100\n",
    "seed = 1\n",
    "\n",
    "#type = \"gaussian\" for Gaussian profile galaxies, \"exponential\" for exponential profile, else COSMOS catalog\n",
    "# g1_meas, g2_meas, g1_true, g2_true = routine(n_obj, n_shear, seed, type = \"gaussian\", n_cores = 32)\n",
    "g1_meas, g2_meas, g1_true, g2_true = routine(n_obj, n_shear, seed, type = \"exponential\", n_cores = 32)\n",
    "# g1_meas, g2_meas, g1_true, g2_true = routine(n_obj, n_shear, seed, type = \"COSMOS\", n_cores = 32)"
   ]
  },
  {
   "cell_type": "code",
   "execution_count": 109,
   "id": "af683a43-f661-4b17-9b9d-f20c3a3d993d",
   "metadata": {
    "execution": {
     "iopub.execute_input": "2023-08-31T17:08:11.256992Z",
     "iopub.status.busy": "2023-08-31T17:08:11.256490Z",
     "iopub.status.idle": "2023-08-31T17:08:11.262672Z",
     "shell.execute_reply": "2023-08-31T17:08:11.261555Z",
     "shell.execute_reply.started": "2023-08-31T17:08:11.256949Z"
    }
   },
   "outputs": [],
   "source": [
    "def lin(x, a, b):\n",
    "    return a*x + b"
   ]
  },
  {
   "cell_type": "markdown",
   "id": "b1ff0a6f-1027-4ebc-93c6-b8cb7277614b",
   "metadata": {},
   "source": [
    "# Training set"
   ]
  },
  {
   "cell_type": "code",
   "execution_count": null,
   "id": "9ae2b0c0-0ad1-463b-9b3b-d6c693ea20c2",
   "metadata": {
    "execution": {
     "iopub.execute_input": "2023-08-31T17:14:44.117739Z",
     "iopub.status.busy": "2023-08-31T17:14:44.117300Z"
    }
   },
   "outputs": [
    {
     "name": "stderr",
     "output_type": "stream",
     "text": [
      "100%|█████████████████████████████████████████| 100/100 [08:23<00:00,  5.03s/it]\n",
      "100%|█████████████████████████████████████████| 100/100 [08:21<00:00,  5.01s/it]\n",
      "100%|█████████████████████████████████████████| 100/100 [08:26<00:00,  5.06s/it]\n",
      "100%|█████████████████████████████████████████| 100/100 [08:22<00:00,  5.03s/it]\n",
      " 26%|██████████▉                               | 26/100 [02:23<07:05,  5.74s/it]"
     ]
    }
   ],
   "source": [
    "master_seed = 1\n",
    "n_obj = 5000\n",
    "n_shear = 100\n",
    "\n",
    "training_size = 10\n",
    "m = np.zeros(training_size)\n",
    "c = np.zeros(training_size)\n",
    "rng = np.random.RandomState(master_seed)\n",
    "\n",
    "for i in range(training_size):\n",
    "    seed = rng.randint(low=0, high=2**32, size=training_size)\n",
    "    g1_meas, g2_meas, g1_true, g2_true = routine(n_obj, n_shear, seed, type = \"exponential\", n_cores = 32)\n",
    "    y = g1_meas-g1_true\n",
    "    res = curve_fit(lin, g1_true, y)\n",
    "    m[i] = res[0][0]\n",
    "    c[i] = res[0][1]\n",
    "\n",
    "m = np.mean(m)\n",
    "c = np.mean(c)"
   ]
  },
  {
   "cell_type": "markdown",
   "id": "fb6c621d-5b1f-4422-acb9-660c60b4ca1b",
   "metadata": {},
   "source": [
    "# Test set"
   ]
  },
  {
   "cell_type": "code",
   "execution_count": null,
   "id": "c11af382-31fd-4256-a901-fed6238d9ba4",
   "metadata": {},
   "outputs": [],
   "source": [
    "master_seed = 2\n",
    "rng = np.random.RandomState(master_seed)\n",
    "test_size = 1\n",
    "for i in range(test_size):\n",
    "    seed = rng.randint(low=0, high=2**32)\n",
    "    g1_meas, g2_meas, g1_true, g2_true = routine(n_obj, n_shear, seed, type = \"exponential\", n_cores = 32)\n",
    "\n",
    "    y_cal = (g1_meas - c)/(1 + m) - g1_true\n",
    "    res_cal = curve_fit(lin, g1_true, y_cal)\n",
    "\n",
    "    plt.plot(g1_true, y_cal, '+')\n",
    "    plt.plot(g1_true, lin(g1_true, *res_cal[0]), label='best-fit')\n",
    "    plt.xlabel('g1_true')\n",
    "    plt.ylabel('g1_meas - g1_true')\n",
    "    # plt.ylim(-0.0002,0.0002)\n",
    "    plt.legend()"
   ]
  },
  {
   "cell_type": "code",
   "execution_count": 105,
   "id": "404e4dd3-1452-4925-a790-b7b3fede1982",
   "metadata": {
    "execution": {
     "iopub.execute_input": "2023-08-31T17:04:21.599567Z",
     "iopub.status.busy": "2023-08-31T17:04:21.599023Z",
     "iopub.status.idle": "2023-08-31T17:04:21.610474Z",
     "shell.execute_reply": "2023-08-31T17:04:21.609209Z",
     "shell.execute_reply.started": "2023-08-31T17:04:21.599519Z"
    }
   },
   "outputs": [],
   "source": [
    "def lin(x, a, b):\n",
    "    return a*x + b\n",
    "\n",
    "\n",
    "y = g1_meas-g1_true\n",
    "res = curve_fit(lin, g1_true, y)"
   ]
  },
  {
   "cell_type": "code",
   "execution_count": 106,
   "id": "4f6a9592-ea85-4c5f-903c-ec65bf2957f7",
   "metadata": {
    "execution": {
     "iopub.execute_input": "2023-08-31T17:04:22.414155Z",
     "iopub.status.busy": "2023-08-31T17:04:22.413716Z",
     "iopub.status.idle": "2023-08-31T17:04:22.844954Z",
     "shell.execute_reply": "2023-08-31T17:04:22.843972Z",
     "shell.execute_reply.started": "2023-08-31T17:04:22.414114Z"
    }
   },
   "outputs": [],
   "source": [
    "from astropy.stats import jackknife_stats\n",
    "from astropy.stats import jackknife_resampling\n",
    "\n",
    "resamples = jackknife_resampling(y)\n",
    "\n",
    "err = np.zeros(y.size)\n",
    "for i in range(y.size):\n",
    "    err[i] = jackknife_stats(resamples[i], np.std)[2]"
   ]
  },
  {
   "cell_type": "code",
   "execution_count": 107,
   "id": "2d5ed523-48e8-4c6d-8fdc-f446f013e8d1",
   "metadata": {
    "execution": {
     "iopub.execute_input": "2023-08-31T17:04:23.550262Z",
     "iopub.status.busy": "2023-08-31T17:04:23.550009Z",
     "iopub.status.idle": "2023-08-31T17:04:23.865893Z",
     "shell.execute_reply": "2023-08-31T17:04:23.865132Z",
     "shell.execute_reply.started": "2023-08-31T17:04:23.550237Z"
    }
   },
   "outputs": [
    {
     "name": "stdout",
     "output_type": "stream",
     "text": [
      "m:  0.0025628780747466193 +/- 0.00022186470130286217\n",
      "c:  -5.431187567712349e-06 +/- 4.637803656134605e-06\n"
     ]
    },
    {
     "data": {
      "text/plain": [
       "<matplotlib.legend.Legend at 0x7f096ebb5290>"
      ]
     },
     "execution_count": 107,
     "metadata": {},
     "output_type": "execute_result"
    },
    {
     "data": {
      "image/png": "[encoded data removed]",
      "text/plain": [
       "<Figure size 700x500 with 1 Axes>"
      ]
     },
     "metadata": {},
     "output_type": "display_data"
    }
   ],
   "source": [
    "print(\"m: \", res[0][0], \"+/-\", np.sqrt(np.diag(res[1]))[0])\n",
    "print(\"c: \", res[0][1], \"+/-\", np.sqrt(np.diag(res[1]))[1])\n",
    "plt.figure(figsize=(7,5))\n",
    "plt.title('g1')\n",
    "# plt.plot(g1_true, y, '+')\n",
    "plt.errorbar(g1_true, y, yerr=err, fmt='.', label='Data with Error Bars')\n",
    "plt.plot(g1_true, lin(g1_true, *res[0]), label='best-fit')\n",
    "plt.xlabel('g1_true')\n",
    "plt.ylabel('g1_meas - g1_true')\n",
    "plt.legend()"
   ]
  },
  {
   "cell_type": "code",
   "execution_count": 108,
   "id": "2071d639-ebf9-4a11-8f8b-ab845cb36f4f",
   "metadata": {
    "execution": {
     "iopub.execute_input": "2023-08-31T17:04:38.724928Z",
     "iopub.status.busy": "2023-08-31T17:04:38.724571Z",
     "iopub.status.idle": "2023-08-31T17:04:38.979581Z",
     "shell.execute_reply": "2023-08-31T17:04:38.978709Z",
     "shell.execute_reply.started": "2023-08-31T17:04:38.724890Z"
    }
   },
   "outputs": [
    {
     "name": "stdout",
     "output_type": "stream",
     "text": [
      "m:  5.3831646584789894e-08 +/- 0.0002212999123224665\n",
      "c:  9.781530030394947e-10 +/- 4.6258883331759245e-06\n"
     ]
    },
    {
     "data": {
      "text/plain": [
       "<matplotlib.legend.Legend at 0x7f087251e350>"
      ]
     },
     "execution_count": 108,
     "metadata": {},
     "output_type": "execute_result"
    },
    {
     "data": {
      "image/png": "[encoded data removed]",
      "text/plain": [
       "<Figure size 640x480 with 1 Axes>"
      ]
     },
     "metadata": {},
     "output_type": "display_data"
    }
   ],
   "source": [
    "y_cal = (g1_meas - res[0][1])/(1+res[0][0]) - g1_true\n",
    "res_cal = curve_fit(lin, g1_true, y_cal)\n",
    "\n",
    "print(\"m: \", res_cal[0][0], \"+/-\", np.sqrt(np.diag(res_cal[1]))[0])\n",
    "print(\"c: \", res_cal[0][1], \"+/-\", np.sqrt(np.diag(res_cal[1]))[1])\n",
    "\n",
    "plt.plot(g1_true, y_cal, '+')\n",
    "plt.plot(g1_true, lin(g1_true, *res_cal[0]), label='best-fit')\n",
    "plt.xlabel('g1_true')\n",
    "plt.ylabel('g1_meas - g1_true')\n",
    "plt.ylim(-0.0002,0.0002)\n",
    "plt.legend()"
   ]
  },
  {
   "cell_type": "code",
   "execution_count": 39,
   "id": "8e1ba4b3-1af6-4486-96b3-db72f67ecfe3",
   "metadata": {
    "execution": {
     "iopub.execute_input": "2023-08-31T14:20:06.945645Z",
     "iopub.status.busy": "2023-08-31T14:20:06.945262Z",
     "iopub.status.idle": "2023-08-31T14:20:07.364650Z",
     "shell.execute_reply": "2023-08-31T14:20:07.363840Z",
     "shell.execute_reply.started": "2023-08-31T14:20:06.945613Z"
    }
   },
   "outputs": [],
   "source": [
    "y = g2_meas-g2_true\n",
    "res = curve_fit(lin, g2_true, y)\n",
    "\n",
    "resamples = jackknife_resampling(y)\n",
    "\n",
    "err = np.zeros(y.size)\n",
    "for i in range(y.size):\n",
    "    err[i] = jackknife_stats(resamples[i], np.std)[2]"
   ]
  },
  {
   "cell_type": "code",
   "execution_count": 45,
   "id": "df43c693-6f7d-43b8-90b0-86abbe9192df",
   "metadata": {
    "execution": {
     "iopub.execute_input": "2023-08-31T14:24:24.627559Z",
     "iopub.status.busy": "2023-08-31T14:24:24.627288Z",
     "iopub.status.idle": "2023-08-31T14:24:24.931492Z",
     "shell.execute_reply": "2023-08-31T14:24:24.930363Z",
     "shell.execute_reply.started": "2023-08-31T14:24:24.627531Z"
    }
   },
   "outputs": [
    {
     "name": "stdout",
     "output_type": "stream",
     "text": [
      "m:  0.0017926283441194657 +/- 0.0001640729864087565\n",
      "c:  -8.135424221132959e-07 +/- 3.2335705356768774e-06\n"
     ]
    },
    {
     "data": {
      "text/plain": [
       "<matplotlib.legend.Legend at 0x7f097f115290>"
      ]
     },
     "execution_count": 45,
     "metadata": {},
     "output_type": "execute_result"
    },
    {
     "data": {
      "image/png": "[encoded data removed]",
      "text/plain": [
       "<Figure size 700x500 with 1 Axes>"
      ]
     },
     "metadata": {},
     "output_type": "display_data"
    }
   ],
   "source": [
    "print(\"m: \", res[0][0], \"+/-\", np.sqrt(np.diag(res[1]))[0])\n",
    "print(\"c: \", res[0][1], \"+/-\", np.sqrt(np.diag(res[1]))[1])\n",
    "plt.figure(figsize=(7,5))\n",
    "plt.title('g2')\n",
    "# plt.plot(g2_true, y, '+')\n",
    "plt.errorbar(g2_true, y, yerr=err, fmt='.', label='Data with Error Bars')\n",
    "plt.plot(g2_true, lin(g2_true, *res[0]), label='best-fit')\n",
    "plt.xlabel('g2_true')\n",
    "plt.ylabel('g2_meas - g2_true')\n",
    "plt.legend()"
   ]
  },
  {
   "cell_type": "markdown",
   "id": "dba4b092-c65b-4ccb-954c-43a138485462",
   "metadata": {},
   "source": [
    "## Test measurement on individual galaxy"
   ]
  },
  {
   "cell_type": "code",
   "execution_count": null,
   "id": "26505aec-6fe7-46cb-8024-1414a05ced23",
   "metadata": {
    "tags": []
   },
   "outputs": [],
   "source": [
    "nobj=10\n",
    "\n",
    "ini_e1=[]\n",
    "fin_e1=[]\n",
    "ini_e2=[]\n",
    "fin_e2=[]\n",
    "ini_size=[]\n",
    "fin_size=[]\n",
    "e1=[]\n",
    "e2=[]\n",
    "index=[]\n",
    "\n",
    "samples = []\n",
    "\n",
    "psf_sed = galsim.SED('1', wave_type='Angstrom', flux_type='flambda')\n",
    "psf_star = galsim.DeltaFunction()\n",
    "pixel_scale = roman.pixel_scale\n",
    "wcs = galsim.PixelScale(pixel_scale) \n",
    "for i in range(nobj):\n",
    "    a = random.randint(0, cat.nobjects-1)\n",
    "    angle = random.random()*2*np.pi*galsim.radians\n",
    "    # print(a)\n",
    "    obj = cat.makeGalaxy(chromatic=True, gal_type='parametric', index=a)\n",
    "    obj = obj.rotate(angle)\n",
    "    try:\n",
    "        im_obj = obj.drawImage(bandpass,nx=64,ny=64,wcs=wcs)\n",
    "        final = galsim.Convolve(obj, psf)\n",
    "        stamp = final.drawImage(bandpass, nx=64,ny=64, wcs = wcs)\n",
    "        psf_img = galsim.Convolve([psf_star, psf]) * psf_sed.withFlux(1, bandpass)\n",
    "        im_psf = psf_img.drawImage(bandpass,nx=32,ny=32,wcs=wcs)\n",
    "        s = galsim.hsm.EstimateShear(stamp, im_psf)\n",
    "        o = galsim.hsm.FindAdaptiveMom(im_obj, round_moments = False )\n",
    "        # e1.append(100*abs(s.corrected_e1-o.observed_shape.e1)/abs(o.observed_shape.e1))\n",
    "        # ini_e1.append(o.observed_shape.e1)\n",
    "        # fin_e1.append(s.corrected_e1)\n",
    "        # ini_e2.append(o.observed_shape.e2)\n",
    "        # fin_e2.append(s.corrected_e2)\n",
    "        # ini_size.append(o.moments_sigma)\n",
    "        # fin_size.append(s.moments_sigma)\n",
    "        # e2.append(100*abs(s.corrected_e2-o.observed_shape.e2)/abs(o.observed_shape.e2))\n",
    "        # index.append(a)\n",
    "    except galsim.GalSimFFTSizeError:\n",
    "        pass\n",
    "    except galsim.GalSimHSMError:\n",
    "        pass\n",
    "\n",
    "    # print(obj.index,s.corrected_e1,o.observed_shape.e1)\n",
    "e1 = np.asarray(e1)\n",
    "e2 = np.asarray(e2)\n",
    "ini_e1 = np.asarray(ini_e1)\n",
    "fin_e1 = np.asarray(fin_e1)\n",
    "ini_e2 = np.asarray(ini_e2)\n",
    "fin_e2 = np.asarray(fin_e2)\n",
    "ini_size = np.asarray(ini_size)\n",
    "fin_size = np.asarray(fin_size)\n",
    "index = np.asarray(index)"
   ]
  },
  {
   "cell_type": "code",
   "execution_count": null,
   "id": "1ca06888-7914-4e13-8698-80451ca22b36",
   "metadata": {
    "execution": {
     "iopub.status.busy": "2023-08-16T16:05:12.068008Z",
     "iopub.status.idle": "2023-08-16T16:05:12.068174Z",
     "shell.execute_reply": "2023-08-16T16:05:12.068100Z",
     "shell.execute_reply.started": "2023-08-16T16:05:12.068091Z"
    },
    "tags": []
   },
   "outputs": [],
   "source": [
    "fin_e1.size, index.size"
   ]
  },
  {
   "cell_type": "code",
   "execution_count": null,
   "id": "42cbdbd7-9f7c-454d-b3d0-4ac411a4dc05",
   "metadata": {
    "execution": {
     "iopub.status.busy": "2023-08-16T16:05:12.069022Z",
     "iopub.status.idle": "2023-08-16T16:05:12.069181Z",
     "shell.execute_reply": "2023-08-16T16:05:12.069109Z",
     "shell.execute_reply.started": "2023-08-16T16:05:12.069101Z"
    },
    "tags": []
   },
   "outputs": [],
   "source": [
    "np.where(e1 > 10), np.where(e2 > 10)"
   ]
  },
  {
   "cell_type": "code",
   "execution_count": null,
   "id": "aae8c306-58e2-4380-a2ef-b530e37dbaa9",
   "metadata": {
    "execution": {
     "iopub.status.busy": "2023-08-16T16:05:12.069538Z",
     "iopub.status.idle": "2023-08-16T16:05:12.069679Z",
     "shell.execute_reply": "2023-08-16T16:05:12.069613Z",
     "shell.execute_reply.started": "2023-08-16T16:05:12.069606Z"
    },
    "tags": []
   },
   "outputs": [],
   "source": [
    "index[4], e1[4], ini_size[7], ini_e2[7]"
   ]
  },
  {
   "cell_type": "code",
   "execution_count": null,
   "id": "ab482e9c-350d-40b0-a6ef-6c31475b4a02",
   "metadata": {
    "execution": {
     "iopub.status.busy": "2023-08-16T16:05:12.070142Z",
     "iopub.status.idle": "2023-08-16T16:05:12.070297Z",
     "shell.execute_reply": "2023-08-16T16:05:12.070219Z",
     "shell.execute_reply.started": "2023-08-16T16:05:12.070212Z"
    },
    "tags": []
   },
   "outputs": [],
   "source": [
    "e2[8]"
   ]
  },
  {
   "cell_type": "code",
   "execution_count": null,
   "id": "41cca025-4ee9-4533-8383-89145d5de209",
   "metadata": {
    "execution": {
     "iopub.status.busy": "2023-08-16T16:05:12.071012Z",
     "iopub.status.idle": "2023-08-16T16:05:12.071212Z",
     "shell.execute_reply": "2023-08-16T16:05:12.071117Z",
     "shell.execute_reply.started": "2023-08-16T16:05:12.071107Z"
    },
    "tags": []
   },
   "outputs": [],
   "source": [
    "def remove_outliers(data_list, threshold=3):\n",
    "    \"\"\"\n",
    "    Remove outliers from a list of numbers using z-scores with NumPy.\n",
    "\n",
    "    Parameters:\n",
    "        data_list (list): List of numbers.\n",
    "        threshold (float): Z-score threshold for identifying outliers (default: 3).\n",
    "\n",
    "    Returns:\n",
    "        list: List with outliers removed.\n",
    "    \"\"\"\n",
    "    data_array = np.array(data_list)\n",
    "    z_scores = np.abs((data_array - np.mean(data_array)) / np.std(data_array))\n",
    "    filtered_data = data_array[z_scores <= threshold]\n",
    "    return np.asarray(filtered_data)\n",
    "\n",
    "def trend_outliers(array1, array2, threshold=3):\n",
    "    a = np.where(array1 > 1)\n",
    "    for i in a:\n",
    "        new_a1 = np.delete(array1,a)\n",
    "        new_a2 = np.delete(array2,a)\n",
    "        \n",
    "    return new_a1, new_a2"
   ]
  },
  {
   "cell_type": "code",
   "execution_count": null,
   "id": "38a40d4a-121b-44c7-83b2-6638d697647e",
   "metadata": {
    "execution": {
     "iopub.status.busy": "2023-08-16T16:05:12.071767Z",
     "iopub.status.idle": "2023-08-16T16:05:12.071910Z",
     "shell.execute_reply": "2023-08-16T16:05:12.071844Z",
     "shell.execute_reply.started": "2023-08-16T16:05:12.071837Z"
    },
    "tags": []
   },
   "outputs": [],
   "source": [
    "# e1 = remove_outliers(e1,threshold=1)"
   ]
  },
  {
   "cell_type": "code",
   "execution_count": null,
   "id": "0c220964-03c3-40c0-a67e-e304af74098b",
   "metadata": {
    "execution": {
     "iopub.status.busy": "2023-08-16T16:05:12.072274Z",
     "iopub.status.idle": "2023-08-16T16:05:12.072412Z",
     "shell.execute_reply": "2023-08-16T16:05:12.072348Z",
     "shell.execute_reply.started": "2023-08-16T16:05:12.072341Z"
    },
    "tags": []
   },
   "outputs": [],
   "source": [
    "# new_a1, new_a2 = trend_outliers(fin_e1,ini_e1)"
   ]
  },
  {
   "cell_type": "code",
   "execution_count": null,
   "id": "8d6dde25-0ce0-494e-9f32-fc2181d9a523",
   "metadata": {
    "execution": {
     "iopub.status.busy": "2023-08-16T16:05:12.072993Z",
     "iopub.status.idle": "2023-08-16T16:05:12.073135Z",
     "shell.execute_reply": "2023-08-16T16:05:12.073070Z",
     "shell.execute_reply.started": "2023-08-16T16:05:12.073063Z"
    },
    "tags": []
   },
   "outputs": [],
   "source": [
    "from scipy.stats import linregress\n",
    "\n",
    "result = linregress(ini_e1, fin_e1 )\n",
    "\n",
    "x = np.arange(-1,1.1,0.1)\n",
    "y = x*result.slope + result.intercept"
   ]
  },
  {
   "cell_type": "code",
   "execution_count": null,
   "id": "11560f77-e8c1-4c4d-bf10-2971bcef699c",
   "metadata": {
    "execution": {
     "iopub.status.busy": "2023-08-16T16:05:12.073721Z",
     "iopub.status.idle": "2023-08-16T16:05:12.073873Z",
     "shell.execute_reply": "2023-08-16T16:05:12.073804Z",
     "shell.execute_reply.started": "2023-08-16T16:05:12.073797Z"
    },
    "tags": []
   },
   "outputs": [],
   "source": [
    "result.slope, result.intercept"
   ]
  },
  {
   "cell_type": "code",
   "execution_count": null,
   "id": "247dd2de-5119-4c49-a2ce-4b02d6a8a7ce",
   "metadata": {
    "execution": {
     "iopub.status.busy": "2023-08-16T16:05:12.074268Z",
     "iopub.status.idle": "2023-08-16T16:05:12.074423Z",
     "shell.execute_reply": "2023-08-16T16:05:12.074345Z",
     "shell.execute_reply.started": "2023-08-16T16:05:12.074338Z"
    },
    "tags": []
   },
   "outputs": [],
   "source": [
    "plt.scatter(ini_e1,fin_e1)\n",
    "plt.plot(x,y)\n",
    "plt.xlabel('initial')\n",
    "plt.ylabel('observe')\n",
    "plt.title('e1')\n",
    "plt.text(-1,1,f'slope: {result.slope}')\n",
    "plt.text(-1,0.9,f'intercept: {result.intercept}')\n",
    "plt.savefig('image/e1.png')"
   ]
  },
  {
   "cell_type": "code",
   "execution_count": null,
   "id": "65cd19d0-ac23-439f-a3c4-c5ee32f618b8",
   "metadata": {
    "execution": {
     "iopub.status.busy": "2023-08-16T16:05:12.074914Z",
     "iopub.status.idle": "2023-08-16T16:05:12.075101Z",
     "shell.execute_reply": "2023-08-16T16:05:12.074991Z",
     "shell.execute_reply.started": "2023-08-16T16:05:12.074984Z"
    }
   },
   "outputs": [],
   "source": [
    "result = linregress(ini_e2, fin_e2 )\n",
    "\n",
    "x = np.arange(-1,1.1,0.1)\n",
    "y = x*result.slope + result.intercept\n",
    "\n",
    "plt.scatter(ini_e2,fin_e2)\n",
    "plt.plot(x,y)\n",
    "plt.xlabel('initial')\n",
    "plt.ylabel('observe')\n",
    "plt.title('e2')\n",
    "plt.text(-1,1,f'slope: {result.slope}')\n",
    "plt.text(-1,0.9,f'intercept: {result.intercept}')\n",
    "plt.savefig('image/e2.png')"
   ]
  },
  {
   "cell_type": "code",
   "execution_count": null,
   "id": "4123f88a-6eff-43fb-945f-04e979404621",
   "metadata": {
    "execution": {
     "iopub.status.busy": "2023-08-16T16:05:12.075613Z",
     "iopub.status.idle": "2023-08-16T16:05:12.075814Z",
     "shell.execute_reply": "2023-08-16T16:05:12.075717Z",
     "shell.execute_reply.started": "2023-08-16T16:05:12.075708Z"
    },
    "tags": []
   },
   "outputs": [],
   "source": [
    "result = linregress(ini_size, fin_size)\n",
    "print(result.slope, result.intercept)\n",
    "x = np.arange(0,12.1,0.1)\n",
    "y = x*result.slope + result.intercept\n",
    "plt.scatter(ini_size,fin_size)\n",
    "plt.plot(x,y)\n",
    "plt.xlabel('initial')\n",
    "plt.ylabel('observe')\n",
    "plt.text(0,11,f'slope: {result.slope}')\n",
    "plt.text(0,10.5,f'intercept: {result.intercept}')\n",
    "plt.title('Size')\n",
    "plt.savefig('image/size.png')"
   ]
  },
  {
   "cell_type": "code",
   "execution_count": null,
   "id": "62c980b9-c4a9-4017-89e9-454566c32e0f",
   "metadata": {
    "execution": {
     "iopub.status.busy": "2023-08-16T16:05:12.076342Z",
     "iopub.status.idle": "2023-08-16T16:05:12.076486Z",
     "shell.execute_reply": "2023-08-16T16:05:12.076420Z",
     "shell.execute_reply.started": "2023-08-16T16:05:12.076413Z"
    }
   },
   "outputs": [],
   "source": [
    "result.intercept/(1-result.slope)"
   ]
  },
  {
   "cell_type": "code",
   "execution_count": null,
   "id": "5f936612-131a-45c7-8bbf-73504333c4e7",
   "metadata": {
    "execution": {
     "iopub.status.busy": "2023-08-16T16:05:12.077097Z",
     "iopub.status.idle": "2023-08-16T16:05:12.077243Z",
     "shell.execute_reply": "2023-08-16T16:05:12.077175Z",
     "shell.execute_reply.started": "2023-08-16T16:05:12.077168Z"
    },
    "tags": []
   },
   "outputs": [],
   "source": [
    "# x = np.arange(e1.shape[0])\n",
    "# plt.scatter(x,e1)\n",
    "plt.hist(e1, range=(0,300), bins = 30)\n",
    "# plt.xticks([0,5,10,15,20,40,45,50,55,60,70,75])\n",
    "plt.xlabel('difference (%)')\n",
    "plt.ylabel('counts')\n",
    "plt.title('e1')\n",
    "plt.savefig('image/histo_e1.png')"
   ]
  },
  {
   "cell_type": "code",
   "execution_count": null,
   "id": "5246f6d1-9dcf-40df-955b-a4b60db79604",
   "metadata": {
    "tags": []
   },
   "outputs": [],
   "source": []
  },
  {
   "cell_type": "code",
   "execution_count": null,
   "id": "03338bbd-cfbe-4f7c-b737-4907368b3c03",
   "metadata": {
    "execution": {
     "iopub.status.busy": "2023-08-16T16:05:12.077704Z",
     "iopub.status.idle": "2023-08-16T16:05:12.077923Z",
     "shell.execute_reply": "2023-08-16T16:05:12.077852Z",
     "shell.execute_reply.started": "2023-08-16T16:05:12.077844Z"
    },
    "tags": []
   },
   "outputs": [],
   "source": [
    "plt.hist(e2, range=(0,300), bins = 30)\n",
    "# plt.xticks([0,5,10,15,20,40,45,50,55,60,70,75])\n",
    "plt.xlabel('difference (%)')\n",
    "plt.ylabel('counts')\n",
    "plt.title('e2')\n",
    "plt.savefig('image/histo_e2.png')"
   ]
  },
  {
   "cell_type": "code",
   "execution_count": null,
   "id": "3fb8a531-4d4b-4ba2-ac3b-58adad0ea489",
   "metadata": {
    "execution": {
     "iopub.status.busy": "2023-08-16T16:05:12.078425Z",
     "iopub.status.idle": "2023-08-16T16:05:12.078568Z",
     "shell.execute_reply": "2023-08-16T16:05:12.078502Z",
     "shell.execute_reply.started": "2023-08-16T16:05:12.078494Z"
    },
    "tags": []
   },
   "outputs": [],
   "source": [
    "plt.hist2d(e1,e2,range=((0,100),(0,100)),bins=10)\n",
    "plt.colorbar()"
   ]
  },
  {
   "cell_type": "markdown",
   "id": "10bbb1ba-20c2-416f-b86c-4da11d64e2ea",
   "metadata": {},
   "source": [
    "# Multiple objects"
   ]
  },
  {
   "cell_type": "code",
   "execution_count": null,
   "id": "6a1dd3dd-c70f-48cf-9b04-a1c5f3716b7a",
   "metadata": {
    "execution": {
     "iopub.status.busy": "2023-08-16T16:05:12.078991Z",
     "iopub.status.idle": "2023-08-16T16:05:12.079133Z",
     "shell.execute_reply": "2023-08-16T16:05:12.079067Z",
     "shell.execute_reply.started": "2023-08-16T16:05:12.079060Z"
    },
    "tags": []
   },
   "outputs": [],
   "source": [
    "nobj = 100\n",
    "\n",
    "bandpass = roman_filters['Y106']\n",
    "\n",
    "psf = roman.getPSF(use_SCA, 'Y106', n_waves=10, wcs=wcs, pupil_bin=8)\n",
    "\n",
    "# Set up the full image for the galaxies\n",
    "full_image = galsim.ImageF(roman.n_pix, roman.n_pix, wcs=wcs)\n",
    "\n",
    "# image_rng = galsim.UniformDeviate(seed1 + nobj)\n",
    "\n",
    "for i_obj in range(nobj):\n",
    "    \n",
    "    obj_rng = galsim.UniformDeviate(seed + 1 + 10**6 + i_obj)\n",
    "\n",
    "    p = obj_rng()\n",
    "\n",
    "    x = obj_rng() * roman.n_pix\n",
    "    y = obj_rng() * roman.n_pix\n",
    "    image_pos = galsim.PositionD(x,y)\n",
    "    logger.debug('Position = %s',image_pos)\n",
    "\n",
    "    # Now decide which of our three kinds of objects we want to draw:\n",
    "    # 80% faint galaxy\n",
    "    # 10% star\n",
    "    # 10% bright galaxy\n",
    "    if p < 0.9:\n",
    "        # Faint galaxy\n",
    "        logger.debug('Faint galaxy')\n",
    "\n",
    "        # Select a random galaxy from the catalog.\n",
    "        obj = cat1.makeGalaxy(chromatic=True, gal_type='parametric', rng=obj_rng)\n",
    "        print(obj.index)\n",
    "        # # Rotate the galaxy randomly\n",
    "        # theta = obj_rng() * 2 * np.pi * galsim.radians\n",
    "        # logger.debug('theta = %s',theta)\n",
    "        # obj = obj.rotate(theta)\n",
    "\n",
    "    else:\n",
    "        # Bright galaxy\n",
    "        logger.debug('Bright galaxy')\n",
    "\n",
    "        obj = cat2.makeGalaxy(chromatic=True, gal_type='parametric', rng=obj_rng)\n",
    "        print(obj.index)\n",
    "        # Scale up the area by a factor of 2, and the flux by a factor of 4.\n",
    "        # This is not necessarily physical, but it is intended to add some more big,\n",
    "        # bright galaxies to the scene to make the final image a bit more interesting.\n",
    "#         obj = obj.dilate(2) * 4\n",
    "\n",
    "#         # Rotate the galaxy randomly\n",
    "#         theta = obj_rng() * 2 * np.pi * galsim.radians\n",
    "#         logger.debug('theta = %s',theta)\n",
    "#         obj = obj.rotate(theta)\n",
    "\n",
    "    # Convolve the (chromatic) object with the (chromatic) PSF.\n",
    "    final = galsim.Convolve(obj, psf)\n",
    "    stamp = final.drawImage(bandpass, center=image_pos, wcs=wcs.local(image_pos))\n",
    "\n",
    "    # Find the overlapping bounds between the large image and the individual stamp.\n",
    "    bounds = stamp.bounds & full_image.bounds\n",
    "\n",
    "    # Add this to the corresponding location in the large image.\n",
    "    full_image[bounds] += stamp[bounds]"
   ]
  },
  {
   "cell_type": "code",
   "execution_count": null,
   "id": "1df6d716-0e9f-4ac8-8263-6da2cf604edd",
   "metadata": {
    "execution": {
     "iopub.status.busy": "2023-08-16T16:05:12.079632Z",
     "iopub.status.idle": "2023-08-16T16:05:12.079773Z",
     "shell.execute_reply": "2023-08-16T16:05:12.079708Z",
     "shell.execute_reply.started": "2023-08-16T16:05:12.079701Z"
    },
    "tags": []
   },
   "outputs": [],
   "source": [
    "full_image"
   ]
  },
  {
   "cell_type": "code",
   "execution_count": null,
   "id": "ae2c2d31-0d92-4cc3-a73e-4879d264ba0d",
   "metadata": {
    "execution": {
     "iopub.status.busy": "2023-08-16T16:05:12.080201Z",
     "iopub.status.idle": "2023-08-16T16:05:12.080341Z",
     "shell.execute_reply": "2023-08-16T16:05:12.080276Z",
     "shell.execute_reply.started": "2023-08-16T16:05:12.080269Z"
    },
    "tags": []
   },
   "outputs": [],
   "source": [
    "data=fits.open(\"output/demo13_Z087.fits\")\n",
    "data=data[0].data\n",
    "\n",
    "m, s = np.mean(data), np.std(data)\n",
    "plt.imshow(data, interpolation='nearest', cmap='gray', vmin=m-s, vmax=m+s, origin='lower')\n",
    "plt.colorbar();"
   ]
  },
  {
   "cell_type": "code",
   "execution_count": null,
   "id": "05e6d92c-3048-43cd-9605-d39c42d75235",
   "metadata": {
    "execution": {
     "iopub.status.busy": "2023-08-16T16:05:12.080799Z",
     "iopub.status.idle": "2023-08-16T16:05:12.080937Z",
     "shell.execute_reply": "2023-08-16T16:05:12.080873Z",
     "shell.execute_reply.started": "2023-08-16T16:05:12.080866Z"
    },
    "tags": []
   },
   "outputs": [],
   "source": [
    "import sep\n",
    "\n",
    "data = data.byteswap(inplace=True).newbyteorder()\n",
    "bkg = sep.Background(data)\n",
    "bkg_image = bkg.back()\n",
    "bkg_rms = bkg.rms()\n",
    "data_sub = data - bkg\n",
    "objects = sep.extract(data_sub, 1.5, err=bkg.globalrms)\n",
    "len(objects)"
   ]
  },
  {
   "cell_type": "code",
   "execution_count": null,
   "id": "2999eb11-86c4-4960-9115-31ed35502b58",
   "metadata": {
    "execution": {
     "iopub.status.busy": "2023-08-16T16:05:12.081358Z",
     "iopub.status.idle": "2023-08-16T16:05:12.081500Z",
     "shell.execute_reply": "2023-08-16T16:05:12.081437Z",
     "shell.execute_reply.started": "2023-08-16T16:05:12.081430Z"
    },
    "tags": []
   },
   "outputs": [],
   "source": [
    "from matplotlib.patches import Ellipse\n",
    "\n",
    "# plot background-subtracted image\n",
    "fig, ax = plt.subplots()\n",
    "m, s = np.mean(data_sub), np.std(data_sub)\n",
    "im = ax.imshow(data_sub, interpolation='nearest', cmap='gray',\n",
    "               vmin=m-s, vmax=m+s, origin='lower')\n",
    "\n",
    "# plot an ellipse for each object\n",
    "for i in range(len(objects)):\n",
    "    e = Ellipse(xy=(objects['x'][i], objects['y'][i]),\n",
    "                width=6*objects['a'][i],\n",
    "                height=6*objects['b'][i],\n",
    "                angle=objects['theta'][i] * 180. / np.pi)\n",
    "    e.set_facecolor('none')\n",
    "    e.set_edgecolor('red')\n",
    "    ax.add_artist(e)"
   ]
  },
  {
   "cell_type": "code",
   "execution_count": null,
   "id": "a11aade3-e256-40b9-8206-2b327fef1026",
   "metadata": {},
   "outputs": [],
   "source": []
  }
 ],
 "metadata": {
  "kernelspec": {
   "display_name": "Python 3 (ipykernel)",
   "language": "python",
   "name": "python3"
  },
  "language_info": {
   "codemirror_mode": {
    "name": "ipython",
    "version": 3
   },
   "file_extension": ".py",
   "mimetype": "text/x-python",
   "name": "python",
   "nbconvert_exporter": "python",
   "pygments_lexer": "ipython3",
   "version": "3.11.4"
  }
 },
 "nbformat": 4,
 "nbformat_minor": 5
}
