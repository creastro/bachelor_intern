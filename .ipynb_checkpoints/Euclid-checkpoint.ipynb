{
 "cells": [
  {
   "cell_type": "code",
   "execution_count": 1,
   "id": "32889966-301f-45aa-894f-640f90c4da2e",
   "metadata": {
    "execution": {
     "iopub.execute_input": "2023-08-21T09:38:24.559475Z",
     "iopub.status.busy": "2023-08-21T09:38:24.558964Z",
     "iopub.status.idle": "2023-08-21T09:38:25.225417Z",
     "shell.execute_reply": "2023-08-21T09:38:25.224901Z",
     "shell.execute_reply.started": "2023-08-21T09:38:24.559436Z"
    },
    "tags": []
   },
   "outputs": [],
   "source": [
    "import argparse\n",
    "import random\n",
    "import numpy as np\n",
    "import sys, os\n",
    "import logging\n",
    "import galsim\n",
    "import galsim.roman as roman\n",
    "import matplotlib.pyplot as plt\n",
    "from astropy.io import fits\n",
    "from astropy.visualization import make_lupton_rgb"
   ]
  },
  {
   "cell_type": "code",
   "execution_count": 2,
   "id": "bfe5d1f3-d15a-43ba-a564-6b188857274f",
   "metadata": {
    "execution": {
     "iopub.execute_input": "2023-08-21T09:38:25.226387Z",
     "iopub.status.busy": "2023-08-21T09:38:25.226216Z",
     "iopub.status.idle": "2023-08-21T09:38:25.229235Z",
     "shell.execute_reply": "2023-08-21T09:38:25.228856Z",
     "shell.execute_reply.started": "2023-08-21T09:38:25.226366Z"
    },
    "tags": []
   },
   "outputs": [],
   "source": [
    "logging.basicConfig(format=\"%(message)s\", stream=sys.stdout)\n",
    "logger = logging.getLogger(\"demo13\")\n",
    "logging_levels = { 0: logging.CRITICAL,\n",
    "                   1: logging.WARNING,\n",
    "                   2: logging.INFO,\n",
    "                   3: logging.DEBUG }"
   ]
  },
  {
   "cell_type": "code",
   "execution_count": 3,
   "id": "2ecae328-9778-4157-9c21-4fb3b498ca2f",
   "metadata": {
    "execution": {
     "iopub.execute_input": "2023-08-21T09:38:25.337876Z",
     "iopub.status.busy": "2023-08-21T09:38:25.337651Z",
     "iopub.status.idle": "2023-08-21T09:38:25.390842Z",
     "shell.execute_reply": "2023-08-21T09:38:25.390379Z",
     "shell.execute_reply.started": "2023-08-21T09:38:25.337861Z"
    },
    "tags": []
   },
   "outputs": [],
   "source": [
    "# cat1 = galsim.COSMOSCatalog(sample='25.2', area=roman.collecting_area, exptime=roman.exptime)\n",
    "# cat2 = galsim.COSMOSCatalog(sample='23.5', area=roman.collecting_area, exptime=roman.exptime)\n",
    "\n",
    "# cat1 = galsim.COSMOSCatalog(sample='25.2', area=9900, exptime=565)\n",
    "cat = galsim.COSMOSCatalog(sample='23.5', area=roman.collecting_area, exptime=roman.exptime)"
   ]
  },
  {
   "cell_type": "code",
   "execution_count": 4,
   "id": "a5bad829-3682-4338-aeb0-4b39caab771e",
   "metadata": {
    "execution": {
     "iopub.execute_input": "2023-08-21T09:38:25.584676Z",
     "iopub.status.busy": "2023-08-21T09:38:25.584045Z",
     "iopub.status.idle": "2023-08-21T09:38:25.827194Z",
     "shell.execute_reply": "2023-08-21T09:38:25.826587Z",
     "shell.execute_reply.started": "2023-08-21T09:38:25.584652Z"
    },
    "tags": []
   },
   "outputs": [],
   "source": [
    "#Euclid's filter\n",
    "\n",
    "datapath = galsim.meta_data.share_dir\n",
    "filter_filename = os.path.join(datapath, 'bandpasses/euclid.dat')\n",
    "bandpass = galsim.Bandpass(filter_filename, wave_type='Angstrom')"
   ]
  },
  {
   "cell_type": "markdown",
   "id": "e995c40c-0a3b-4004-bc76-5ae29a942f30",
   "metadata": {},
   "source": [
    "# PSF"
   ]
  },
  {
   "cell_type": "code",
   "execution_count": 5,
   "id": "1cf60dfe-eb62-427c-bb29-ecb423c8f5b9",
   "metadata": {
    "execution": {
     "iopub.execute_input": "2023-08-21T09:38:26.166755Z",
     "iopub.status.busy": "2023-08-21T09:38:26.166452Z",
     "iopub.status.idle": "2023-08-21T09:38:26.169090Z",
     "shell.execute_reply": "2023-08-21T09:38:26.168761Z",
     "shell.execute_reply.started": "2023-08-21T09:38:26.166741Z"
    },
    "tags": []
   },
   "outputs": [],
   "source": [
    "use_SCA = 7"
   ]
  },
  {
   "cell_type": "code",
   "execution_count": 6,
   "id": "04ad4dbf-d8ec-4f61-b628-53d05ebf6d17",
   "metadata": {
    "execution": {
     "iopub.execute_input": "2023-08-21T09:38:26.417140Z",
     "iopub.status.busy": "2023-08-21T09:38:26.416906Z",
     "iopub.status.idle": "2023-08-21T09:38:26.431087Z",
     "shell.execute_reply": "2023-08-21T09:38:26.430608Z",
     "shell.execute_reply.started": "2023-08-21T09:38:26.417121Z"
    },
    "tags": []
   },
   "outputs": [],
   "source": [
    "import numpy as np\n",
    "import os\n",
    "from galsim.utilities import LRU_Cache\n",
    "\n",
    "\"\"\"\n",
    "@file roman_psfs.py\n",
    "\n",
    "Part of the Roman Space Telescope module.  This file includes routines needed to define a realistic\n",
    "PSF for Roman.\n",
    "\"\"\"\n",
    "\n",
    "# Define a default set of bandpasses for which this routine works.\n",
    "default_bandpass_list = ['J129', 'F184', 'W149', 'Y106', 'Z087', 'H158']\n",
    "# Prefix for files containing information about Zernikes for each SCA for cycle 7.\n",
    "zemax_filepref = \"Roman_Phase-A_SRR_WFC_Zernike_and_Field_Data_170727\"\n",
    "zemax_filesuff = '.txt'\n",
    "zemax_wavelength = 1293. #nm\n",
    "\n",
    "# These need 'SCA*' prepended to the start to get the file name, and they live in\n",
    "# the share/roman directory.\n",
    "pupil_plane_file_longwave = '_full_mask.fits.gz'\n",
    "pupil_plane_file_shortwave = '_rim_mask.fits.gz'\n",
    "\n",
    "def __make_aperture(SCA, pupil_plane_type, pupil_bin, wave, gsparams):\n",
    "    from galsim.roman import diameter, obscuration\n",
    "    from galsim import fits\n",
    "    from galsim import meta_data\n",
    "    from galsim.phase_psf import Aperture\n",
    "\n",
    "    # Load the pupil plane image.\n",
    "    if pupil_plane_type == 'long':\n",
    "        pupil_plane_im = os.path.join(meta_data.share_dir, 'roman',\n",
    "            'SCA%d'%SCA + pupil_plane_file_longwave)\n",
    "    else:\n",
    "        pupil_plane_im = os.path.join(meta_data.share_dir, 'roman',\n",
    "            'SCA%d'%SCA + pupil_plane_file_shortwave)\n",
    "    pupil_plane_im = fits.read(pupil_plane_im, read_header=True)\n",
    "    # Native pixel scale in the file is for the exit pupil.  We want the scale of the\n",
    "    # entrance pupil.  Fortunately, they provide the conversion as PUPILMAG in the header.\n",
    "    # They also use microns for units, and we want meters, hence the extra 1.e-6.\n",
    "    pupil_plane_im.scale *= pupil_plane_im.header['PUPILMAG'] * 1.e-6\n",
    "\n",
    "    pupil_plane_im = pupil_plane_im.bin(pupil_bin,pupil_bin)\n",
    "    \n",
    "    # diameter = 1.3\n",
    "    aper = Aperture(lam=wave, diam=diameter,\n",
    "                    obscuration=obscuration,\n",
    "                    pupil_plane_im=pupil_plane_im,\n",
    "                    gsparams=gsparams)\n",
    "    return aper\n",
    "\n",
    "# Usually a given run will only need one or a few different apertures for repeated getPSF calls.\n",
    "# So cache those apertures here to avoid having to remake them.\n",
    "_make_aperture = LRU_Cache(__make_aperture)\n",
    "\n",
    "def _get_single_PSF(SCA, bandpass, SCA_pos, pupil_bin,\n",
    "                    n_waves, extra_aberrations, wavelength,\n",
    "                    pupil_plane_type, gsparams):\n",
    "    \"\"\"Routine for making a single PSF.  This gets called by `getPSF` after it parses all the\n",
    "       options that were passed in.  Users will not directly interact with this routine.\n",
    "    \"\"\"\n",
    "    from galsim import OpticalPSF, ChromaticOpticalPSF\n",
    "    from galsim.roman import diameter\n",
    "    from galsim.bandpass import Bandpass\n",
    "\n",
    "    if wavelength is None:\n",
    "        wave = zemax_wavelength\n",
    "    elif isinstance(wavelength, Bandpass):\n",
    "        wave = wavelength = wavelength.effective_wavelength\n",
    "    else:\n",
    "        wave = wavelength\n",
    "\n",
    "    # All parameters relevant to the aperture.  We may be able to use a cached version.\n",
    "    aper = _make_aperture(SCA, pupil_plane_type, pupil_bin, wave, gsparams)\n",
    "\n",
    "    # Start reading in the aberrations for that SCA\n",
    "    aberrations, x_pos, y_pos = _read_aberrations(SCA)\n",
    "    # Do bilinear interpolation, unless we're exactly at the center (default).\n",
    "    use_aberrations = _interp_aberrations_bilinear(aberrations, x_pos, y_pos, SCA_pos)\n",
    "\n",
    "    if extra_aberrations is not None:\n",
    "        use_aberrations[:len(extra_aberrations)] += extra_aberrations\n",
    "    # We don't want to use piston, tip, or tilt aberrations.  The former doesn't affect the\n",
    "    # appearance of the PSF, and the latter cause centroid shifts.  So, we set the first 4\n",
    "    # numbers (corresponding to a place-holder, piston, tip, and tilt) to zero.\n",
    "    use_aberrations[0:4] = 0.\n",
    "    \n",
    "    # Now set up the PSF, including the option to interpolate over waves\n",
    "    \n",
    "    # diameter = 1.3\n",
    "    if wavelength is None:\n",
    "        PSF = ChromaticOpticalPSF(lam=zemax_wavelength,\n",
    "                                  diam=diameter, aberrations=use_aberrations,\n",
    "                                  aper=aper, gsparams=gsparams)\n",
    "        if n_waves is not None:\n",
    "            # To decide the range of wavelengths to use, check the bandpass.\n",
    "            bp = bandpass\n",
    "            PSF = PSF.interpolate(waves=np.linspace(bp.blue_limit, bp.red_limit, n_waves),\n",
    "                                  oversample_fac=1.5)\n",
    "    else:\n",
    "        tmp_aberrations = use_aberrations * zemax_wavelength / wavelength\n",
    "        PSF = OpticalPSF(lam=wavelength, diam=diameter,\n",
    "                         aberrations=tmp_aberrations,\n",
    "                         aper=aper, gsparams=gsparams)\n",
    "\n",
    "    return PSF\n",
    "def _read_aberrations(SCA):\n",
    "    \"\"\"\n",
    "    This is a helper routine that reads in aberrations for a particular SCA and wavelength (given as\n",
    "    galsim.roman.roman_psfs.zemax_wavelength) from stored files, and returns them along with the\n",
    "    field positions.\n",
    "\n",
    "    Parameters:\n",
    "        SCA:        The identifier for the SCA, from 1-18.\n",
    "\n",
    "    Returns:\n",
    "        NumPy arrays containing the aberrations, and x and y field positions.\n",
    "    \"\"\"\n",
    "    from galsim import meta_data\n",
    "    from galsim.roman import pixel_scale, n_pix, pixel_scale_mm\n",
    "\n",
    "    # Construct filename.\n",
    "    sca_str = '_%02d'%SCA\n",
    "    infile = os.path.join(meta_data.share_dir, 'roman',\n",
    "                          zemax_filepref + sca_str + zemax_filesuff)\n",
    "\n",
    "    # Read in data.\n",
    "    dat = np.loadtxt(infile)\n",
    "    # It actually has 5 field positions, not just 1, to allow us to make position-dependent PSFs\n",
    "    # within an SCA eventually.  Put it in the required format: an array of length (5 field\n",
    "    # positions, 23 Zernikes), with the first entry empty (Zernike polynomials are 1-indexed so we\n",
    "    # use entries 1-22).  The units are waves.\n",
    "    aberrations = np.zeros((5,23))\n",
    "    aberrations[:,1:] = dat[:,5:]\n",
    "    # Also get the field position.  The file gives it in mm with respect to the center, but we\n",
    "    # want it in pixels with respect to the corner. The pixel size of the detector is 0.01 mm/pixel\n",
    "    # The y-coordinates have the opposite signs to the corresponding WFI location, explained \n",
    "    # in the Roman file.\n",
    "\n",
    "    x_sca_pos = dat[:,1]/pixel_scale_mm + n_pix/2\n",
    "    y_sca_pos = n_pix/2 - dat[:,2]/pixel_scale_mm\n",
    "    return aberrations, x_sca_pos, y_sca_pos\n",
    "def _interp_aberrations_bilinear(aberrations, x_pos, y_pos, SCA_pos):\n",
    "    \"\"\"\n",
    "    This is a helper routine to do bilinear interpolation of aberrations defined at 4 field\n",
    "    positions: the four corners.  Note that we also have aberrations at the center position,\n",
    "    but these are generally quite close (within a few percent) of what would come from this bilinear\n",
    "    interpolation.  So for simplicity, we just do the bilinear interpolation.\n",
    "    \"\"\"\n",
    "    min_x = np.min(x_pos)\n",
    "    min_y = np.min(y_pos)\n",
    "    max_x = np.max(x_pos)\n",
    "    max_y = np.max(y_pos)\n",
    "    x_frac = (SCA_pos.x - min_x) / (max_x - min_x)\n",
    "    y_frac = (SCA_pos.y - min_y) / (max_y - min_y)\n",
    "    lower_x_lower_y_ab = aberrations[(x_pos==min_x) & (y_pos==min_y), :]\n",
    "    lower_x_upper_y_ab = aberrations[(x_pos==min_x) & (y_pos==max_y), :]\n",
    "    upper_x_lower_y_ab = aberrations[(x_pos==max_x) & (y_pos==min_y), :]\n",
    "    upper_x_upper_y_ab = aberrations[(x_pos==max_x) & (y_pos==max_y), :]\n",
    "    interp_ab = (1.0-x_frac)*(1.0-y_frac)*lower_x_lower_y_ab + \\\n",
    "        (1.0-x_frac)*y_frac*lower_x_upper_y_ab + \\\n",
    "        x_frac*(1.0-y_frac)*upper_x_lower_y_ab + \\\n",
    "        x_frac*y_frac*upper_x_upper_y_ab\n",
    "\n",
    "    return interp_ab.flatten()"
   ]
  },
  {
   "cell_type": "code",
   "execution_count": 7,
   "id": "0de2d6ab-fe58-4458-a2fa-0531216e057c",
   "metadata": {
    "execution": {
     "iopub.execute_input": "2023-08-21T09:38:26.650694Z",
     "iopub.status.busy": "2023-08-21T09:38:26.650410Z",
     "iopub.status.idle": "2023-08-21T09:38:26.814103Z",
     "shell.execute_reply": "2023-08-21T09:38:26.813580Z",
     "shell.execute_reply.started": "2023-08-21T09:38:26.650667Z"
    },
    "tags": []
   },
   "outputs": [],
   "source": [
    "n_pix = galsim.roman.n_pix\n",
    "# n_pix = 64\n",
    "psf = _get_single_PSF(SCA = use_SCA, bandpass = bandpass,SCA_pos=galsim.PositionD(n_pix/2,n_pix/2),\n",
    "                      pupil_bin=16, n_waves=10, extra_aberrations=None,\n",
    "                       wavelength=None, gsparams=None, pupil_plane_type = 'short')"
   ]
  },
  {
   "cell_type": "code",
   "execution_count": null,
   "id": "61be173b-0396-4e6c-af2e-ea36d0c59138",
   "metadata": {},
   "outputs": [],
   "source": []
  },
  {
   "cell_type": "code",
   "execution_count": 8,
   "id": "fe6e711c-fda4-4eb9-ac68-a683e5c86ad9",
   "metadata": {
    "execution": {
     "iopub.execute_input": "2023-08-21T09:38:28.216830Z",
     "iopub.status.busy": "2023-08-21T09:38:28.216623Z",
     "iopub.status.idle": "2023-08-21T09:38:29.518799Z",
     "shell.execute_reply": "2023-08-21T09:38:29.518329Z",
     "shell.execute_reply.started": "2023-08-21T09:38:28.216816Z"
    },
    "tags": []
   },
   "outputs": [],
   "source": [
    "i=200\n",
    "psf_sed = galsim.SED('1', wave_type='Angstrom', flux_type='flambda')\n",
    "psf_star = galsim.DeltaFunction()\n",
    "\n",
    "# Faint galaxy\n",
    "logger.debug('Faint galaxy')\n",
    "\n",
    "# Select a random galaxy from the catalog.\n",
    "obj = cat.makeGalaxy(chromatic=True, gal_type='parametric', index=i)\n",
    "logger.debug('galaxy index = %s',obj.index)\n",
    "# obj = obj.shear(e1 = 0.01,e2=0.01)\n",
    "\n",
    "\n",
    "# Convolve the (chromatic) object with the (chromatic) PSF.\n",
    "pixel_scale = roman.pixel_scale\n",
    "wcs = galsim.PixelScale(pixel_scale) \n",
    "im_obj = obj.drawImage(bandpass,nx=64,ny=64,wcs=wcs)\n",
    "final = galsim.Convolve(obj, psf)\n",
    "stamp = final.drawImage(bandpass, nx=64,ny=64, wcs = wcs)\n",
    "psf_img = galsim.Convolve([psf_star, psf]) * psf_sed.withFlux(1, bandpass)\n",
    "im_psf = psf_img.drawImage(bandpass,nx=64,ny=64,wcs=wcs)"
   ]
  },
  {
   "cell_type": "code",
   "execution_count": 9,
   "id": "2bbca8e1-2a78-4fc1-8db3-55466e75d2f4",
   "metadata": {
    "execution": {
     "iopub.execute_input": "2023-08-21T09:38:29.853249Z",
     "iopub.status.busy": "2023-08-21T09:38:29.852913Z",
     "iopub.status.idle": "2023-08-21T09:38:30.193821Z",
     "shell.execute_reply": "2023-08-21T09:38:30.193382Z",
     "shell.execute_reply.started": "2023-08-21T09:38:29.853223Z"
    },
    "tags": []
   },
   "outputs": [
    {
     "name": "stdout",
     "output_type": "stream",
     "text": [
      "- AdaptiveMom shapes:\n",
      "Mom: -0.20714826881885529 -0.015611286275088787 1.470071792602539 \n",
      "\n",
      "- EstimateShear shapes:\n",
      "Uncorr: -0.18498273193836212 0.017945675179362297 \n",
      "Corr: -0.2873646914958954 -0.038512542843818665 1.8937017917633057\n",
      "PSF shape: 0.01752064935863018 0.25110346078872675 0.7285587787628174\n"
     ]
    },
    {
     "data": {
      "text/plain": [
       "<matplotlib.colorbar.Colorbar at 0x7f5ee19d5f10>"
      ]
     },
     "execution_count": 9,
     "metadata": {},
     "output_type": "execute_result"
    },
    {
     "data": {
      "image/png": "[encoded data removed]",
      "text/plain": [
       "<Figure size 1500x1000 with 4 Axes>"
      ]
     },
     "metadata": {},
     "output_type": "display_data"
    }
   ],
   "source": [
    "fig, axs = plt.subplots(1,2,figsize=[15,10])\n",
    "\n",
    "im = axs[0].imshow(im_obj.array,cmap='gist_stern',origin='lower')\n",
    "axs[0].set_title('galaxy')\n",
    "fig.colorbar(im,ax=axs[0],shrink=0.5)\n",
    "s = galsim.hsm.FindAdaptiveMom(im_obj, round_moments = False )\n",
    "print(\"- AdaptiveMom shapes:\")\n",
    "print(\"Mom:\", s.observed_shape.e1, s.observed_shape.e2, s.moments_sigma, s.error_message.strip(\"\\n\"))\n",
    "print()\n",
    "\n",
    "im = axs[1].imshow(stamp.array,cmap='gist_stern',origin='lower')\n",
    "axs[1].set_title('convolved galaxy')\n",
    "s = galsim.hsm.EstimateShear(stamp, im_psf)\n",
    "print(\"- EstimateShear shapes:\")\n",
    "print(\"Uncorr:\", s.observed_shape.e1, s.observed_shape.e2, s.error_message.strip(\"\\n\"))\n",
    "print(\"Corr:\", s.corrected_e1, s.corrected_e2, s.moments_sigma)\n",
    "print(\"PSF shape:\", s.psf_shape.e1,s.psf_shape.e2, s.psf_sigma)\n",
    "fig.colorbar(im,ax=axs[1],shrink=0.5)\n",
    "\n",
    "# plt.savefig('image/2.png')\n"
   ]
  },
  {
   "cell_type": "code",
   "execution_count": 10,
   "id": "f7e4973a-6a55-48f4-a316-606724146dfd",
   "metadata": {
    "execution": {
     "iopub.execute_input": "2023-08-21T09:38:32.118815Z",
     "iopub.status.busy": "2023-08-21T09:38:32.118613Z",
     "iopub.status.idle": "2023-08-21T09:38:32.267130Z",
     "shell.execute_reply": "2023-08-21T09:38:32.266698Z",
     "shell.execute_reply.started": "2023-08-21T09:38:32.118803Z"
    },
    "tags": []
   },
   "outputs": [
    {
     "data": {
      "text/plain": [
       "<matplotlib.colorbar.Colorbar at 0x7f5ee181b310>"
      ]
     },
     "execution_count": 10,
     "metadata": {},
     "output_type": "execute_result"
    },
    {
     "data": {
      "image/png": "[encoded data removed]",
      "text/plain": [
       "<Figure size 640x480 with 2 Axes>"
      ]
     },
     "metadata": {},
     "output_type": "display_data"
    }
   ],
   "source": [
    "im = plt.imshow(im_psf.array,cmap='gist_stern',origin='lower')\n",
    "plt.title('psf')\n",
    "plt.colorbar()\n",
    "# plt.savefig('image/psf.png')"
   ]
  },
  {
   "cell_type": "markdown",
   "id": "8d184a72-8116-4f50-88a7-3ad2a4e3a2bb",
   "metadata": {},
   "source": [
    "# Create catalog"
   ]
  },
  {
   "cell_type": "code",
   "execution_count": 103,
   "id": "454b90d8-870f-43bb-8178-29e21f1c03d5",
   "metadata": {
    "execution": {
     "iopub.execute_input": "2023-08-18T13:46:49.609623Z",
     "iopub.status.busy": "2023-08-18T13:46:49.609195Z",
     "iopub.status.idle": "2023-08-18T13:49:52.260942Z",
     "shell.execute_reply": "2023-08-18T13:49:52.260450Z",
     "shell.execute_reply.started": "2023-08-18T13:46:49.609606Z"
    },
    "tags": []
   },
   "outputs": [],
   "source": [
    "nobj=1000\n",
    "i=0\n",
    "\n",
    "samples1=[]             # First sample\n",
    "samples2=[]             # \n",
    "\n",
    "in_shape1=[]            #storing shape of all galaxies in both two samples to check whether the avg shape = 0\n",
    "in_shape2=[]\n",
    "\n",
    "psf_sed = galsim.SED('1', wave_type='Angstrom', flux_type='flambda')\n",
    "psf_star = galsim.DeltaFunction()\n",
    "pixel_scale = roman.pixel_scale\n",
    "wcs = galsim.PixelScale(pixel_scale)\n",
    "psf_img = galsim.Convolve([psf_star, psf]) * psf_sed.withFlux(1, bandpass)\n",
    "im_psf = psf_img.drawImage(bandpass,nx=32,ny=32,wcs=wcs)\n",
    "\n",
    "while i < nobj:\n",
    "    a = random.randint(0, cat.nobjects-1)\n",
    "    angle = random.random()*2*np.pi*galsim.radians\n",
    "    \n",
    "    obj = cat.makeGalaxy(chromatic=True, gal_type='parametric', index=a)\n",
    "    obj = obj.rotate(angle)\n",
    "    \n",
    "    obj1 = obj.rotate(90*galsim.degrees)\n",
    "    \n",
    "    try:\n",
    "        im_obj = obj.drawImage(bandpass,nx=64,ny=64,wcs=wcs)\n",
    "        final = galsim.Convolve(obj, psf)\n",
    "        stamp = final.drawImage(bandpass, nx=64,ny=64, wcs = wcs)\n",
    "        s = galsim.hsm.EstimateShear(stamp, im_psf)\n",
    "        o = galsim.hsm.FindAdaptiveMom(im_obj, round_moments = False )\n",
    "        \n",
    "        im_obj1 = obj1.drawImage(bandpass,nx=64,ny=64,wcs=wcs)\n",
    "        final1 = galsim.Convolve(obj1, psf)\n",
    "        stamp1 = final.drawImage(bandpass, nx=64,ny=64, wcs = wcs)\n",
    "        s1 = galsim.hsm.EstimateShear(stamp1, im_psf)\n",
    "        o1 = galsim.hsm.FindAdaptiveMom(im_obj1, round_moments = False )\n",
    "        \n",
    "        # print(o.observed_shape.e1, o1.observed_shape.e1)\n",
    "        samples1.append(obj)\n",
    "        samples2.append(obj1)\n",
    "        i+=1\n",
    "        in_shape1.append([o.observed_shape.e1, o1.observed_shape.e1])\n",
    "        in_shape2.append([o.observed_shape.e2, o1.observed_shape.e2])\n",
    "        \n",
    "        # print(o.observed_shape.e1 + o1.observed_shape.e1, o.observed_shape.e2+o1.observed_shape.e2)\n",
    "        # print(o.observed_shape.g1 + o1.observed_shape.g1, o.observed_shape.g2+o1.observed_shape.g2)\n",
    "    except galsim.GalSimFFTSizeError:\n",
    "        pass\n",
    "    except galsim.GalSimHSMError:\n",
    "        pass\n",
    "    \n",
    "samples1 = np.asarray(samples1)\n",
    "samples2 = np.asarray(samples2)\n",
    "in_shape1 = np.asarray(in_shape1)\n",
    "in_shape2 = np.asarray(in_shape2)\n"
   ]
  },
  {
   "cell_type": "code",
   "execution_count": 52,
   "id": "c0325835-d372-4e9c-a81c-7b4f4c00d41d",
   "metadata": {
    "execution": {
     "iopub.execute_input": "2023-08-18T13:00:23.805478Z",
     "iopub.status.busy": "2023-08-18T13:00:23.805084Z",
     "iopub.status.idle": "2023-08-18T13:00:23.808461Z",
     "shell.execute_reply": "2023-08-18T13:00:23.808085Z",
     "shell.execute_reply.started": "2023-08-18T13:00:23.805460Z"
    },
    "tags": []
   },
   "outputs": [
    {
     "data": {
      "text/plain": [
       "(500, 1000)"
      ]
     },
     "execution_count": 52,
     "metadata": {},
     "output_type": "execute_result"
    }
   ],
   "source": [
    "samples1.size, in_shape1.size"
   ]
  },
  {
   "cell_type": "code",
   "execution_count": 53,
   "id": "93318755-5136-4196-99f9-3d62db7c1256",
   "metadata": {
    "execution": {
     "iopub.execute_input": "2023-08-18T13:00:25.051288Z",
     "iopub.status.busy": "2023-08-18T13:00:25.050994Z",
     "iopub.status.idle": "2023-08-18T13:00:25.054669Z",
     "shell.execute_reply": "2023-08-18T13:00:25.054202Z",
     "shell.execute_reply.started": "2023-08-18T13:00:25.051271Z"
    },
    "tags": []
   },
   "outputs": [
    {
     "data": {
      "text/plain": [
       "(3.871011419687487e-05, -1.6009551472956768e-06)"
      ]
     },
     "execution_count": 53,
     "metadata": {},
     "output_type": "execute_result"
    }
   ],
   "source": [
    "in_shape1.mean(), in_shape2.mean()"
   ]
  },
  {
   "cell_type": "markdown",
   "id": "55b263db-4609-4df2-a9db-3a5a18b795bb",
   "metadata": {},
   "source": [
    "# Simulation"
   ]
  },
  {
   "cell_type": "code",
   "execution_count": 106,
   "id": "5939fd5d-c5d2-4a14-8ab4-fbfa13d1d059",
   "metadata": {
    "execution": {
     "iopub.execute_input": "2023-08-18T13:52:34.270625Z",
     "iopub.status.busy": "2023-08-18T13:52:34.270304Z",
     "iopub.status.idle": "2023-08-18T13:52:52.425042Z",
     "shell.execute_reply": "2023-08-18T13:52:52.424585Z",
     "shell.execute_reply.started": "2023-08-18T13:52:34.270609Z"
    },
    "tags": []
   },
   "outputs": [],
   "source": [
    "shear = np.arange(-0.06,0.07,0.01)\n",
    "diff = []\n",
    "obs = []\n",
    "\n",
    "for ashear in shear:\n",
    "    nobj = 500\n",
    "    i=0\n",
    "\n",
    "    samples=[]\n",
    "    while i < nobj:\n",
    "        a = random.randint(0, samples1.size-1)\n",
    "        obj = samples1[a]\n",
    "        obj1 = samples2[a]\n",
    "\n",
    "        obj = obj.shear(g1 = ashear)\n",
    "        obj1 = obj1.shear(g1 = ashear)\n",
    "\n",
    "        # im_obj = obj.drawImage(bandpass,nx=64,ny=64,wcs=wcs)\n",
    "        # o = galsim.hsm.FindAdaptiveMom(im_obj, round_moments = False )\n",
    "        # im_obj1 = obj1.drawImage(bandpass,nx=64,ny=64,wcs=wcs)\n",
    "        # o1 = galsim.hsm.FindAdaptiveMom(im_obj1, round_moments = False )\n",
    "        # print(o.observed_shape.e1, o1.observed_shape.e1)\n",
    "\n",
    "        i+=2\n",
    "\n",
    "        samples.append(obj)\n",
    "        samples.append(obj1)\n",
    "\n",
    "    samples = np.asarray(samples)\n",
    "    random.shuffle(samples)\n",
    "    \n",
    "    e1 = []\n",
    "    # e2 = []\n",
    "    for i in range(samples.size):\n",
    "        obj = samples[i]\n",
    "        final = galsim.Convolve(obj, psf)\n",
    "        stamp = final.drawImage(bandpass, nx=64,ny=64, wcs = wcs)\n",
    "        s = galsim.hsm.EstimateShear(stamp, im_psf)\n",
    "        # print(s.observed_shape.e1)\n",
    "        e1.append(s.corrected_e1)\n",
    "        # e2.append(s.observed_shape.e2)\n",
    "\n",
    "    e1 = np.asarray(e1)\n",
    "    val = e1.mean()/2 - ashear\n",
    "    diff.append(val)\n",
    "    obs.append(e1.mean()/2)\n",
    "    # e2 = np.asarray(e2)\n",
    "    \n",
    "diff = np.asarray(diff)\n",
    "obs = np.asarray(obs)"
   ]
  },
  {
   "cell_type": "code",
   "execution_count": 110,
   "id": "b33f0476-2431-4f39-8884-1701f5f0e9f9",
   "metadata": {
    "execution": {
     "iopub.execute_input": "2023-08-18T13:55:33.884956Z",
     "iopub.status.busy": "2023-08-18T13:55:33.884706Z",
     "iopub.status.idle": "2023-08-18T13:55:33.888882Z",
     "shell.execute_reply": "2023-08-18T13:55:33.888556Z",
     "shell.execute_reply.started": "2023-08-18T13:55:33.884943Z"
    }
   },
   "outputs": [
    {
     "data": {
      "text/plain": [
       "array([-5.28007187e-02, -4.28873976e-02, -3.51834149e-02, -2.61124152e-02,\n",
       "       -1.72661795e-02, -8.51044146e-03, -5.87984687e-09,  8.59633470e-03,\n",
       "        1.72363932e-02,  2.63431788e-02,  3.47874673e-02,  4.34911415e-02,\n",
       "        5.08865064e-02])"
      ]
     },
     "execution_count": 110,
     "metadata": {},
     "output_type": "execute_result"
    }
   ],
   "source": [
    "obs"
   ]
  },
  {
   "cell_type": "code",
   "execution_count": 109,
   "id": "878c5db1-98a9-418a-b55e-6e3970da560f",
   "metadata": {
    "execution": {
     "iopub.execute_input": "2023-08-18T13:54:48.575979Z",
     "iopub.status.busy": "2023-08-18T13:54:48.575590Z",
     "iopub.status.idle": "2023-08-18T13:54:48.660692Z",
     "shell.execute_reply": "2023-08-18T13:54:48.660347Z",
     "shell.execute_reply.started": "2023-08-18T13:54:48.575963Z"
    },
    "tags": []
   },
   "outputs": [
    {
     "data": {
      "text/plain": [
       "Text(0, 0.5, 'e1_obs - e1_true')"
      ]
     },
     "execution_count": 109,
     "metadata": {},
     "output_type": "execute_result"
    },
    {
     "data": {
      "image/png": "[encoded data removed]",
      "text/plain": [
       "<Figure size 640x480 with 1 Axes>"
      ]
     },
     "metadata": {},
     "output_type": "display_data"
    }
   ],
   "source": [
    "plt.scatter(shear,obs)\n",
    "plt.xlabel('e1_true')\n",
    "plt.ylabel('e1_obs - e1_true')"
   ]
  },
  {
   "cell_type": "code",
   "execution_count": 125,
   "id": "c43b0c11-0c70-41b4-a307-2442c09ef505",
   "metadata": {
    "execution": {
     "iopub.execute_input": "2023-08-18T14:19:42.538858Z",
     "iopub.status.busy": "2023-08-18T14:19:42.538480Z",
     "iopub.status.idle": "2023-08-18T14:56:48.034942Z",
     "shell.execute_reply": "2023-08-18T14:56:48.034470Z",
     "shell.execute_reply.started": "2023-08-18T14:19:42.538844Z"
    },
    "tags": []
   },
   "outputs": [],
   "source": [
    "nobj=10000\n",
    "i=0\n",
    "\n",
    "samples1=[]             # First sample\n",
    "samples2=[]             # \n",
    "\n",
    "in_shape1=[]            #storing shape of all galaxies in both two samples to check whether the avg shape = 0\n",
    "in_shape2=[]\n",
    "\n",
    "psf = galsim.Gaussian(flux=1., sigma=0.7285587787628174) \n",
    "pixel_scale = roman.pixel_scale\n",
    "wcs = galsim.PixelScale(pixel_scale)\n",
    "im_psf = psf.drawImage(nx=32,ny=32,wcs=wcs)\n",
    "\n",
    "while i < nobj:\n",
    "    a = random.randint(0, cat.nobjects-1)\n",
    "    angle = random.random()*2*np.pi*galsim.radians\n",
    "    \n",
    "    # obj = galsim.Gaussian(flux=1e5, sigma=2.)\n",
    "    obj = cat.makeGalaxy(chromatic=False, gal_type='parametric', index=a)\n",
    "    obj = obj.rotate(angle)\n",
    "    \n",
    "    obj1 = obj.rotate(90*galsim.degrees)\n",
    "    \n",
    "    try:\n",
    "        im_obj = obj.drawImage(nx=64,ny=64,wcs=wcs)\n",
    "        final = galsim.Convolve(obj, psf)\n",
    "        stamp = final.drawImage(nx=64,ny=64, wcs = wcs)\n",
    "        s = galsim.hsm.EstimateShear(stamp, im_psf)\n",
    "        o = galsim.hsm.FindAdaptiveMom(im_obj, round_moments = False )\n",
    "        \n",
    "        im_obj1 = obj1.drawImage(nx=64,ny=64,wcs=wcs)\n",
    "        final1 = galsim.Convolve(obj1, psf)\n",
    "        stamp1 = final.drawImage(nx=64,ny=64, wcs = wcs)\n",
    "        s1 = galsim.hsm.EstimateShear(stamp1, im_psf)\n",
    "        o1 = galsim.hsm.FindAdaptiveMom(im_obj1, round_moments = False )\n",
    "        \n",
    "        # print(o.observed_shape.e1, o1.observed_shape.e1)\n",
    "        samples1.append(obj)\n",
    "        samples2.append(obj1)\n",
    "        i+=1\n",
    "        in_shape1.append([o.observed_shape.e1, o1.observed_shape.e1])\n",
    "        in_shape2.append([o.observed_shape.e2, o1.observed_shape.e2])\n",
    "        \n",
    "        # print(o.observed_shape.e1 + o1.observed_shape.e1, o.observed_shape.e2+o1.observed_shape.e2)\n",
    "        # print(o.observed_shape.g1 + o1.observed_shape.g1, o.observed_shape.g2+o1.observed_shape.g2)\n",
    "    except galsim.GalSimFFTSizeError:\n",
    "        pass\n",
    "    except galsim.GalSimHSMError:\n",
    "        pass\n",
    "    \n",
    "samples1 = np.asarray(samples1)\n",
    "samples2 = np.asarray(samples2)\n",
    "in_shape1 = np.asarray(in_shape1)\n",
    "in_shape2 = np.asarray(in_shape2)"
   ]
  },
  {
   "cell_type": "code",
   "execution_count": 112,
   "id": "7e309a13-ead1-461a-b7d8-c692d11f72ec",
   "metadata": {
    "execution": {
     "iopub.execute_input": "2023-08-18T14:01:30.630732Z",
     "iopub.status.busy": "2023-08-18T14:01:30.630223Z",
     "iopub.status.idle": "2023-08-18T14:01:30.633567Z",
     "shell.execute_reply": "2023-08-18T14:01:30.633188Z",
     "shell.execute_reply.started": "2023-08-18T14:01:30.630716Z"
    }
   },
   "outputs": [
    {
     "data": {
      "text/plain": [
       "4.01093841064718e-05"
      ]
     },
     "execution_count": 112,
     "metadata": {},
     "output_type": "execute_result"
    }
   ],
   "source": [
    "in_shape1.mean()"
   ]
  },
  {
   "cell_type": "code",
   "execution_count": 126,
   "id": "00d63234-0126-4916-ae3a-30bd4d6f2be4",
   "metadata": {
    "execution": {
     "iopub.execute_input": "2023-08-18T14:56:48.035858Z",
     "iopub.status.busy": "2023-08-18T14:56:48.035722Z",
     "iopub.status.idle": "2023-08-18T15:14:46.254186Z",
     "shell.execute_reply": "2023-08-18T15:14:46.253736Z",
     "shell.execute_reply.started": "2023-08-18T14:56:48.035845Z"
    },
    "tags": []
   },
   "outputs": [],
   "source": [
    "nobj = 10000\n",
    "i=0\n",
    "\n",
    "samples=[]\n",
    "while i < nobj:\n",
    "    a = random.randint(0, samples1.size-1)\n",
    "    obj = samples1[a]\n",
    "    obj1 = samples2[a]\n",
    "    \n",
    "    im_obj = obj.drawImage(nx=64,ny=64,wcs=wcs)\n",
    "    o = galsim.hsm.FindAdaptiveMom(im_obj, round_moments = False )\n",
    "\n",
    "    im_obj1 = obj1.drawImage(nx=64,ny=64,wcs=wcs)\n",
    "    o1 = galsim.hsm.FindAdaptiveMom(im_obj1, round_moments = False )\n",
    "\n",
    "    # print(o.observed_shape.e1, o1.observed_shape.e1)\n",
    "    \n",
    "    i+=2\n",
    "\n",
    "    samples.append(obj)\n",
    "    samples.append(obj1)\n",
    "\n",
    "samples = np.asarray(samples)"
   ]
  },
  {
   "cell_type": "code",
   "execution_count": 132,
   "id": "b81af507-22cd-48c4-8ad4-72ee669531a5",
   "metadata": {
    "execution": {
     "iopub.execute_input": "2023-08-18T15:29:37.116560Z",
     "iopub.status.busy": "2023-08-18T15:29:37.115164Z",
     "iopub.status.idle": "2023-08-18T15:29:37.123812Z",
     "shell.execute_reply": "2023-08-18T15:29:37.122525Z",
     "shell.execute_reply.started": "2023-08-18T15:29:37.116510Z"
    },
    "tags": []
   },
   "outputs": [
    {
     "data": {
      "text/plain": [
       "10000"
      ]
     },
     "execution_count": 132,
     "metadata": {},
     "output_type": "execute_result"
    }
   ],
   "source": [
    "samples.size"
   ]
  },
  {
   "cell_type": "code",
   "execution_count": 134,
   "id": "76abb916-bdbd-4908-bc69-70fb6037064f",
   "metadata": {
    "execution": {
     "iopub.execute_input": "2023-08-18T15:29:44.762928Z",
     "iopub.status.busy": "2023-08-18T15:29:44.762636Z",
     "iopub.status.idle": "2023-08-18T15:35:54.657100Z",
     "shell.execute_reply": "2023-08-18T15:35:54.656589Z",
     "shell.execute_reply.started": "2023-08-18T15:29:44.762910Z"
    },
    "tags": []
   },
   "outputs": [],
   "source": [
    "shear = np.arange(-0.1,0.1,0.01)\n",
    "diff = []\n",
    "obs = []\n",
    "\n",
    "for ashear in shear:\n",
    "    random.shuffle(samples)\n",
    "    \n",
    "    e1 = []\n",
    "    # e2 = []\n",
    "    for j in range(samples.size):\n",
    "        obj = samples[j]\n",
    "        obj = obj.shear(g1 = ashear)\n",
    "        final = galsim.Convolve(obj, psf)\n",
    "        stamp = final.drawImage(nx=64,ny=64, wcs = wcs)\n",
    "        s = galsim.hsm.EstimateShear(stamp, im_psf)\n",
    "        # print(s.observed_shape.e1)\n",
    "        e1.append(s.corrected_e1)\n",
    "        # e2.append(s.observed_shape.e2)\n",
    "\n",
    "    e1 = np.asarray(e1)\n",
    "    val = e1.mean()/2 - ashear\n",
    "    diff.append(val)\n",
    "    # e2 = np.asarray(e2)\n",
    "    obs.append(e1.mean()/2)\n",
    "obs = np.asarray(obs)\n",
    "diff = np.asarray(diff)"
   ]
  },
  {
   "cell_type": "code",
   "execution_count": 138,
   "id": "2d3050a6-e779-4afb-94c4-027ad4300ce2",
   "metadata": {
    "execution": {
     "iopub.execute_input": "2023-08-18T15:42:29.435182Z",
     "iopub.status.busy": "2023-08-18T15:42:29.434960Z",
     "iopub.status.idle": "2023-08-18T15:42:29.439320Z",
     "shell.execute_reply": "2023-08-18T15:42:29.438987Z",
     "shell.execute_reply.started": "2023-08-18T15:42:29.435166Z"
    },
    "tags": []
   },
   "outputs": [
    {
     "data": {
      "text/plain": [
       "(array([-8.56813378e-02, -7.71825379e-02, -6.86624221e-02, -6.01220675e-02,\n",
       "        -5.15647003e-02, -4.29930359e-02, -3.44094566e-02, -2.58154473e-02,\n",
       "        -1.72145126e-02, -8.60824324e-03, -6.10497336e-09,  8.60822981e-03,\n",
       "         1.72144996e-02,  2.58154340e-02,  3.44094438e-02,  4.29930223e-02,\n",
       "         5.15646874e-02,  6.01220541e-02,  6.86624090e-02,  7.71825246e-02]),\n",
       " array([-1.00000000e-01, -9.00000000e-02, -8.00000000e-02, -7.00000000e-02,\n",
       "        -6.00000000e-02, -5.00000000e-02, -4.00000000e-02, -3.00000000e-02,\n",
       "        -2.00000000e-02, -1.00000000e-02, -5.55111512e-17,  1.00000000e-02,\n",
       "         2.00000000e-02,  3.00000000e-02,  4.00000000e-02,  5.00000000e-02,\n",
       "         6.00000000e-02,  7.00000000e-02,  8.00000000e-02,  9.00000000e-02]))"
      ]
     },
     "execution_count": 138,
     "metadata": {},
     "output_type": "execute_result"
    }
   ],
   "source": [
    "obs, shear"
   ]
  },
  {
   "cell_type": "code",
   "execution_count": 137,
   "id": "41593961-89b2-4095-b757-ffa9e34a08e6",
   "metadata": {
    "execution": {
     "iopub.execute_input": "2023-08-18T15:41:13.740184Z",
     "iopub.status.busy": "2023-08-18T15:41:13.739851Z",
     "iopub.status.idle": "2023-08-18T15:41:13.845215Z",
     "shell.execute_reply": "2023-08-18T15:41:13.844816Z",
     "shell.execute_reply.started": "2023-08-18T15:41:13.740157Z"
    },
    "tags": []
   },
   "outputs": [
    {
     "data": {
      "text/plain": [
       "Text(0, 0.5, 'e1_obs - e1_true')"
      ]
     },
     "execution_count": 137,
     "metadata": {},
     "output_type": "execute_result"
    },
    {
     "data": {
      "image/png": "[encoded data removed]",
      "text/plain": [
       "<Figure size 640x480 with 1 Axes>"
      ]
     },
     "metadata": {},
     "output_type": "display_data"
    }
   ],
   "source": [
    "plt.scatter(shear,obs)\n",
    "plt.xlabel('e1_true')\n",
    "plt.ylabel('e1_obs - e1_true')"
   ]
  },
  {
   "cell_type": "code",
   "execution_count": null,
   "id": "26505aec-6fe7-46cb-8024-1414a05ced23",
   "metadata": {
    "tags": []
   },
   "outputs": [],
   "source": [
    "nobj=10\n",
    "\n",
    "ini_e1=[]\n",
    "fin_e1=[]\n",
    "ini_e2=[]\n",
    "fin_e2=[]\n",
    "ini_size=[]\n",
    "fin_size=[]\n",
    "e1=[]\n",
    "e2=[]\n",
    "index=[]\n",
    "\n",
    "samples = []\n",
    "\n",
    "psf_sed = galsim.SED('1', wave_type='Angstrom', flux_type='flambda')\n",
    "psf_star = galsim.DeltaFunction()\n",
    "pixel_scale = roman.pixel_scale\n",
    "wcs = galsim.PixelScale(pixel_scale) \n",
    "for i in range(nobj):\n",
    "    a = random.randint(0, cat.nobjects-1)\n",
    "    angle = random.random()*2*np.pi*galsim.radians\n",
    "    # print(a)\n",
    "    obj = cat.makeGalaxy(chromatic=True, gal_type='parametric', index=a)\n",
    "    obj = obj.rotate(angle)\n",
    "    try:\n",
    "        im_obj = obj.drawImage(bandpass,nx=64,ny=64,wcs=wcs)\n",
    "        final = galsim.Convolve(obj, psf)\n",
    "        stamp = final.drawImage(bandpass, nx=64,ny=64, wcs = wcs)\n",
    "        psf_img = galsim.Convolve([psf_star, psf]) * psf_sed.withFlux(1, bandpass)\n",
    "        im_psf = psf_img.drawImage(bandpass,nx=32,ny=32,wcs=wcs)\n",
    "        s = galsim.hsm.EstimateShear(stamp, im_psf)\n",
    "        o = galsim.hsm.FindAdaptiveMom(im_obj, round_moments = False )\n",
    "        # e1.append(100*abs(s.corrected_e1-o.observed_shape.e1)/abs(o.observed_shape.e1))\n",
    "        # ini_e1.append(o.observed_shape.e1)\n",
    "        # fin_e1.append(s.corrected_e1)\n",
    "        # ini_e2.append(o.observed_shape.e2)\n",
    "        # fin_e2.append(s.corrected_e2)\n",
    "        # ini_size.append(o.moments_sigma)\n",
    "        # fin_size.append(s.moments_sigma)\n",
    "        # e2.append(100*abs(s.corrected_e2-o.observed_shape.e2)/abs(o.observed_shape.e2))\n",
    "        # index.append(a)\n",
    "    except galsim.GalSimFFTSizeError:\n",
    "        pass\n",
    "    except galsim.GalSimHSMError:\n",
    "        pass\n",
    "\n",
    "    # print(obj.index,s.corrected_e1,o.observed_shape.e1)\n",
    "e1 = np.asarray(e1)\n",
    "e2 = np.asarray(e2)\n",
    "ini_e1 = np.asarray(ini_e1)\n",
    "fin_e1 = np.asarray(fin_e1)\n",
    "ini_e2 = np.asarray(ini_e2)\n",
    "fin_e2 = np.asarray(fin_e2)\n",
    "ini_size = np.asarray(ini_size)\n",
    "fin_size = np.asarray(fin_size)\n",
    "index = np.asarray(index)"
   ]
  },
  {
   "cell_type": "code",
   "execution_count": null,
   "id": "1ca06888-7914-4e13-8698-80451ca22b36",
   "metadata": {
    "execution": {
     "iopub.status.busy": "2023-08-16T16:05:12.068008Z",
     "iopub.status.idle": "2023-08-16T16:05:12.068174Z",
     "shell.execute_reply": "2023-08-16T16:05:12.068100Z",
     "shell.execute_reply.started": "2023-08-16T16:05:12.068091Z"
    },
    "tags": []
   },
   "outputs": [],
   "source": [
    "fin_e1.size, index.size"
   ]
  },
  {
   "cell_type": "code",
   "execution_count": null,
   "id": "42cbdbd7-9f7c-454d-b3d0-4ac411a4dc05",
   "metadata": {
    "execution": {
     "iopub.status.busy": "2023-08-16T16:05:12.069022Z",
     "iopub.status.idle": "2023-08-16T16:05:12.069181Z",
     "shell.execute_reply": "2023-08-16T16:05:12.069109Z",
     "shell.execute_reply.started": "2023-08-16T16:05:12.069101Z"
    },
    "tags": []
   },
   "outputs": [],
   "source": [
    "np.where(e1 > 10), np.where(e2 > 10)"
   ]
  },
  {
   "cell_type": "code",
   "execution_count": null,
   "id": "aae8c306-58e2-4380-a2ef-b530e37dbaa9",
   "metadata": {
    "execution": {
     "iopub.status.busy": "2023-08-16T16:05:12.069538Z",
     "iopub.status.idle": "2023-08-16T16:05:12.069679Z",
     "shell.execute_reply": "2023-08-16T16:05:12.069613Z",
     "shell.execute_reply.started": "2023-08-16T16:05:12.069606Z"
    },
    "tags": []
   },
   "outputs": [],
   "source": [
    "index[4], e1[4], ini_size[7], ini_e2[7]"
   ]
  },
  {
   "cell_type": "code",
   "execution_count": null,
   "id": "ab482e9c-350d-40b0-a6ef-6c31475b4a02",
   "metadata": {
    "execution": {
     "iopub.status.busy": "2023-08-16T16:05:12.070142Z",
     "iopub.status.idle": "2023-08-16T16:05:12.070297Z",
     "shell.execute_reply": "2023-08-16T16:05:12.070219Z",
     "shell.execute_reply.started": "2023-08-16T16:05:12.070212Z"
    },
    "tags": []
   },
   "outputs": [],
   "source": [
    "e2[8]"
   ]
  },
  {
   "cell_type": "code",
   "execution_count": null,
   "id": "41cca025-4ee9-4533-8383-89145d5de209",
   "metadata": {
    "execution": {
     "iopub.status.busy": "2023-08-16T16:05:12.071012Z",
     "iopub.status.idle": "2023-08-16T16:05:12.071212Z",
     "shell.execute_reply": "2023-08-16T16:05:12.071117Z",
     "shell.execute_reply.started": "2023-08-16T16:05:12.071107Z"
    },
    "tags": []
   },
   "outputs": [],
   "source": [
    "def remove_outliers(data_list, threshold=3):\n",
    "    \"\"\"\n",
    "    Remove outliers from a list of numbers using z-scores with NumPy.\n",
    "\n",
    "    Parameters:\n",
    "        data_list (list): List of numbers.\n",
    "        threshold (float): Z-score threshold for identifying outliers (default: 3).\n",
    "\n",
    "    Returns:\n",
    "        list: List with outliers removed.\n",
    "    \"\"\"\n",
    "    data_array = np.array(data_list)\n",
    "    z_scores = np.abs((data_array - np.mean(data_array)) / np.std(data_array))\n",
    "    filtered_data = data_array[z_scores <= threshold]\n",
    "    return np.asarray(filtered_data)\n",
    "\n",
    "def trend_outliers(array1, array2, threshold=3):\n",
    "    a = np.where(array1 > 1)\n",
    "    for i in a:\n",
    "        new_a1 = np.delete(array1,a)\n",
    "        new_a2 = np.delete(array2,a)\n",
    "        \n",
    "    return new_a1, new_a2"
   ]
  },
  {
   "cell_type": "code",
   "execution_count": null,
   "id": "38a40d4a-121b-44c7-83b2-6638d697647e",
   "metadata": {
    "execution": {
     "iopub.status.busy": "2023-08-16T16:05:12.071767Z",
     "iopub.status.idle": "2023-08-16T16:05:12.071910Z",
     "shell.execute_reply": "2023-08-16T16:05:12.071844Z",
     "shell.execute_reply.started": "2023-08-16T16:05:12.071837Z"
    },
    "tags": []
   },
   "outputs": [],
   "source": [
    "# e1 = remove_outliers(e1,threshold=1)"
   ]
  },
  {
   "cell_type": "code",
   "execution_count": null,
   "id": "0c220964-03c3-40c0-a67e-e304af74098b",
   "metadata": {
    "execution": {
     "iopub.status.busy": "2023-08-16T16:05:12.072274Z",
     "iopub.status.idle": "2023-08-16T16:05:12.072412Z",
     "shell.execute_reply": "2023-08-16T16:05:12.072348Z",
     "shell.execute_reply.started": "2023-08-16T16:05:12.072341Z"
    },
    "tags": []
   },
   "outputs": [],
   "source": [
    "# new_a1, new_a2 = trend_outliers(fin_e1,ini_e1)"
   ]
  },
  {
   "cell_type": "code",
   "execution_count": null,
   "id": "8d6dde25-0ce0-494e-9f32-fc2181d9a523",
   "metadata": {
    "execution": {
     "iopub.status.busy": "2023-08-16T16:05:12.072993Z",
     "iopub.status.idle": "2023-08-16T16:05:12.073135Z",
     "shell.execute_reply": "2023-08-16T16:05:12.073070Z",
     "shell.execute_reply.started": "2023-08-16T16:05:12.073063Z"
    },
    "tags": []
   },
   "outputs": [],
   "source": [
    "from scipy.stats import linregress\n",
    "\n",
    "result = linregress(ini_e1, fin_e1 )\n",
    "\n",
    "x = np.arange(-1,1.1,0.1)\n",
    "y = x*result.slope + result.intercept"
   ]
  },
  {
   "cell_type": "code",
   "execution_count": null,
   "id": "11560f77-e8c1-4c4d-bf10-2971bcef699c",
   "metadata": {
    "execution": {
     "iopub.status.busy": "2023-08-16T16:05:12.073721Z",
     "iopub.status.idle": "2023-08-16T16:05:12.073873Z",
     "shell.execute_reply": "2023-08-16T16:05:12.073804Z",
     "shell.execute_reply.started": "2023-08-16T16:05:12.073797Z"
    },
    "tags": []
   },
   "outputs": [],
   "source": [
    "result.slope, result.intercept"
   ]
  },
  {
   "cell_type": "code",
   "execution_count": null,
   "id": "247dd2de-5119-4c49-a2ce-4b02d6a8a7ce",
   "metadata": {
    "execution": {
     "iopub.status.busy": "2023-08-16T16:05:12.074268Z",
     "iopub.status.idle": "2023-08-16T16:05:12.074423Z",
     "shell.execute_reply": "2023-08-16T16:05:12.074345Z",
     "shell.execute_reply.started": "2023-08-16T16:05:12.074338Z"
    },
    "tags": []
   },
   "outputs": [],
   "source": [
    "plt.scatter(ini_e1,fin_e1)\n",
    "plt.plot(x,y)\n",
    "plt.xlabel('initial')\n",
    "plt.ylabel('observe')\n",
    "plt.title('e1')\n",
    "plt.text(-1,1,f'slope: {result.slope}')\n",
    "plt.text(-1,0.9,f'intercept: {result.intercept}')\n",
    "plt.savefig('image/e1.png')"
   ]
  },
  {
   "cell_type": "code",
   "execution_count": null,
   "id": "65cd19d0-ac23-439f-a3c4-c5ee32f618b8",
   "metadata": {
    "execution": {
     "iopub.status.busy": "2023-08-16T16:05:12.074914Z",
     "iopub.status.idle": "2023-08-16T16:05:12.075101Z",
     "shell.execute_reply": "2023-08-16T16:05:12.074991Z",
     "shell.execute_reply.started": "2023-08-16T16:05:12.074984Z"
    }
   },
   "outputs": [],
   "source": [
    "result = linregress(ini_e2, fin_e2 )\n",
    "\n",
    "x = np.arange(-1,1.1,0.1)\n",
    "y = x*result.slope + result.intercept\n",
    "\n",
    "plt.scatter(ini_e2,fin_e2)\n",
    "plt.plot(x,y)\n",
    "plt.xlabel('initial')\n",
    "plt.ylabel('observe')\n",
    "plt.title('e2')\n",
    "plt.text(-1,1,f'slope: {result.slope}')\n",
    "plt.text(-1,0.9,f'intercept: {result.intercept}')\n",
    "plt.savefig('image/e2.png')"
   ]
  },
  {
   "cell_type": "code",
   "execution_count": null,
   "id": "4123f88a-6eff-43fb-945f-04e979404621",
   "metadata": {
    "execution": {
     "iopub.status.busy": "2023-08-16T16:05:12.075613Z",
     "iopub.status.idle": "2023-08-16T16:05:12.075814Z",
     "shell.execute_reply": "2023-08-16T16:05:12.075717Z",
     "shell.execute_reply.started": "2023-08-16T16:05:12.075708Z"
    },
    "tags": []
   },
   "outputs": [],
   "source": [
    "result = linregress(ini_size, fin_size)\n",
    "print(result.slope, result.intercept)\n",
    "x = np.arange(0,12.1,0.1)\n",
    "y = x*result.slope + result.intercept\n",
    "plt.scatter(ini_size,fin_size)\n",
    "plt.plot(x,y)\n",
    "plt.xlabel('initial')\n",
    "plt.ylabel('observe')\n",
    "plt.text(0,11,f'slope: {result.slope}')\n",
    "plt.text(0,10.5,f'intercept: {result.intercept}')\n",
    "plt.title('Size')\n",
    "plt.savefig('image/size.png')"
   ]
  },
  {
   "cell_type": "code",
   "execution_count": null,
   "id": "62c980b9-c4a9-4017-89e9-454566c32e0f",
   "metadata": {
    "execution": {
     "iopub.status.busy": "2023-08-16T16:05:12.076342Z",
     "iopub.status.idle": "2023-08-16T16:05:12.076486Z",
     "shell.execute_reply": "2023-08-16T16:05:12.076420Z",
     "shell.execute_reply.started": "2023-08-16T16:05:12.076413Z"
    }
   },
   "outputs": [],
   "source": [
    "result.intercept/(1-result.slope)"
   ]
  },
  {
   "cell_type": "code",
   "execution_count": null,
   "id": "5f936612-131a-45c7-8bbf-73504333c4e7",
   "metadata": {
    "execution": {
     "iopub.status.busy": "2023-08-16T16:05:12.077097Z",
     "iopub.status.idle": "2023-08-16T16:05:12.077243Z",
     "shell.execute_reply": "2023-08-16T16:05:12.077175Z",
     "shell.execute_reply.started": "2023-08-16T16:05:12.077168Z"
    },
    "tags": []
   },
   "outputs": [],
   "source": [
    "# x = np.arange(e1.shape[0])\n",
    "# plt.scatter(x,e1)\n",
    "plt.hist(e1, range=(0,300), bins = 30)\n",
    "# plt.xticks([0,5,10,15,20,40,45,50,55,60,70,75])\n",
    "plt.xlabel('difference (%)')\n",
    "plt.ylabel('counts')\n",
    "plt.title('e1')\n",
    "plt.savefig('image/histo_e1.png')"
   ]
  },
  {
   "cell_type": "code",
   "execution_count": null,
   "id": "5246f6d1-9dcf-40df-955b-a4b60db79604",
   "metadata": {
    "tags": []
   },
   "outputs": [],
   "source": []
  },
  {
   "cell_type": "code",
   "execution_count": null,
   "id": "03338bbd-cfbe-4f7c-b737-4907368b3c03",
   "metadata": {
    "execution": {
     "iopub.status.busy": "2023-08-16T16:05:12.077704Z",
     "iopub.status.idle": "2023-08-16T16:05:12.077923Z",
     "shell.execute_reply": "2023-08-16T16:05:12.077852Z",
     "shell.execute_reply.started": "2023-08-16T16:05:12.077844Z"
    },
    "tags": []
   },
   "outputs": [],
   "source": [
    "plt.hist(e2, range=(0,300), bins = 30)\n",
    "# plt.xticks([0,5,10,15,20,40,45,50,55,60,70,75])\n",
    "plt.xlabel('difference (%)')\n",
    "plt.ylabel('counts')\n",
    "plt.title('e2')\n",
    "plt.savefig('image/histo_e2.png')"
   ]
  },
  {
   "cell_type": "code",
   "execution_count": null,
   "id": "3fb8a531-4d4b-4ba2-ac3b-58adad0ea489",
   "metadata": {
    "execution": {
     "iopub.status.busy": "2023-08-16T16:05:12.078425Z",
     "iopub.status.idle": "2023-08-16T16:05:12.078568Z",
     "shell.execute_reply": "2023-08-16T16:05:12.078502Z",
     "shell.execute_reply.started": "2023-08-16T16:05:12.078494Z"
    },
    "tags": []
   },
   "outputs": [],
   "source": [
    "plt.hist2d(e1,e2,range=((0,100),(0,100)),bins=10)\n",
    "plt.colorbar()"
   ]
  },
  {
   "cell_type": "markdown",
   "id": "10bbb1ba-20c2-416f-b86c-4da11d64e2ea",
   "metadata": {},
   "source": [
    "# Multiple objects"
   ]
  },
  {
   "cell_type": "code",
   "execution_count": null,
   "id": "6a1dd3dd-c70f-48cf-9b04-a1c5f3716b7a",
   "metadata": {
    "execution": {
     "iopub.status.busy": "2023-08-16T16:05:12.078991Z",
     "iopub.status.idle": "2023-08-16T16:05:12.079133Z",
     "shell.execute_reply": "2023-08-16T16:05:12.079067Z",
     "shell.execute_reply.started": "2023-08-16T16:05:12.079060Z"
    },
    "tags": []
   },
   "outputs": [],
   "source": [
    "nobj = 100\n",
    "\n",
    "bandpass = roman_filters['Y106']\n",
    "\n",
    "psf = roman.getPSF(use_SCA, 'Y106', n_waves=10, wcs=wcs, pupil_bin=8)\n",
    "\n",
    "# Set up the full image for the galaxies\n",
    "full_image = galsim.ImageF(roman.n_pix, roman.n_pix, wcs=wcs)\n",
    "\n",
    "# image_rng = galsim.UniformDeviate(seed1 + nobj)\n",
    "\n",
    "for i_obj in range(nobj):\n",
    "    \n",
    "    obj_rng = galsim.UniformDeviate(seed + 1 + 10**6 + i_obj)\n",
    "\n",
    "    p = obj_rng()\n",
    "\n",
    "    x = obj_rng() * roman.n_pix\n",
    "    y = obj_rng() * roman.n_pix\n",
    "    image_pos = galsim.PositionD(x,y)\n",
    "    logger.debug('Position = %s',image_pos)\n",
    "\n",
    "    # Now decide which of our three kinds of objects we want to draw:\n",
    "    # 80% faint galaxy\n",
    "    # 10% star\n",
    "    # 10% bright galaxy\n",
    "    if p < 0.9:\n",
    "        # Faint galaxy\n",
    "        logger.debug('Faint galaxy')\n",
    "\n",
    "        # Select a random galaxy from the catalog.\n",
    "        obj = cat1.makeGalaxy(chromatic=True, gal_type='parametric', rng=obj_rng)\n",
    "        print(obj.index)\n",
    "        # # Rotate the galaxy randomly\n",
    "        # theta = obj_rng() * 2 * np.pi * galsim.radians\n",
    "        # logger.debug('theta = %s',theta)\n",
    "        # obj = obj.rotate(theta)\n",
    "\n",
    "    else:\n",
    "        # Bright galaxy\n",
    "        logger.debug('Bright galaxy')\n",
    "\n",
    "        obj = cat2.makeGalaxy(chromatic=True, gal_type='parametric', rng=obj_rng)\n",
    "        print(obj.index)\n",
    "        # Scale up the area by a factor of 2, and the flux by a factor of 4.\n",
    "        # This is not necessarily physical, but it is intended to add some more big,\n",
    "        # bright galaxies to the scene to make the final image a bit more interesting.\n",
    "#         obj = obj.dilate(2) * 4\n",
    "\n",
    "#         # Rotate the galaxy randomly\n",
    "#         theta = obj_rng() * 2 * np.pi * galsim.radians\n",
    "#         logger.debug('theta = %s',theta)\n",
    "#         obj = obj.rotate(theta)\n",
    "\n",
    "    # Convolve the (chromatic) object with the (chromatic) PSF.\n",
    "    final = galsim.Convolve(obj, psf)\n",
    "    stamp = final.drawImage(bandpass, center=image_pos, wcs=wcs.local(image_pos))\n",
    "\n",
    "    # Find the overlapping bounds between the large image and the individual stamp.\n",
    "    bounds = stamp.bounds & full_image.bounds\n",
    "\n",
    "    # Add this to the corresponding location in the large image.\n",
    "    full_image[bounds] += stamp[bounds]"
   ]
  },
  {
   "cell_type": "code",
   "execution_count": null,
   "id": "1df6d716-0e9f-4ac8-8263-6da2cf604edd",
   "metadata": {
    "execution": {
     "iopub.status.busy": "2023-08-16T16:05:12.079632Z",
     "iopub.status.idle": "2023-08-16T16:05:12.079773Z",
     "shell.execute_reply": "2023-08-16T16:05:12.079708Z",
     "shell.execute_reply.started": "2023-08-16T16:05:12.079701Z"
    },
    "tags": []
   },
   "outputs": [],
   "source": [
    "full_image"
   ]
  },
  {
   "cell_type": "code",
   "execution_count": null,
   "id": "ae2c2d31-0d92-4cc3-a73e-4879d264ba0d",
   "metadata": {
    "execution": {
     "iopub.status.busy": "2023-08-16T16:05:12.080201Z",
     "iopub.status.idle": "2023-08-16T16:05:12.080341Z",
     "shell.execute_reply": "2023-08-16T16:05:12.080276Z",
     "shell.execute_reply.started": "2023-08-16T16:05:12.080269Z"
    },
    "tags": []
   },
   "outputs": [],
   "source": [
    "data=fits.open(\"output/demo13_Z087.fits\")\n",
    "data=data[0].data\n",
    "\n",
    "m, s = np.mean(data), np.std(data)\n",
    "plt.imshow(data, interpolation='nearest', cmap='gray', vmin=m-s, vmax=m+s, origin='lower')\n",
    "plt.colorbar();"
   ]
  },
  {
   "cell_type": "code",
   "execution_count": null,
   "id": "05e6d92c-3048-43cd-9605-d39c42d75235",
   "metadata": {
    "execution": {
     "iopub.status.busy": "2023-08-16T16:05:12.080799Z",
     "iopub.status.idle": "2023-08-16T16:05:12.080937Z",
     "shell.execute_reply": "2023-08-16T16:05:12.080873Z",
     "shell.execute_reply.started": "2023-08-16T16:05:12.080866Z"
    },
    "tags": []
   },
   "outputs": [],
   "source": [
    "import sep\n",
    "\n",
    "data = data.byteswap(inplace=True).newbyteorder()\n",
    "bkg = sep.Background(data)\n",
    "bkg_image = bkg.back()\n",
    "bkg_rms = bkg.rms()\n",
    "data_sub = data - bkg\n",
    "objects = sep.extract(data_sub, 1.5, err=bkg.globalrms)\n",
    "len(objects)"
   ]
  },
  {
   "cell_type": "code",
   "execution_count": null,
   "id": "2999eb11-86c4-4960-9115-31ed35502b58",
   "metadata": {
    "execution": {
     "iopub.status.busy": "2023-08-16T16:05:12.081358Z",
     "iopub.status.idle": "2023-08-16T16:05:12.081500Z",
     "shell.execute_reply": "2023-08-16T16:05:12.081437Z",
     "shell.execute_reply.started": "2023-08-16T16:05:12.081430Z"
    },
    "tags": []
   },
   "outputs": [],
   "source": [
    "from matplotlib.patches import Ellipse\n",
    "\n",
    "# plot background-subtracted image\n",
    "fig, ax = plt.subplots()\n",
    "m, s = np.mean(data_sub), np.std(data_sub)\n",
    "im = ax.imshow(data_sub, interpolation='nearest', cmap='gray',\n",
    "               vmin=m-s, vmax=m+s, origin='lower')\n",
    "\n",
    "# plot an ellipse for each object\n",
    "for i in range(len(objects)):\n",
    "    e = Ellipse(xy=(objects['x'][i], objects['y'][i]),\n",
    "                width=6*objects['a'][i],\n",
    "                height=6*objects['b'][i],\n",
    "                angle=objects['theta'][i] * 180. / np.pi)\n",
    "    e.set_facecolor('none')\n",
    "    e.set_edgecolor('red')\n",
    "    ax.add_artist(e)"
   ]
  },
  {
   "cell_type": "code",
   "execution_count": null,
   "id": "a11aade3-e256-40b9-8206-2b327fef1026",
   "metadata": {},
   "outputs": [],
   "source": []
  }
 ],
 "metadata": {
  "kernelspec": {
   "display_name": "Python 3 (ipykernel)",
   "language": "python",
   "name": "python3"
  },
  "language_info": {
   "codemirror_mode": {
    "name": "ipython",
    "version": 3
   },
   "file_extension": ".py",
   "mimetype": "text/x-python",
   "name": "python",
   "nbconvert_exporter": "python",
   "pygments_lexer": "ipython3",
   "version": "3.9.13"
  }
 },
 "nbformat": 4,
 "nbformat_minor": 5
}
